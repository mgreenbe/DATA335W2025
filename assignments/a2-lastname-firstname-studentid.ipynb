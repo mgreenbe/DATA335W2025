{
 "cells": [
  {
   "cell_type": "markdown",
   "metadata": {},
   "source": [
    "## Data 335 &mdash; Winter 2025 &mdash; Assignment 1\n",
    "\n",
    "#### Due: 2025.02.03 at 23:59\n",
    "\n",
    "#### Instructions\n",
    "\n",
    "- Save a copy of this file, changing its name to include your name and student ID as indicated.\n",
    "\n",
    "- Solve the problems, adding code and markdown cells as needed.\n",
    "\n",
    "- Your code should be runnable! Before submitting your work, *Restart* your environment and *Run All* to verify that everything works.\n",
    "\n",
    "- Please submit a `.pdf` export of your notebook (with the same name stem) to the D2L dropbox in addition to the `.ipynb` file. If you're using VS Code, click the three dots (button bar, top right) and select *Export*.\n",
    "\n",
    "#### Grading\n",
    "- All problems have equal weight.\n",
    "\n",
    "- Half-credit will be awarded for substantial progress towards a solution."
   ]
  },
  {
   "cell_type": "code",
   "execution_count": 1,
   "metadata": {},
   "outputs": [],
   "source": [
    "import numpy as np\n",
    "import pandas as pd"
   ]
  },
  {
   "cell_type": "markdown",
   "metadata": {},
   "source": [
    "#### 1. Lab 1, GHV Exercise 4.4: Designing an experiment (😖/🫤/😇)\n",
    "You want to gather data to determine which of two students is a better basketball shooter.\n",
    "You plan to have each student take $n$ shots and then compare their shooting percentages.\n",
    "Roughly how large does $n$ have to be for you to have a good chance of distinguishing a 30% shooter from a 40% shooter?"
   ]
  },
  {
   "cell_type": "markdown",
   "metadata": {},
   "source": [
    "#### 2. Lab 1, Nonresponse bias in survey data, task 4 (😖/🫤/😇)"
   ]
  },
  {
   "cell_type": "markdown",
   "metadata": {},
   "source": [
    "#### 3. Happiness and Satisfaction Survey (😖/🫤/😇)\n",
    "\n",
    "Here's some summary data derived from polling firm Angus Reid's recent Happiness and Satisfaction Survey. `p` is the proportion of respondents who report being happy, and `se` is the associated standard error."
   ]
  },
  {
   "cell_type": "code",
   "execution_count": 5,
   "metadata": {},
   "outputs": [
    {
     "data": {
      "text/html": [
       "<div>\n",
       "<style scoped>\n",
       "    .dataframe tbody tr th:only-of-type {\n",
       "        vertical-align: middle;\n",
       "    }\n",
       "\n",
       "    .dataframe tbody tr th {\n",
       "        vertical-align: top;\n",
       "    }\n",
       "\n",
       "    .dataframe thead th {\n",
       "        text-align: right;\n",
       "    }\n",
       "</style>\n",
       "<table border=\"1\" class=\"dataframe\">\n",
       "  <thead>\n",
       "    <tr style=\"text-align: right;\">\n",
       "      <th></th>\n",
       "      <th>p</th>\n",
       "      <th>se</th>\n",
       "    </tr>\n",
       "    <tr>\n",
       "      <th>region</th>\n",
       "      <th></th>\n",
       "      <th></th>\n",
       "    </tr>\n",
       "  </thead>\n",
       "  <tbody>\n",
       "    <tr>\n",
       "      <th>BC</th>\n",
       "      <td>0.61</td>\n",
       "      <td>0.03</td>\n",
       "    </tr>\n",
       "    <tr>\n",
       "      <th>AB</th>\n",
       "      <td>0.60</td>\n",
       "      <td>0.04</td>\n",
       "    </tr>\n",
       "    <tr>\n",
       "      <th>SK</th>\n",
       "      <td>0.53</td>\n",
       "      <td>0.05</td>\n",
       "    </tr>\n",
       "    <tr>\n",
       "      <th>MB</th>\n",
       "      <td>0.65</td>\n",
       "      <td>0.04</td>\n",
       "    </tr>\n",
       "    <tr>\n",
       "      <th>ON</th>\n",
       "      <td>0.55</td>\n",
       "      <td>0.02</td>\n",
       "    </tr>\n",
       "    <tr>\n",
       "      <th>QC</th>\n",
       "      <td>0.74</td>\n",
       "      <td>0.02</td>\n",
       "    </tr>\n",
       "    <tr>\n",
       "      <th>ATL</th>\n",
       "      <td>0.63</td>\n",
       "      <td>0.04</td>\n",
       "    </tr>\n",
       "  </tbody>\n",
       "</table>\n",
       "</div>"
      ],
      "text/plain": [
       "           p    se\n",
       "region            \n",
       "BC      0.61  0.03\n",
       "AB      0.60  0.04\n",
       "SK      0.53  0.05\n",
       "MB      0.65  0.04\n",
       "ON      0.55  0.02\n",
       "QC      0.74  0.02\n",
       "ATL     0.63  0.04"
      ]
     },
     "execution_count": 5,
     "metadata": {},
     "output_type": "execute_result"
    }
   ],
   "source": [
    "region = [\"BC\", \"AB\", \"SK\", \"MB\", \"ON\", \"QC\", \"ATL\"]\n",
    "p = np.array([0.61, 0.60, 0.53, 0.65, 0.55, 0.74, 0.63])\n",
    "se = np.array([0.03, 0.04, 0.05, 0.04, 0.02, 0.02, 0.04])\n",
    "df = pd.DataFrame(dict(region=region, p=p, se=se)).set_index(\"region\")\n",
    "df"
   ]
  },
  {
   "cell_type": "markdown",
   "metadata": {},
   "source": [
    "Weighing each region by its share of total population (look it up), give a pooled estimate for happiness across all surveyed regions as well as the associated standard error.\n",
    "\n",
    "**Angus-Reid Happiness and Satisfaction Survey:**\n",
    "[press release](https://angusreid.org/canadian-happiness-decade-decline/), \n",
    "[summary](https://angusreid.org/wp-content/uploads/2024/11/2024.11.07_Happiness.pdf)"
   ]
  },
  {
   "cell_type": "markdown",
   "metadata": {},
   "source": [
    "#### 4. GHV Exercise 4.10: Survey weighting (😖/🫤/😇)\n",
    "\n",
    "Compare two options for a national opinion survey: (a) a simple random\n",
    "sample of 1000 Americans, or (b) a survey that oversamples Latinos, with 300 randomly sampled\n",
    "Latinos and 700 others randomly sampled from the non-Latino population. One of these options\n",
    "will give more accurate comparisons between Latinos and others; the other will give more\n",
    "accurateestimates forthe total population average.\n",
    "\n",
    "a. Which option gives more accurate comparisons and which option gives more accurate\n",
    "population estimates?\n",
    "\n",
    "b. Explain your answer above by computing standard errors for the Latino/other comparison and\n",
    "the national average under each design. Assume that the national population is 15% Latino,\n",
    "that the items of interest are yes/no questions with approximately equal proportions of each\n",
    "response, and (unrealistically) that the surveys have no problems with nonresponse."
   ]
  },
  {
   "cell_type": "markdown",
   "metadata": {},
   "source": [
    "#### 5. GHV Exercise 6.6: Selection on $x$ or $y$ (😖/🫤/😇)\n",
    "\n",
    "a. Repeat the analysis in Section 6.4 using the same data, but just analyzing the observations for mothers' heights less than the mean. Confirm that the estimated regression parameters are roughly the same as were obtained by fitting the model to all the data.\n",
    "\n",
    "b. Repeat the analysis in Section 6.4 using the same data, but just analyzing the observations for daughters' heights less than the mean. Compare the estimated regression parameters and\n",
    "discuss how they differ from what was obtained by fitting themodel to all the data.\n",
    "\n",
    "c. Explain why selecting on daughters’ heights had so much more of an effect on the fit than\n",
    "selecting on mothers' heights."
   ]
  },
  {
   "cell_type": "markdown",
   "metadata": {},
   "source": [
    "#### 6. Lab 2, GHV Exercise 7.6: Comparisons as regression models (😖/🫤/😇)\n",
    "\n",
    "Take the election forecasting model discussed in Lecture 6 (2025.01.24) and simplify it by creating a binary predictor defined as $x = 0$ if income growth is less than 2% and $x = 1$ if income growth is more than 2%.\n",
    "\n",
    "   a. Compute the difference in incumbent party’s vote share on average, comparing those two\n",
    "groups of elections, and determine the standard error for this difference.\n",
    "\n",
    "   b. Regress the incumbent party’s vote share on the binary predictor of income growth and check that the resulting estimate and standard error are the same as above."
   ]
  }
 ],
 "metadata": {
  "kernelspec": {
   "display_name": ".venv",
   "language": "python",
   "name": "python3"
  },
  "language_info": {
   "codemirror_mode": {
    "name": "ipython",
    "version": 3
   },
   "file_extension": ".py",
   "mimetype": "text/x-python",
   "name": "python",
   "nbconvert_exporter": "python",
   "pygments_lexer": "ipython3",
   "version": "3.12.7"
  }
 },
 "nbformat": 4,
 "nbformat_minor": 2
}
