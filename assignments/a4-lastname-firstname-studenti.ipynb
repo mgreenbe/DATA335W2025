{
 "cells": [
  {
   "cell_type": "markdown",
   "metadata": {},
   "source": [
    "### Counting bald eagles\n",
    "\n",
    "The file `data/bald_eagles.csv` contains annual counts of bald eagle sightings in Ontario. THe column `hours` records the number of hours of observation during which the bald eagle sightings were recorded &mdash; the *exposure*, in the count regression jargon.\n",
    "\n",
    "Fit Poisson and negative binomial models to the count, using `year` as a covariate. How do the models compare? According to these models, have eagle sighting significantly incrased or decreased year-over-year between 1981 and 2007?"
   ]
  },
  {
   "cell_type": "markdown",
   "metadata": {},
   "source": [
    "### The hierarchical model\n",
    "\n",
    "Consider the hierarchical model,\n",
    "\n",
    "$$\n",
    "\\begin{aligned}\n",
    "u&\\sim N(\\beta_0, \\sigma_0^2),\\\\\n",
    "\\mathbf{y}\\mid u &\\sim N(u\\boldsymbol{1}_n,\\sigma^2I_{n\\times n}),\n",
    "\\end{aligned}\n",
    "$$\n",
    "where, $\\boldsymbol{1}_n$ is the $n$-dimensional vector of all ones and $I_{n\\times n}$ is the $n\\times n$ identity matrix.\n",
    "\n",
    "Write a funtion `draw` to generate `r` independent samples of size `n` from this distribution. Its signature should be as follows:\n",
    "\n",
    "- Inputs:\n",
    "  - integer `r`\n",
    "  - integer `n`\n",
    "  - `beta0` (default value `0.0`)\n",
    "  - `sigma0` (default value `1.0`)\n",
    "  - `sigma` (default value `1.0`)\n",
    "\n",
    "- Outputs:\n",
    "  - NumPy array `u` with shape `(r,)`\n",
    "  - NumPy array `y` with shape `(n, r)`"
   ]
  },
  {
   "cell_type": "code",
   "execution_count": null,
   "metadata": {},
   "outputs": [],
   "source": [
    "def draw(r, n, beta0=0.0, sigma0=1.0, sigma=1.0):\n",
    "    ...\n",
    "    return u, y"
   ]
  },
  {
   "cell_type": "markdown",
   "metadata": {},
   "source": [
    "The marginal distribution of $\\mathbf{y}$ can is known from ***The Theory***:\n",
    "$$\n",
    "\\mathbf{y}\\sim N(\\beta_0\\mathbf{1}_n, \\sigma_0^2\\mathbf{1}_{n\\times n} + \\sigma^2I_{n\\times n})\n",
    "$$\n",
    "Here, $\\mathbf{1}_{n\\times n}$ is the $n\\times n$ matrix of all ones.\n",
    "\n",
    "Estimate the marginal expectation vector $\\mathbb{E}[\\mathbf{y}]$ and marginal covariance matrix $\\mathbb{V}[\\mathbf{y}]$ in the case\n",
    "$$\n",
    "n=5,\\quad \\beta_0=4,\\quad \\sigma_0=2,\\quad \\sigma=1\n",
    "$$\n",
    "from a million samples from your `draw` function. Confirm that they're close to the theoretical values above."
   ]
  },
  {
   "cell_type": "code",
   "execution_count": null,
   "metadata": {},
   "outputs": [],
   "source": [
    "n = 5\n",
    "beta0 = 4.0\n",
    "sigma0 = 2.0\n",
    "sigma = 1.0\n",
    "r = 10_000_000\n",
    "u, y = draw(r, n, beta0=beta0, sigma0=sigma0, sigma=sigma)\n",
    "\n",
    "..."
   ]
  },
  {
   "cell_type": "markdown",
   "metadata": {},
   "source": [
    "From ***The Theory***, \n",
    "$$\n",
    "u-\\bar{y}\\sim N\\left(0,\\; \\frac{\\sigma_0^2\\sigma^2/n}{\\sigma_0^2 + \\sigma^2/n}\\right)\n",
    "$$\n",
    "where\n",
    "$$\n",
    "\\bar{y}=\\frac1n\\sum_{i < n}y_i.\n",
    "$$\n",
    "\n",
    "Using the `u` and `y` generated above, plot a histogram representing the distribution of $u-\\bar{y}$ and together with PDF of the above normal distribution. (They should match.)"
   ]
  }
 ],
 "metadata": {
  "kernelspec": {
   "display_name": ".venv",
   "language": "python",
   "name": "python3"
  },
  "language_info": {
   "codemirror_mode": {
    "name": "ipython",
    "version": 3
   },
   "file_extension": ".py",
   "mimetype": "text/x-python",
   "name": "python",
   "nbconvert_exporter": "python",
   "pygments_lexer": "ipython3",
   "version": "3.12.9"
  }
 },
 "nbformat": 4,
 "nbformat_minor": 2
}
