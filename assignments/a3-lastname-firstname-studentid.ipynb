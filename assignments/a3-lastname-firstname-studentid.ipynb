{
 "cells": [
  {
   "cell_type": "markdown",
   "metadata": {},
   "source": [
    "## Data 335 &mdash; Winter 2025 &mdash; Assignment 3\n",
    "\n",
    "#### Due: 2025.03.24 at 23:59\n",
    "\n",
    "#### Instructions\n",
    "\n",
    "- Save a copy of this file, changing its name to include your name and student ID as indicated.\n",
    "\n",
    "- Solve the problems, adding code and markdown cells as needed.\n",
    "\n",
    "- Your code should be runnable! Before submitting your work, *Restart* your environment and *Run All* to verify that everything works.\n",
    "\n",
    "- Please submit a `.pdf` export of your notebook (with the same name stem) to the D2L dropbox in addition to the `.ipynb` file. If you're using VS Code, click the three dots (button bar, top right) and select *Export*.\n",
    "\n",
    "#### Grading\n",
    "\n",
    "- Half-credit will be awarded for substantial progress towards a solution.\n",
    "\n",
    "- Problems two and three have equal weight, twice that of problem one."
   ]
  },
  {
   "cell_type": "markdown",
   "metadata": {},
   "source": [
    "### Problem 1: Pandas practice\n",
    "\n",
    "***To do:*** For regular season games, a CFL team is awarded 0 points (PTS) for a loss (L), 1 point for a tie (T), and 2 points for a win (W).\n",
    "\n",
    "Calculate each teams regular season points using the data in `data/2024CFLScores.csv` using *Pandas techniques* &mdash; no loops or comprehensions!\n",
    "  - Add a column `host_pts`. It's $j$-th entry should be `0`, `1`, or `2` according to whether the host team loses, wins, or ties.\n",
    "  - Add a column `visitor_pts` in like manner.\n",
    "  - Compute the points earned by each team, over the entire regular season, for home games. Use `groupby` and `agg`.\n",
    "  - Do the analogous calculation for points earned in away games. Add to the result of the previous step.\n",
    "  - Verify that your calculation matches [the official standings](https://www.cfl.ca/2024standings/)."
   ]
  },
  {
   "cell_type": "markdown",
   "metadata": {},
   "source": [
    "### Problem 2: Generative Bradley-Terry\n",
    "\n",
    "Use the Bradley-Terry model *without home-field advantage considerations*, \n",
    "$$\n",
    "\\operatorname{logit}p_{ij} = \\beta_i - \\beta_j,\n",
    "$$\n",
    "to generate the results of a CFL season.\n",
    "Here, $i$ is the host team, $j$ is the visiting team, $\\beta_i$ and $\\beta_j$ are their skill levels, and $p_{ij}$ represents the probability of team $i$ winning a game against team $j$. (Even though home field advantage isn't playing a role in the model, it's still useful to keep track of host and visitor for disambiguation.)\n",
    "\n",
    "***To do:*** Write a function `draw_season` do draw a sample\n",
    "$$\n",
    "y\\sim \\operatorname{Bernoulli}(\\operatorname{expit}(X\\beta)),\n",
    "$$\n",
    "where $X$ is the design matrix you constructed in Lab 6 and $\\beta_i$ is the points total (PTS) for $i$ from the 2024 regular season (see the previous problem). Your function should take a single keyword argument &mdash; a seed &mdash; that determines the output unless its value the default `None`, in which case output should be unpredictable. \n",
    "\n",
    "***To do:*** Write another function that takes the output of `draw_season` and computes the corresponding PTS for each team. Generate a histogram for each team based on many replicated seasons. Indicate the true 2024 PTS value on the plots with a vertical line. How well do the simulated PTS match the real ones? Are the Bradley-Terry skill levels $\\beta_i$ and the standings points PTS giving comparable rankings?"
   ]
  },
  {
   "cell_type": "markdown",
   "metadata": {},
   "source": [
    "### Problem 3: Bradley-Terry Priors\n",
    "\n",
    "A Bayesian version of the Bradley-Terry ranking model requires a choice of priors for the team skill levels $\\beta_i$. What makes a reasonable prior?\n",
    "A natural source of prior information is the previous (2023) CFL season.\n",
    "\n",
    "***To do:*** Use `statsmodels` to fit a Bradley-Terry model with home field advantage to the 2023 CFL regular season data in `data/2023CFLScores.csv`, just like in Lab 6. Keep using Calgary (`CGY`) as the refernce team with skill level pinned to zero. \n",
    "\n",
    "Let $\\gamma_0$ be the estimate for home-field advantage in 2023 and let $\\tau_0$ be its standard error.\n",
    "Similarly, let $\\gamma_i$ be the estimate for the the skill level of team $i$ in 2023 and let $\\tau_i$ be its standard error.\n",
    "(These quantities are stored on the `statsmodels` fit object.)\n",
    "\n",
    "I'm willing to make the hypothesis that the home-field advantage doesn't change much year-to-year.\n",
    "Thus, $N(\\gamma_0, \\tau_0^2)$ seems like a reasonable prior for $\\beta_0$, the home-field advantage parameter for 2024.\n",
    "\n",
    "On the team level, there is more uncertainty: players change teams, coaches and strategies change.\n",
    "To encode this extra uncertainly, let's use $N(\\gamma_i, (2\\tau_i)^2)$ as a prior for $\\beta_i$, the skill level parameter for the 2024 incarnation of team $i$.\n",
    "\n",
    "***To do:*** Use Bambi to fit a Bayesian Bradley-Terry model with home-field advantage to the 2024 CFL data, with priors as described above. Compare the resulting posterior means and standard errors to the coefficient and standard error estimates obtained from a fit using `statsmodels`. If they're quite different, then our priors might not be well-calibrated and are exerting too strong an influence. Increase the uncertainty in the prior distributions and fit the Bambi model again.\n",
    "\n",
    "***Optional to do:*** Fit Bambi models on all games through week $k$, for all $k$ and study the evolution of the posterior from the 2023 prior through the end of the regular season. Produce some illustrative plots.\n"
   ]
  }
 ],
 "metadata": {
  "kernelspec": {
   "display_name": ".venv",
   "language": "python",
   "name": "python3"
  },
  "language_info": {
   "codemirror_mode": {
    "name": "ipython",
    "version": 3
   },
   "file_extension": ".py",
   "mimetype": "text/x-python",
   "name": "python",
   "nbconvert_exporter": "python",
   "pygments_lexer": "ipython3",
   "version": "3.12.9"
  }
 },
 "nbformat": 4,
 "nbformat_minor": 2
}
