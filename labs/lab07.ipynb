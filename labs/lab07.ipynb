{
 "cells": [
  {
   "cell_type": "markdown",
   "metadata": {},
   "source": [
    "# DATA 335 - Winter 2025 - Lab 6\n",
    "\n",
    "## Logistic regression: complete separation\n",
    "\n",
    "2025.03.11, 14:00-15:50, MS 521"
   ]
  },
  {
   "cell_type": "code",
   "execution_count": null,
   "metadata": {},
   "outputs": [],
   "source": [
    "import numpy as np\n",
    "from matplotlib import pyplot as plt\n",
    "from sklearn.datasets import load_iris\n",
    "from sklearn.linear_model import LogisticRegression\n",
    "from sklearn.metrics import accuracy_score\n",
    "import bambi as bmb\n",
    "import arviz as az"
   ]
  },
  {
   "cell_type": "markdown",
   "metadata": {},
   "source": [
    "Here is a function to load in classes 0 and 1 of the three class iris classification dataset that ships with Scikit-Learn:"
   ]
  },
  {
   "cell_type": "code",
   "execution_count": 28,
   "metadata": {},
   "outputs": [],
   "source": [
    "def load_iris_01():\n",
    "    X, y = load_iris(return_X_y=True, as_frame=True)\n",
    "    indices = np.logical_or(y == 0, y == 1)\n",
    "    X = X[indices]\n",
    "    y = y[indices]\n",
    "    return X, y"
   ]
  },
  {
   "cell_type": "markdown",
   "metadata": {},
   "source": [
    "**To do:** Fit a Scikit-Learn logistic regression model (`sklearn.linear_model.LogisticRegression`) to the two-class iris data with `penalty` set to `None`. Verify that the training accuracy score (`sklearn.metrics.accuracy_score`) is `1.0`."
   ]
  },
  {
   "cell_type": "code",
   "execution_count": 30,
   "metadata": {},
   "outputs": [
    {
     "data": {
      "text/html": [
       "<div>\n",
       "<style scoped>\n",
       "    .dataframe tbody tr th:only-of-type {\n",
       "        vertical-align: middle;\n",
       "    }\n",
       "\n",
       "    .dataframe tbody tr th {\n",
       "        vertical-align: top;\n",
       "    }\n",
       "\n",
       "    .dataframe thead th {\n",
       "        text-align: right;\n",
       "    }\n",
       "</style>\n",
       "<table border=\"1\" class=\"dataframe\">\n",
       "  <thead>\n",
       "    <tr style=\"text-align: right;\">\n",
       "      <th></th>\n",
       "      <th>sepal length (cm)</th>\n",
       "      <th>sepal width (cm)</th>\n",
       "      <th>petal length (cm)</th>\n",
       "      <th>petal width (cm)</th>\n",
       "    </tr>\n",
       "  </thead>\n",
       "  <tbody>\n",
       "    <tr>\n",
       "      <th>0</th>\n",
       "      <td>5.1</td>\n",
       "      <td>3.5</td>\n",
       "      <td>1.4</td>\n",
       "      <td>0.2</td>\n",
       "    </tr>\n",
       "    <tr>\n",
       "      <th>1</th>\n",
       "      <td>4.9</td>\n",
       "      <td>3.0</td>\n",
       "      <td>1.4</td>\n",
       "      <td>0.2</td>\n",
       "    </tr>\n",
       "    <tr>\n",
       "      <th>2</th>\n",
       "      <td>4.7</td>\n",
       "      <td>3.2</td>\n",
       "      <td>1.3</td>\n",
       "      <td>0.2</td>\n",
       "    </tr>\n",
       "    <tr>\n",
       "      <th>3</th>\n",
       "      <td>4.6</td>\n",
       "      <td>3.1</td>\n",
       "      <td>1.5</td>\n",
       "      <td>0.2</td>\n",
       "    </tr>\n",
       "    <tr>\n",
       "      <th>4</th>\n",
       "      <td>5.0</td>\n",
       "      <td>3.6</td>\n",
       "      <td>1.4</td>\n",
       "      <td>0.2</td>\n",
       "    </tr>\n",
       "  </tbody>\n",
       "</table>\n",
       "</div>"
      ],
      "text/plain": [
       "   sepal length (cm)  sepal width (cm)  petal length (cm)  petal width (cm)\n",
       "0                5.1               3.5                1.4               0.2\n",
       "1                4.9               3.0                1.4               0.2\n",
       "2                4.7               3.2                1.3               0.2\n",
       "3                4.6               3.1                1.5               0.2\n",
       "4                5.0               3.6                1.4               0.2"
      ]
     },
     "execution_count": 30,
     "metadata": {},
     "output_type": "execute_result"
    }
   ],
   "source": [
    "X, y = load_iris_01()\n",
    "\n",
    "X.head()"
   ]
  },
  {
   "cell_type": "markdown",
   "metadata": {},
   "source": [
    "**To do:** Try using statsmodels to fit a logistic regression model (`statsmodels.api.Logit`) to the data. Expect warnings about \"perfect separation\" or \"possibly complete quasi-separation\". Note the sizes of the standard errors in the fit object returned by `Logit.fit`.\n",
    "\n",
    "Logistic regression models are fit by trying to find the coefficient vectors $c$ that minimize **log-loss**:\n",
    "$$\n",
    "\\min_c L(c)\n",
    "\\tag{$*$}\n",
    "$$\n",
    "where\n",
    "$$\n",
    "L(c) = - \\frac1n\\sum_{i<n}\\left(y_i\\log\\sigma(c\\cdot x_i) +  (1 - y_i)\\log(1 - \\sigma(c\\cdot x_i))\\right)\n",
    "$$\n",
    "\n",
    "When the classes are linearly separable &mdash; there's a hyperplane in features space with all of class 0 on one side and all of class 1 on the other &mdash; then ($*$) has no solution.\n",
    "\n",
    "In what follows, we'll figure out why this is."
   ]
  },
  {
   "cell_type": "markdown",
   "metadata": {},
   "source": [
    "The iris dataset has a 4-dimensional feature space. Let's take a step back and consider the 1-dimensional case.\n",
    "\n",
    "Here's a construction of a classification dataset with a single feature $x$ and perfect separation according to whether $x>0$ or $x<0$:"
   ]
  },
  {
   "cell_type": "code",
   "execution_count": 14,
   "metadata": {},
   "outputs": [
    {
     "data": {
      "image/png": "[encoded data removed]",
      "text/plain": [
       "<Figure size 500x300 with 1 Axes>"
      ]
     },
     "metadata": {},
     "output_type": "display_data"
    }
   ],
   "source": [
    "n = 20\n",
    "rng = np.random.default_rng(42)\n",
    "x = rng.normal(size=n)\n",
    "X = x.reshape(-1, 1)\n",
    "y = x > 0\n",
    "\n",
    "plt.figure(figsize=(5, 3))\n",
    "plt.scatter(x, y, c=y)\n",
    "u = np.linspace(*plt.xlim(), 100)\n",
    "plt.plot([0, 0], [-0.1, 1.1], \"k--\")\n",
    "plt.title(\"Perfect separation\")\n",
    "plt.show()"
   ]
  },
  {
   "cell_type": "markdown",
   "metadata": {},
   "source": [
    "Consider fitting a logistic regression model **without intercept** to this dataset, i.e., minimizing\n",
    "$$\n",
    "L(c) = - \\frac1n\\sum_{i<n}\\left(y_i\\log\\sigma(c x_i) +  (1 - y_i)\\log(1 - \\sigma(c x_i))\\right).\n",
    "$$\n",
    "over numbers $c$.\n",
    "\n",
    "**To do:** Plot $L(c)$ versus $c$ for an evenly-spaced grid of 100 values between 0 and 20. What do you observe?\n",
    "\n",
    "Feel free to use Scikit-Learn's built-in log-loss function, `sklearn.metrics.log_loss`.\n",
    "\n",
    "The **sigmoid** or **expit** function $\\sigma$ is available through the Scipy package as `scipy.special.expit`. It's defined by\n",
    "$$\n",
    "\\sigma(u) = \\frac1{1 + e^{-u}}.\n",
    "$$"
   ]
  },
  {
   "cell_type": "code",
   "execution_count": null,
   "metadata": {},
   "outputs": [],
   "source": []
  },
  {
   "cell_type": "markdown",
   "metadata": {},
   "source": [
    "Since\n",
    "$$\n",
    "y_i = 0\\Longleftrightarrow x_i < 0\\quad\\text{and}\n",
    "y_i = 1\\Longleftrightarrow x_i > 0,\n",
    "$$\n",
    "we have\n",
    "$$\n",
    "L(c) = -\\frac1n\\left\\{\\sum_{i\\,:\\,x_i > 0} \\log\\sigma(cx_i) + \\sum_{i\\,:\\,x_i < 0} \\log(1 - \\sigma(cx_i))\\right\\}\n",
    "$$\n",
    "\n",
    "**To do:** For each $i$ with $x_i > 0$ (resp., $x_i < 0$), plot $\\log\\sigma(cx_i)$ (resp. $\\log(1 - \\sigma(cx_i))$) versus $c$ on the left panel (resp., right panel) of the plot in the cell below. \n",
    "\n",
    "You should observe that each term in the sum for $L(c)$ decays to $0$ as $c\\to\\infty$."
   ]
  },
  {
   "cell_type": "code",
   "execution_count": null,
   "metadata": {},
   "outputs": [],
   "source": []
  },
  {
   "cell_type": "markdown",
   "metadata": {},
   "source": [
    "**To do:** *Prove* that each term in the sum for $L(c)$ decays to $0$ as $c\\to\\infty$. Proceed as follows, using the definition of $\\sigma$ together with properties of exponentials and logarithms:\n",
    "\n",
    "- Explain why\n",
    "  $$\n",
    "  \\lim_{u\\to\\infty} \\log\\sigma(u) = 0.\n",
    "  $$\n",
    "\n",
    "- Conclude that if $x > 0$, then\n",
    "  $$\n",
    "  \\lim_{c\\to\\infty} \\log\\sigma(cx) = 0.\n",
    "  $$\n",
    "\n",
    "- Explain why\n",
    "  $$\n",
    "  \\lim_{u\\to-\\infty} \\log(1 - \\sigma(u)) = 0.\n",
    "  $$\n",
    "\n",
    "- Conclude that if $x < 0$, then\n",
    "  $$\n",
    "  \\lim_{c\\to\\infty} \\log(1 - \\sigma(cx)) = 0.\n",
    "  $$\n",
    "\n",
    "- Conclude that\n",
    "  $$\n",
    "  \\lim_{c\\to\\infty} L(c) = 0\n",
    "  $$\n"
   ]
  },
  {
   "cell_type": "markdown",
   "metadata": {},
   "source": [
    "Now let's return to the two-class iris dataset.\n",
    "\n",
    "Using Scikit-Learn's logistic regression, we extract a hyperplane $v_0\\cdot x = 0$ that separates class 0 from class 1 in 4-dimensional feature space:"
   ]
  },
  {
   "cell_type": "code",
   "execution_count": 26,
   "metadata": {},
   "outputs": [
    {
     "name": "stdout",
     "output_type": "stream",
     "text": [
      "v0 = [-1.26145424 -4.44578623  6.60584726  3.20483996]\n"
     ]
    }
   ],
   "source": [
    "X, y = load_iris_01()\n",
    "\n",
    "model = LogisticRegression(penalty=None, fit_intercept=False)\n",
    "model.fit(X, y)\n",
    "assert accuracy_score(y, model.predict(X)) == 1\n",
    "\n",
    "v0 = model.coef_.squeeze()\n",
    "print(f\"v0 = {v0}\")\n",
    "\n",
    "assert np.all(X[y == 0] @ v0 < 0)\n",
    "assert np.all(X[y == 1] @ v0 > 0)"
   ]
  },
  {
   "cell_type": "markdown",
   "metadata": {},
   "source": [
    "**To do:** Plot $L(cv_0)$ versus $c$ for an evenly-spaced grid of 100 values between 0 and 1. What do you observe?"
   ]
  },
  {
   "cell_type": "code",
   "execution_count": null,
   "metadata": {},
   "outputs": [],
   "source": []
  },
  {
   "cell_type": "markdown",
   "metadata": {},
   "source": [
    "**To do:** Prove that\n",
    "$$\n",
    "\\lim_{c\\to\\infty} L(cv_0) = 0.\n",
    "$$\n",
    "\n",
    "Hint: Reduce to the 1-dimensional case (analyzed above) by letting $z_i = v_0\\cdot x_i$."
   ]
  },
  {
   "cell_type": "code",
   "execution_count": null,
   "metadata": {},
   "outputs": [
    {
     "data": {
      "text/html": [
       "<div>\n",
       "<style scoped>\n",
       "    .dataframe tbody tr th:only-of-type {\n",
       "        vertical-align: middle;\n",
       "    }\n",
       "\n",
       "    .dataframe tbody tr th {\n",
       "        vertical-align: top;\n",
       "    }\n",
       "\n",
       "    .dataframe thead th {\n",
       "        text-align: right;\n",
       "    }\n",
       "</style>\n",
       "<table border=\"1\" class=\"dataframe\">\n",
       "  <thead>\n",
       "    <tr style=\"text-align: right;\">\n",
       "      <th></th>\n",
       "      <th>sl</th>\n",
       "      <th>sw</th>\n",
       "      <th>pl</th>\n",
       "      <th>pw</th>\n",
       "    </tr>\n",
       "  </thead>\n",
       "  <tbody>\n",
       "    <tr>\n",
       "      <th>0</th>\n",
       "      <td>5.1</td>\n",
       "      <td>3.5</td>\n",
       "      <td>1.4</td>\n",
       "      <td>0.2</td>\n",
       "    </tr>\n",
       "    <tr>\n",
       "      <th>1</th>\n",
       "      <td>4.9</td>\n",
       "      <td>3.0</td>\n",
       "      <td>1.4</td>\n",
       "      <td>0.2</td>\n",
       "    </tr>\n",
       "    <tr>\n",
       "      <th>2</th>\n",
       "      <td>4.7</td>\n",
       "      <td>3.2</td>\n",
       "      <td>1.3</td>\n",
       "      <td>0.2</td>\n",
       "    </tr>\n",
       "    <tr>\n",
       "      <th>3</th>\n",
       "      <td>4.6</td>\n",
       "      <td>3.1</td>\n",
       "      <td>1.5</td>\n",
       "      <td>0.2</td>\n",
       "    </tr>\n",
       "    <tr>\n",
       "      <th>4</th>\n",
       "      <td>5.0</td>\n",
       "      <td>3.6</td>\n",
       "      <td>1.4</td>\n",
       "      <td>0.2</td>\n",
       "    </tr>\n",
       "  </tbody>\n",
       "</table>\n",
       "</div>"
      ],
      "text/plain": [
       "    sl   sw   pl   pw\n",
       "0  5.1  3.5  1.4  0.2\n",
       "1  4.9  3.0  1.4  0.2\n",
       "2  4.7  3.2  1.3  0.2\n",
       "3  4.6  3.1  1.5  0.2\n",
       "4  5.0  3.6  1.4  0.2"
      ]
     },
     "execution_count": 31,
     "metadata": {},
     "output_type": "execute_result"
    }
   ],
   "source": []
  },
  {
   "cell_type": "markdown",
   "metadata": {},
   "source": [
    "### Bayesian logistic regression"
   ]
  },
  {
   "cell_type": "markdown",
   "metadata": {},
   "source": [
    "Let's try fitting a Bayesian logistic regression model to the two-class iris dataset using Bambi:"
   ]
  },
  {
   "cell_type": "code",
   "execution_count": 39,
   "metadata": {},
   "outputs": [
    {
     "data": {
      "text/plain": [
       "       Formula: label ~ sl + sw + pl + pw\n",
       "        Family: bernoulli\n",
       "          Link: p = logit\n",
       "  Observations: 100\n",
       "        Priors: \n",
       "    target = p\n",
       "        Common-level effects\n",
       "            Intercept ~ Normal(mu: 0.0, sigma: 1.5)\n",
       "            sl ~ Normal(mu: 0.0, sigma: 1.5662)\n",
       "            sw ~ Normal(mu: 0.0, sigma: 2.0993)\n",
       "            pl ~ Normal(mu: 0.0, sigma: 0.6933)\n",
       "            pw ~ Normal(mu: 0.0, sigma: 1.7783)"
      ]
     },
     "metadata": {},
     "output_type": "display_data"
    },
    {
     "name": "stderr",
     "output_type": "stream",
     "text": [
      "Modeling the probability that label==1\n",
      "Initializing NUTS using jitter+adapt_diag...\n",
      "Multiprocess sampling (4 chains in 4 jobs)\n",
      "NUTS: [Intercept, sl, sw, pl, pw]\n"
     ]
    },
    {
     "data": {
      "application/vnd.jupyter.widget-view+json": {
       "model_id": "8bbdb06d1d0145fd971859687d4f7f73",
       "version_major": 2,
       "version_minor": 0
      },
      "text/plain": [
       "Output()"
      ]
     },
     "metadata": {},
     "output_type": "display_data"
    },
    {
     "data": {
      "text/html": [
       "<pre style=\"white-space:pre;overflow-x:auto;line-height:normal;font-family:Menlo,'DejaVu Sans Mono',consolas,'Courier New',monospace\"></pre>\n"
      ],
      "text/plain": []
     },
     "metadata": {},
     "output_type": "display_data"
    },
    {
     "name": "stderr",
     "output_type": "stream",
     "text": [
      "Sampling 4 chains for 1_000 tune and 1_000 draw iterations (4_000 + 4_000 draws total) took 1 seconds.\n"
     ]
    },
    {
     "data": {
      "text/html": [
       "<div>\n",
       "<style scoped>\n",
       "    .dataframe tbody tr th:only-of-type {\n",
       "        vertical-align: middle;\n",
       "    }\n",
       "\n",
       "    .dataframe tbody tr th {\n",
       "        vertical-align: top;\n",
       "    }\n",
       "\n",
       "    .dataframe thead th {\n",
       "        text-align: right;\n",
       "    }\n",
       "</style>\n",
       "<table border=\"1\" class=\"dataframe\">\n",
       "  <thead>\n",
       "    <tr style=\"text-align: right;\">\n",
       "      <th></th>\n",
       "      <th>mean</th>\n",
       "      <th>sd</th>\n",
       "      <th>hdi_3%</th>\n",
       "      <th>hdi_97%</th>\n",
       "      <th>mcse_mean</th>\n",
       "      <th>mcse_sd</th>\n",
       "      <th>ess_bulk</th>\n",
       "      <th>ess_tail</th>\n",
       "      <th>r_hat</th>\n",
       "    </tr>\n",
       "  </thead>\n",
       "  <tbody>\n",
       "    <tr>\n",
       "      <th>Intercept</th>\n",
       "      <td>-5.103</td>\n",
       "      <td>6.650</td>\n",
       "      <td>-17.250</td>\n",
       "      <td>7.423</td>\n",
       "      <td>0.108</td>\n",
       "      <td>0.088</td>\n",
       "      <td>3810.0</td>\n",
       "      <td>3186.0</td>\n",
       "      <td>1.0</td>\n",
       "    </tr>\n",
       "    <tr>\n",
       "      <th>sl</th>\n",
       "      <td>1.424</td>\n",
       "      <td>1.212</td>\n",
       "      <td>-0.700</td>\n",
       "      <td>3.855</td>\n",
       "      <td>0.021</td>\n",
       "      <td>0.017</td>\n",
       "      <td>3230.0</td>\n",
       "      <td>2610.0</td>\n",
       "      <td>1.0</td>\n",
       "    </tr>\n",
       "    <tr>\n",
       "      <th>sw</th>\n",
       "      <td>-2.705</td>\n",
       "      <td>1.338</td>\n",
       "      <td>-5.109</td>\n",
       "      <td>-0.101</td>\n",
       "      <td>0.024</td>\n",
       "      <td>0.018</td>\n",
       "      <td>3202.0</td>\n",
       "      <td>2805.0</td>\n",
       "      <td>1.0</td>\n",
       "    </tr>\n",
       "    <tr>\n",
       "      <th>pl</th>\n",
       "      <td>1.205</td>\n",
       "      <td>0.585</td>\n",
       "      <td>0.098</td>\n",
       "      <td>2.274</td>\n",
       "      <td>0.010</td>\n",
       "      <td>0.008</td>\n",
       "      <td>3352.0</td>\n",
       "      <td>2762.0</td>\n",
       "      <td>1.0</td>\n",
       "    </tr>\n",
       "    <tr>\n",
       "      <th>pw</th>\n",
       "      <td>3.036</td>\n",
       "      <td>1.440</td>\n",
       "      <td>0.240</td>\n",
       "      <td>5.556</td>\n",
       "      <td>0.024</td>\n",
       "      <td>0.017</td>\n",
       "      <td>3497.0</td>\n",
       "      <td>2524.0</td>\n",
       "      <td>1.0</td>\n",
       "    </tr>\n",
       "  </tbody>\n",
       "</table>\n",
       "</div>"
      ],
      "text/plain": [
       "            mean     sd  hdi_3%  hdi_97%  ...  mcse_sd  ess_bulk  ess_tail  r_hat\n",
       "Intercept -5.103  6.650 -17.250    7.423  ...    0.088    3810.0    3186.0    1.0\n",
       "sl         1.424  1.212  -0.700    3.855  ...    0.017    3230.0    2610.0    1.0\n",
       "sw        -2.705  1.338  -5.109   -0.101  ...    0.018    3202.0    2805.0    1.0\n",
       "pl         1.205  0.585   0.098    2.274  ...    0.008    3352.0    2762.0    1.0\n",
       "pw         3.036  1.440   0.240    5.556  ...    0.017    3497.0    2524.0    1.0\n",
       "\n",
       "[5 rows x 9 columns]"
      ]
     },
     "execution_count": 39,
     "metadata": {},
     "output_type": "execute_result"
    }
   ],
   "source": [
    "X, y = load_iris_01()\n",
    "\n",
    "df = X.rename(\n",
    "    columns={\n",
    "        \"sepal length (cm)\": \"sl\",\n",
    "        \"sepal width (cm)\": \"sw\",\n",
    "        \"petal length (cm)\": \"pl\",\n",
    "        \"petal width (cm)\": \"pw\",\n",
    "    }\n",
    ")\n",
    "df[\"label\"] = y\n",
    "\n",
    "model = bmb.Model(\"label ~ sl + sw + pl + pw\", df, family=\"bernoulli\")\n",
    "display(model)\n",
    "fit = model.fit()\n",
    "az.summary(fit)"
   ]
  },
  {
   "cell_type": "markdown",
   "metadata": {},
   "source": [
    "Standard errors look ok, and accuracy score of 1.0.\n",
    "\n",
    "**To do:** Why didn't Bambi have an issue with the perfect separability like statsmodels did?"
   ]
  },
  {
   "cell_type": "code",
   "execution_count": 41,
   "metadata": {},
   "outputs": [],
   "source": [
    "model.predict(fit, data=df)\n",
    "assert accuracy_score(df[\"label\"], fit.posterior[\"p\"].mean(axis=(0, 1)) > 0.5)"
   ]
  },
  {
   "cell_type": "markdown",
   "metadata": {},
   "source": [
    "**To do:** How small can you set the `sigma` parameter on the priors for the Bambi model before prediction accuracy starts to suffer?"
   ]
  },
  {
   "cell_type": "code",
   "execution_count": 45,
   "metadata": {},
   "outputs": [
    {
     "name": "stderr",
     "output_type": "stream",
     "text": [
      "Modeling the probability that label==1\n",
      "Initializing NUTS using jitter+adapt_diag...\n",
      "Multiprocess sampling (4 chains in 4 jobs)\n",
      "NUTS: [Intercept, sl, sw, pl, pw]\n"
     ]
    },
    {
     "data": {
      "application/vnd.jupyter.widget-view+json": {
       "model_id": "20a3afd8f74347c3b13c99e6a23a9d4f",
       "version_major": 2,
       "version_minor": 0
      },
      "text/plain": [
       "Output()"
      ]
     },
     "metadata": {},
     "output_type": "display_data"
    },
    {
     "data": {
      "text/html": [
       "<pre style=\"white-space:pre;overflow-x:auto;line-height:normal;font-family:Menlo,'DejaVu Sans Mono',consolas,'Courier New',monospace\"></pre>\n"
      ],
      "text/plain": []
     },
     "metadata": {},
     "output_type": "display_data"
    },
    {
     "name": "stderr",
     "output_type": "stream",
     "text": [
      "Sampling 4 chains for 1_000 tune and 1_000 draw iterations (4_000 + 4_000 draws total) took 1 seconds.\n"
     ]
    }
   ],
   "source": [
    "sigma = 0.1\n",
    "\n",
    "priors = {\n",
    "    \"Intercept\": bmb.Prior(\"Normal\", mu=0, sigma=sigma),\n",
    "    \"sl\": bmb.Prior(\"Normal\", mu=0, sigma=sigma),\n",
    "    \"sw\": bmb.Prior(\"Normal\", mu=0, sigma=sigma),\n",
    "    \"pl\": bmb.Prior(\"Normal\", mu=0, sigma=sigma),\n",
    "    \"pw\": bmb.Prior(\"Normal\", mu=0, sigma=sigma),\n",
    "}\n",
    "\n",
    "model = bmb.Model(\"label ~ sl + sw + pl + pw\", df, family=\"bernoulli\", priors=priors)\n",
    "fit = model.fit()\n",
    "model.predict(fit, data=df)\n",
    "assert accuracy_score(df[\"label\"], fit.posterior[\"p\"].mean(axis=(0, 1)) > 0.5) == 1.0"
   ]
  }
 ],
 "metadata": {
  "kernelspec": {
   "display_name": ".venv",
   "language": "python",
   "name": "python3"
  },
  "language_info": {
   "codemirror_mode": {
    "name": "ipython",
    "version": 3
   },
   "file_extension": ".py",
   "mimetype": "text/x-python",
   "name": "python",
   "nbconvert_exporter": "python",
   "pygments_lexer": "ipython3",
   "version": "3.12.9"
  }
 },
 "nbformat": 4,
 "nbformat_minor": 2
}
