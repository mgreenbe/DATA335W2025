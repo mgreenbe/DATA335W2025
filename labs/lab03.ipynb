{
 "cells": [
  {
   "cell_type": "markdown",
   "metadata": {},
   "source": [
    "# DATA 335 - Winter 2025 - Lab 3\n",
    "\n",
    "2025.02.04, 14:00-15:50, MS 521"
   ]
  },
  {
   "cell_type": "code",
   "execution_count": 11,
   "metadata": {},
   "outputs": [],
   "source": [
    "import numpy as np\n",
    "import pandas as pd\n",
    "import scipy.stats as stats"
   ]
  },
  {
   "cell_type": "markdown",
   "metadata": {},
   "source": [
    "### 1\n",
    "Let's simulate fake data on IQ scores and course grades and examine the resulting predictions (cf. Active Statistics, page 129)."
   ]
  },
  {
   "cell_type": "code",
   "execution_count": 15,
   "metadata": {},
   "outputs": [
    {
     "data": {
      "text/html": [
       "<div>\n",
       "<style scoped>\n",
       "    .dataframe tbody tr th:only-of-type {\n",
       "        vertical-align: middle;\n",
       "    }\n",
       "\n",
       "    .dataframe tbody tr th {\n",
       "        vertical-align: top;\n",
       "    }\n",
       "\n",
       "    .dataframe thead th {\n",
       "        text-align: right;\n",
       "    }\n",
       "</style>\n",
       "<table border=\"1\" class=\"dataframe\">\n",
       "  <thead>\n",
       "    <tr style=\"text-align: right;\">\n",
       "      <th></th>\n",
       "      <th>iq</th>\n",
       "      <th>gpa</th>\n",
       "    </tr>\n",
       "  </thead>\n",
       "  <tbody>\n",
       "    <tr>\n",
       "      <th>0</th>\n",
       "      <td>126.460785</td>\n",
       "      <td>3.841388</td>\n",
       "    </tr>\n",
       "    <tr>\n",
       "      <th>1</th>\n",
       "      <td>106.002358</td>\n",
       "      <td>2.314169</td>\n",
       "    </tr>\n",
       "    <tr>\n",
       "      <th>2</th>\n",
       "      <td>114.681070</td>\n",
       "      <td>2.529536</td>\n",
       "    </tr>\n",
       "    <tr>\n",
       "      <th>3</th>\n",
       "      <td>133.613398</td>\n",
       "      <td>2.635784</td>\n",
       "    </tr>\n",
       "    <tr>\n",
       "      <th>4</th>\n",
       "      <td>128.013370</td>\n",
       "      <td>3.492971</td>\n",
       "    </tr>\n",
       "  </tbody>\n",
       "</table>\n",
       "</div>"
      ],
      "text/plain": [
       "           iq       gpa\n",
       "0  126.460785  3.841388\n",
       "1  106.002358  2.314169\n",
       "2  114.681070  2.529536\n",
       "3  133.613398  2.635784\n",
       "4  128.013370  3.492971"
      ]
     },
     "execution_count": 15,
     "metadata": {},
     "output_type": "execute_result"
    }
   ],
   "source": [
    "def make_data():\n",
    "    n = 100\n",
    "    iq = stats.norm(100, 15).rvs(size=n, random_state=0)  # IQ, roughly\n",
    "    gpa = (\n",
    "        2.5 + 0.02 * (iq - 100) + stats.norm(0, 0.5).rvs(size=n, random_state=1)\n",
    "    )  # GPA, roughly\n",
    "    df = pd.DataFrame({\"iq\": iq, \"gpa\": gpa})\n",
    "    return df\n",
    "\n",
    "\n",
    "data = make_data()\n",
    "data.head()"
   ]
  },
  {
   "cell_type": "markdown",
   "metadata": {},
   "source": [
    "- Plot the regression of `gpa` on `iq`, overlaid on a scatterplot of the data.\n",
    "\n",
    "- Use your model to estimate the predictive distribution of the GPA of a student with an IQ of 105.\n",
    "\n",
    "- What is the probability that a student with an IQ of 105 will have a GPA exceeding 3?"
   ]
  },
  {
   "cell_type": "markdown",
   "metadata": {},
   "source": [
    "### 2"
   ]
  },
  {
   "cell_type": "markdown",
   "metadata": {},
   "source": [
    "Here's a fake dataset describing the relationship between cholesterol level (a heart disease risk factor), age (ordinal, four categories, ages 10-30, 30-50, 50-70, and 70-90), and weekly hours of exercise."
   ]
  },
  {
   "cell_type": "code",
   "execution_count": 12,
   "metadata": {},
   "outputs": [
    {
     "data": {
      "text/html": [
       "<div>\n",
       "<style scoped>\n",
       "    .dataframe tbody tr th:only-of-type {\n",
       "        vertical-align: middle;\n",
       "    }\n",
       "\n",
       "    .dataframe tbody tr th {\n",
       "        vertical-align: top;\n",
       "    }\n",
       "\n",
       "    .dataframe thead th {\n",
       "        text-align: right;\n",
       "    }\n",
       "</style>\n",
       "<table border=\"1\" class=\"dataframe\">\n",
       "  <thead>\n",
       "    <tr style=\"text-align: right;\">\n",
       "      <th></th>\n",
       "      <th>age</th>\n",
       "      <th>exercise</th>\n",
       "      <th>colesterol</th>\n",
       "    </tr>\n",
       "  </thead>\n",
       "  <tbody>\n",
       "    <tr>\n",
       "      <th>0</th>\n",
       "      <td>0</td>\n",
       "      <td>0.881189</td>\n",
       "      <td>197.260788</td>\n",
       "    </tr>\n",
       "    <tr>\n",
       "      <th>1</th>\n",
       "      <td>3</td>\n",
       "      <td>17.852326</td>\n",
       "      <td>207.088683</td>\n",
       "    </tr>\n",
       "    <tr>\n",
       "      <th>2</th>\n",
       "      <td>1</td>\n",
       "      <td>6.471043</td>\n",
       "      <td>221.476230</td>\n",
       "    </tr>\n",
       "    <tr>\n",
       "      <th>3</th>\n",
       "      <td>0</td>\n",
       "      <td>4.685777</td>\n",
       "      <td>186.015909</td>\n",
       "    </tr>\n",
       "    <tr>\n",
       "      <th>4</th>\n",
       "      <td>3</td>\n",
       "      <td>8.241614</td>\n",
       "      <td>239.663708</td>\n",
       "    </tr>\n",
       "  </tbody>\n",
       "</table>\n",
       "</div>"
      ],
      "text/plain": [
       "   age   exercise  colesterol\n",
       "0    0   0.881189  197.260788\n",
       "1    3  17.852326  207.088683\n",
       "2    1   6.471043  221.476230\n",
       "3    0   4.685777  186.015909\n",
       "4    3   8.241614  239.663708"
      ]
     },
     "execution_count": 12,
     "metadata": {},
     "output_type": "execute_result"
    }
   ],
   "source": [
    "def make_data():\n",
    "    n = 100\n",
    "    np.random.seed(0)\n",
    "    age = np.random.choice([0, 1, 2, 3], size=n)\n",
    "    exercise = 2 * age + 3 * np.random.normal(size=n) + 6\n",
    "    colesterol = 200 + 30 * age - 5 * exercise + 10 * np.random.normal(size=n)\n",
    "    df = pd.DataFrame({\"age\": age, \"exercise\": exercise, \"colesterol\": colesterol})\n",
    "    return df\n",
    "\n",
    "\n",
    "data = make_data()\n",
    "data.head()"
   ]
  },
  {
   "cell_type": "markdown",
   "metadata": {},
   "source": [
    "- Plot the (simple) linear regression of `cholesterol` on `exercise`, overlaid on a scatterplot of the data. Do the results surprise you?\n",
    "\n",
    "- Fit a multivariate linear regression of `cholesterol` onto `exercise` and `age`. Plot the regression lines corresponding to each of the age groups, overlaid with a scatterplot of the data. Use a different color for each age group. Comment.\n",
    "\n",
    "This exercise demonstrates a phenomenon known as *Simpson's Paradox*. The inspiration for this exercise comes from &sect;1.2 of **Causal Inference in Statistics** by Pearl, Gylmour, and Jewel."
   ]
  },
  {
   "cell_type": "markdown",
   "metadata": {},
   "source": [
    "### 3\n",
    "\n",
    "In class, we saw how to use simulation to synthesize prior information with new data, leading to posterior estimates. In certain special cases, this can also be approached analytically. \n",
    "\n",
    "Suppose we have an estimate $\\hat{\\theta}_{\\text{data}}$ of a population parameter from data that we want to synthesize with a prior estimate $\\hat{\\theta}_{\\text{prior}}$.\n",
    "\n",
    "Suppose that the distributions giving rise to $\\hat{\\theta}_{\\text{data}}$ and $\\hat{\\theta}_{\\text{prior}}$ are approximately normal with known standard deviations $s_{\\text{data}}$ and $s_{\\text{prior}}$, respectively. Set\n",
    "$$\n",
    "w_{\\text{prior}} = \\dfrac1{s_{\\text{prior}}^2},\\quad\n",
    "w_{\\text{data}} = \\dfrac1{s_{\\text{data}}^2},\\quad w = w_{\\text{prior}} + w_{\\text{data}}\n",
    "$$\n",
    "Then the posterior distribution of $\\theta$ is normal with mean estimate\n",
    "$$\n",
    "\\hat{\\theta}_{\\text{posterior}} = \\frac{w_{\\text{prior}}\\hat{\\theta}_{\\text{prior}}\n",
    "+ w_{\\text{data}}\\hat{\\theta}_{\\text{data}}}{w}\n",
    "$$\n",
    "and standard deviation estimate\n",
    "$$\n",
    "s_{\\text{posterior}} = \\frac1{\\sqrt{w}}.\n",
    "$$\n",
    "\n",
    "- Write a function that evaluates these posterior estimates given the prior and data estimates.\n",
    "\n",
    "- Go back to the two example of Bayesian synthesis presented in class &mdash; the polling example and the sex ratio example &mdash; and confirm our simulation-based results using your function."
   ]
  },
  {
   "cell_type": "markdown",
   "metadata": {},
   "source": [
    "### 4\n",
    "\n",
    "Here's yet one more take on the Bayesian synthesis polling example from class.\n",
    "\n",
    "- Using PyMC, estimate the mean and standard deviation of the posterior associated to\n",
    "  - a $\\operatorname{Bin}(400, p)$-likelihood for with a single observation of $190$;\n",
    "  - a [beta distribution prior](https://www.pymc.io/projects/docs/en/latest/api/distributions/generated/pymc.Beta.html) for $p$ with parameters $\\alpha=77$ and $\\beta=70$.\n",
    "\n",
    "- Compare with results obtained in class and in the previous problem.\n",
    "\n",
    "- Plot the density functions of the beta prior $\\operatorname{Beta}(77, 70)$ used above together with the density function of the normal prior $N(0.524, 0.041^2)$ used in class. Comment."
   ]
  }
 ],
 "metadata": {
  "kernelspec": {
   "display_name": ".venv",
   "language": "python",
   "name": "python3"
  },
  "language_info": {
   "codemirror_mode": {
    "name": "ipython",
    "version": 3
   },
   "file_extension": ".py",
   "mimetype": "text/x-python",
   "name": "python",
   "nbconvert_exporter": "python",
   "pygments_lexer": "ipython3",
   "version": "3.12.7"
  }
 },
 "nbformat": 4,
 "nbformat_minor": 2
}
