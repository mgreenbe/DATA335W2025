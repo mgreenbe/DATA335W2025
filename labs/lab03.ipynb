{
 "cells": [
  {
   "cell_type": "markdown",
   "metadata": {},
   "source": [
    "# DATA 335 - Winter 2025 - Lab 3\n",
    "\n",
    "2025.02.04, 14:00-15:50, MS 521"
   ]
  },
  {
   "cell_type": "markdown",
   "metadata": {},
   "source": [
    "### Warm-up exercises\n",
    "\n",
    "1. ..."
   ]
  },
  {
   "cell_type": "markdown",
   "metadata": {},
   "source": [
    "### Exercises from ***Regression and Other Stories***"
   ]
  },
  {
   "cell_type": "markdown",
   "metadata": {},
   "source": [
    "- Linear regression of girl birth rate onto attractiveness score, both with and without weighting. Make up sample sizes using binomial, tuning $p$ so that 300 out of 3000 couples are highly attractive\n",
    "\n",
    "- Something about beta-binomial, connect with priors for binomial proportions coming from previous binomial trials.\n",
    "\n",
    "- Empirical Bayes, Poisson with Gamma prior, famous example of Robbins, overdispersion, negative binomial."
   ]
  }
 ],
 "metadata": {
  "kernelspec": {
   "display_name": ".venv",
   "language": "python",
   "name": "python3"
  },
  "language_info": {
   "codemirror_mode": {
    "name": "ipython",
    "version": 3
   },
   "file_extension": ".py",
   "mimetype": "text/x-python",
   "name": "python",
   "nbconvert_exporter": "python",
   "pygments_lexer": "ipython3",
   "version": "3.12.7"
  }
 },
 "nbformat": 4,
 "nbformat_minor": 2
}
