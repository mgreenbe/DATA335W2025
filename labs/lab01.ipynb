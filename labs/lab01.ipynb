{
 "cells": [
  {
   "cell_type": "markdown",
   "metadata": {},
   "source": [
    "# DATA 305 - Winter 2025 - Lab 1\n",
    "\n",
    "2025.01.21, 14:00-15:50, MS 521"
   ]
  },
  {
   "cell_type": "markdown",
   "metadata": {},
   "source": [
    "### Warm-ups from ***Active Statistics***\n",
    "\n",
    "#### 1. Confidence intervals from the binomial distribution\n",
    "A sample of $n$ people are selected at random from a large population and are asked a question,\n",
    "to which $y$ reply Yes and $n - y$ reply No.\n",
    "For each example below, give a 95% interval for the proportion in the population who would answer Yes if asked.\n",
    "\n",
    "a. $𝑛=1500$, $𝑦 = 750$\n",
    "\n",
    "c. $𝑛=100 000$, $𝑦 = 51 000$\n",
    "\n",
    "e. $𝑛=3$, $𝑦 = 3$\n",
    "\n",
    "#### 2. Coverage of confidence intervals\n",
    "Based on the normal approximation, the estimate $\\pm 2$ standard errors gives an approximate 95%\n",
    "interval. Similarly:\n",
    "\n",
    "a. What is the coverage of the estimate $\\pm 1$ standard error?\n",
    "\n",
    "c. For what value $x$ does the estimate $\\pm x$ standard error have 80% coverage?\n"
   ]
  },
  {
   "cell_type": "markdown",
   "metadata": {},
   "source": [
    "### Exercises from ***Regression and Other Stories***\n",
    "\n",
    "#### 4.3. Comparison of proportions\n",
    "You want to gather data to determine which of two students is a better basketball shooter.\n",
    "One of them shoots with 30% accuracy and the other is a 40% shooter.\n",
    "Each student takes 20 shots and you then compare their shooting percentages.\n",
    "What is the probability that the better shooter makes more shots in this small experiment?\n",
    "\n",
    "#### 4.4. Designing an experiment\n",
    "You want to gather data to determine which of two students is a better basketball shooter.\n",
    "You plan to have each student take $n$ shots and then compare their shooting percentages.\n",
    "Roughly how large does $n$ have to be for you to have a good chance of distinguishing a 30% shooter from a 40% shooter? **Submit as part of *Assignment 1*.**"
   ]
  },
  {
   "cell_type": "markdown",
   "metadata": {},
   "source": [
    "### Nonresponse bias in survey data\n",
    "\n",
    "You are considering running a survey to determine the prevelence $p$ of regular eyebrow tweezing among male undergraduates.\n",
    "\n",
    "Through discussion with classmates, you identify a challenge in translating your hypothetical survey data into a reliable estimate of $p$: **nonresponse bias**. Viewing eyebrow tweezing as a feminine behavior, male tweezers may be reluctant to identify as such, leading to a depressed rate of survey participation among tweezers and an unrealistically low estimate of $p$.\n",
    "\n",
    "You put your survey implementation plans on hold in favor of some simulation experiments to study this nonresponse bias, proceeding as follows.\n",
    "\n",
    "Assume that the survey response rate is $r$ among male tweezers and $1$ among male nontweezers.\n",
    "\n",
    "Let $x$ and $y$ be random variables on male tweezers indicating tweezing and survey responsiveness, respectively.\n",
    "\n",
    "#### Your tasks:\n",
    "\n",
    "1. Write a function that takes $p$, $r$, and an integer $n$ as input and return a random sample of size $n$ drawn from the joint distribution of $x$ and $y$.\n",
    "\n",
    "2. For a few choices of $p$, plot the estimated proportion of male survey respondents that tweeze versus $r$.\n",
    "\n",
    "3. **Discuss:** Is it worth running the survey? How might nonresponse bias be mitigated or estimated?\n",
    "\n",
    "4. **Submit as part of *Assignment 1*:** Use Bayes' rule to express $\\mathbb{P}[x=1\\mid y=1]$, the probability that a male survey respondents tweezes, in terms of $p$ and $r$. Deduce that $\\mathbb{P}[x=1\\mid y=1] < p$ if $r < 1$.\n",
    "\n",
    "#### Nonresponse bias in the news\n",
    "\n",
    "Nate Cohen, ***[A Worrisome Pattern Re-emerges in Seeking Response From Republicans](https://www.nytimes.com/2022/11/01/upshot/polling-2022-midterms.html)***, New York Times, 2022.11.01."
   ]
  },
  {
   "cell_type": "markdown",
   "metadata": {},
   "source": []
  }
 ],
 "metadata": {
  "kernelspec": {
   "display_name": ".venv",
   "language": "python",
   "name": "python3"
  },
  "language_info": {
   "codemirror_mode": {
    "name": "ipython",
    "version": 3
   },
   "file_extension": ".py",
   "mimetype": "text/x-python",
   "name": "python",
   "nbconvert_exporter": "python",
   "pygments_lexer": "ipython3",
   "version": "3.13.0"
  }
 },
 "nbformat": 4,
 "nbformat_minor": 2
}
