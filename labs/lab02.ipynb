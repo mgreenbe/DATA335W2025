{
 "cells": [
  {
   "cell_type": "markdown",
   "metadata": {},
   "source": [
    "# DATA 335 - Winter 2025 - Lab 2\n",
    "\n",
    "2025.01.28, 14:00-15:50, MS 521"
   ]
  },
  {
   "cell_type": "markdown",
   "metadata": {},
   "source": [
    "### Warm-up exercise\n",
    "We use simple linear regression to study the relationship between midterm scores $x$ and final exam scores $y$. Our model fitting procedure yields the following estimates for the intercept $\\hat{a}$, the slope $\\hat{b}$, and the residual standard error $s$:\n",
    "$$\n",
    "\\hat{a} = 24.8,\\quad \\hat{b}=0.5,\\quad s=11.6\n",
    "$$\n",
    "\n",
    "1. Find the average midterm grade, given that the average final exam grade is 71%.\n",
    "\n",
    "2. Estimate the probability that\n",
    "\n",
    "   a. a student scoring 90% on the midterm scores higher than 80% on the final.\n",
    "\n",
    "   b. a student scoring 50% on the midterm scores between 40% and 60% on the final.\n",
    "\n",
    "   c. a student scoring 100% on the midterm scores higher than 110% on the final. Comment."
   ]
  },
  {
   "cell_type": "markdown",
   "metadata": {},
   "source": []
  }
 ],
 "metadata": {
  "kernelspec": {
   "display_name": ".venv",
   "language": "python",
   "name": "python3"
  },
  "language_info": {
   "codemirror_mode": {
    "name": "ipython",
    "version": 3
   },
   "file_extension": ".py",
   "mimetype": "text/x-python",
   "name": "python",
   "nbconvert_exporter": "python",
   "pygments_lexer": "ipython3",
   "version": "3.13.0"
  }
 },
 "nbformat": 4,
 "nbformat_minor": 2
}
