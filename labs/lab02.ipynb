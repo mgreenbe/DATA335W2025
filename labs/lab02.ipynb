{
 "cells": [
  {
   "cell_type": "markdown",
   "metadata": {},
   "source": [
    "# DATA 335 - Winter 2025 - Lab 2\n",
    "\n",
    "2025.01.28, 14:00-15:50, MS 521"
   ]
  },
  {
   "cell_type": "markdown",
   "metadata": {},
   "source": [
    "### Warm-up exercises\n",
    "\n",
    "1. What is the regression line for the dataset $\\{(1, 1), (1, 2), (2, 0)\\}$?\n",
    "\n",
    "2. We use simple linear regression to study the relationship between midterm scores $x$ and final exam scores $y$. Our model fitting procedure yields the following estimates for the intercept $\\hat{a}$, the slope $\\hat{b}$, and the residual standard error $s$:\n",
    "\n",
    "   $$\n",
    "   \\hat{a} = 24.8,\\quad \\hat{b}=0.5,\\quad s=11.6\n",
    "   $$\n",
    "\n",
    "   a. Find the average midterm grade, given that the average final exam grade is 71%.\n",
    "\n",
    "   b. Estimate the probability that\n",
    "\n",
    "      - a student scoring 90% on the midterm scores higher than 80% on the final.\n",
    "\n",
    "      - a student scoring 50% on the midterm scores between 40% and 60% on the final.\n",
    "\n",
    "      - a student scoring 100% on the midterm scores higher than 110% on the final. Comment."
   ]
  },
  {
   "cell_type": "markdown",
   "metadata": {},
   "source": [
    "### Exercises from ***Regression and Other Stories***\n",
    "\n",
    "#### 7.6. Comparisons as regression models\n",
    "\n",
    "**Submit as part of *Assignment 1*.**\n",
    "\n",
    "Take the election forecasting model discussed in Lecture 6 (2025.01.24) and simplify it by creating a binary predictor defined as $x = 0$ if income growth is less than 2% and $x = 1$ if income growth is more than 2%.\n",
    "\n",
    "   a. Compute the difference in incumbent party’s vote share on average, comparing those two\n",
    "groups of elections, and determine the standard error for this difference.\n",
    "\n",
    "   b. Regress the incumbent party’s vote share on the binary predictor of income growth and check that the resulting estimate and standard error are the same as above."
   ]
  },
  {
   "cell_type": "markdown",
   "metadata": {},
   "source": [
    "#### 6.8. Regression to the mean with fake data\n",
    "\n",
    "Perform a fake-data simulation as in Section 6.5, but using the flight school example on page 89. Simulate data from 500 pilots, each of whom performs two maneuvers, with each maneuver scored continuously on a 0–10 scale, that each pilot has a true ability that is unchanged during the two tasks, and that the score for each test is equal to this true ability plus independent errors. Further, suppose that when pilots score higher than 7 on the scale during the first maneuver they get praised, and that a score lower than 3 on the first maneuver result in negative reinforcement. Also suppose, though, that this feedback has no effect on performance on the second task.\n",
    "\n",
    "   (a) Make a scatterplot with one dot for each pilot, showing score on the second maneuver versus score on the first maneuver. Color the dots blue for the pilots who got praised, red for those who got negative reinforcement, and black for the other cases.\n",
    "\n",
    "   (b) Compute the average change in scores for each group of pilots. If you did your simulation correctly,the pilots who were praised did worse, on average, and the pilots who got negative reinforcement improved, on average, for the second maneuver. Explain how this happened, given that your data were simulated under a model in which the positive and negative messages had no effects."
   ]
  }
 ],
 "metadata": {
  "kernelspec": {
   "display_name": ".venv",
   "language": "python",
   "name": "python3"
  },
  "language_info": {
   "codemirror_mode": {
    "name": "ipython",
    "version": 3
   },
   "file_extension": ".py",
   "mimetype": "text/x-python",
   "name": "python",
   "nbconvert_exporter": "python",
   "pygments_lexer": "ipython3",
   "version": "3.12.7"
  }
 },
 "nbformat": 4,
 "nbformat_minor": 2
}
