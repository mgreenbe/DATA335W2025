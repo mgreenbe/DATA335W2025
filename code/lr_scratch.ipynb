{
 "cells": [
  {
   "cell_type": "code",
   "execution_count": 1,
   "metadata": {},
   "outputs": [],
   "source": [
    "import numpy as np\n",
    "import pandas as pd\n",
    "from matplotlib import pyplot as plt\n",
    "from sklearn.linear_model import LogisticRegression"
   ]
  },
  {
   "cell_type": "markdown",
   "metadata": {},
   "source": [
    "#### Example: Credit card default prediction\n",
    "\n",
    "- We want to predict whether a customers will default on their credit card debt based on income, monthly balance, and studentness.\n",
    "\n",
    "- We model a customer defaulting using the **logistic regression model**:\n",
    "  $$\n",
    "  y\\sim \\operatorname{Bernoulli}\\big(\\texttt{default}\\mid p\\big),\n",
    "  $$\n",
    "  where\n",
    "  $$\n",
    "  \\log\\left(\\frac p{1-p}\\right) = a + b\\,\\texttt{income}+c\\,\\texttt{balance} + d\\,\\texttt{student}\n",
    "  $$\n"
   ]
  },
  {
   "cell_type": "markdown",
   "metadata": {},
   "source": [
    "#### Interpreting the coefficient of a binary feature in a logistic regression model\n",
    "\n",
    "- Odds of defaulting:&nbsp;\n",
    "  $\\displaystyle{{o} = \\frac{p}{1-p}}$\n",
    "- From the logistic regression model:\n",
    "\n",
    "  $$\n",
    "  \\begin{aligned}\n",
    "  \\log\\frac{o_{\\text{student}}}\n",
    "  {o_{\\text{nonstudent}}} &=\n",
    "  \\log\\left(\\frac{p_{\\text{student}}}{1-p_{\\text{student}}}\\right) - \\log\\left(\\frac{p_{\\text{nonstudent}}}{1-p_{\\text{nonstudent}}}\\right)\\\\\n",
    "  &= \\phantom{-}(a + b\\,\\texttt{income}+c\\,\\texttt{balance} + d\\,(1))\\\\&\\phantom{=}-(a + b\\,\\texttt{income}+c\\,\\texttt{balance} + d\\,(0))\\\\\n",
    "  &= d\\\\\n",
    "  \\frac{o_{\\text{student}}}{o_{\\text{nonstudent}}} &= e^{d}\\approx 0.54\n",
    "  \\end{aligned}\n",
    "  $$\n",
    "\n",
    "- **_The odds of a student defaulting are roughly half those of a nonstudent with comparable income and balance._**\n"
   ]
  },
  {
   "cell_type": "code",
   "execution_count": 2,
   "metadata": {},
   "outputs": [
    {
     "data": {
      "text/html": [
       "<div>\n",
       "<style scoped>\n",
       "    .dataframe tbody tr th:only-of-type {\n",
       "        vertical-align: middle;\n",
       "    }\n",
       "\n",
       "    .dataframe tbody tr th {\n",
       "        vertical-align: top;\n",
       "    }\n",
       "\n",
       "    .dataframe thead th {\n",
       "        text-align: right;\n",
       "    }\n",
       "</style>\n",
       "<table border=\"1\" class=\"dataframe\">\n",
       "  <thead>\n",
       "    <tr style=\"text-align: right;\">\n",
       "      <th></th>\n",
       "      <th>default</th>\n",
       "      <th>student</th>\n",
       "      <th>balance</th>\n",
       "      <th>income</th>\n",
       "    </tr>\n",
       "  </thead>\n",
       "  <tbody>\n",
       "    <tr>\n",
       "      <th>0</th>\n",
       "      <td>0</td>\n",
       "      <td>0</td>\n",
       "      <td>729.526495</td>\n",
       "      <td>44361.625074</td>\n",
       "    </tr>\n",
       "    <tr>\n",
       "      <th>1</th>\n",
       "      <td>0</td>\n",
       "      <td>1</td>\n",
       "      <td>817.180407</td>\n",
       "      <td>12106.134700</td>\n",
       "    </tr>\n",
       "    <tr>\n",
       "      <th>2</th>\n",
       "      <td>0</td>\n",
       "      <td>0</td>\n",
       "      <td>1073.549164</td>\n",
       "      <td>31767.138947</td>\n",
       "    </tr>\n",
       "    <tr>\n",
       "      <th>3</th>\n",
       "      <td>0</td>\n",
       "      <td>0</td>\n",
       "      <td>529.250605</td>\n",
       "      <td>35704.493935</td>\n",
       "    </tr>\n",
       "    <tr>\n",
       "      <th>4</th>\n",
       "      <td>0</td>\n",
       "      <td>0</td>\n",
       "      <td>785.655883</td>\n",
       "      <td>38463.495879</td>\n",
       "    </tr>\n",
       "    <tr>\n",
       "      <th>...</th>\n",
       "      <td>...</td>\n",
       "      <td>...</td>\n",
       "      <td>...</td>\n",
       "      <td>...</td>\n",
       "    </tr>\n",
       "    <tr>\n",
       "      <th>9995</th>\n",
       "      <td>0</td>\n",
       "      <td>0</td>\n",
       "      <td>711.555020</td>\n",
       "      <td>52992.378914</td>\n",
       "    </tr>\n",
       "    <tr>\n",
       "      <th>9996</th>\n",
       "      <td>0</td>\n",
       "      <td>0</td>\n",
       "      <td>757.962918</td>\n",
       "      <td>19660.721768</td>\n",
       "    </tr>\n",
       "    <tr>\n",
       "      <th>9997</th>\n",
       "      <td>0</td>\n",
       "      <td>0</td>\n",
       "      <td>845.411989</td>\n",
       "      <td>58636.156984</td>\n",
       "    </tr>\n",
       "    <tr>\n",
       "      <th>9998</th>\n",
       "      <td>0</td>\n",
       "      <td>0</td>\n",
       "      <td>1569.009053</td>\n",
       "      <td>36669.112365</td>\n",
       "    </tr>\n",
       "    <tr>\n",
       "      <th>9999</th>\n",
       "      <td>0</td>\n",
       "      <td>1</td>\n",
       "      <td>200.922183</td>\n",
       "      <td>16862.952321</td>\n",
       "    </tr>\n",
       "  </tbody>\n",
       "</table>\n",
       "<p>10000 rows × 4 columns</p>\n",
       "</div>"
      ],
      "text/plain": [
       "      default  student      balance        income\n",
       "0           0        0   729.526495  44361.625074\n",
       "1           0        1   817.180407  12106.134700\n",
       "2           0        0  1073.549164  31767.138947\n",
       "3           0        0   529.250605  35704.493935\n",
       "4           0        0   785.655883  38463.495879\n",
       "...       ...      ...          ...           ...\n",
       "9995        0        0   711.555020  52992.378914\n",
       "9996        0        0   757.962918  19660.721768\n",
       "9997        0        0   845.411989  58636.156984\n",
       "9998        0        0  1569.009053  36669.112365\n",
       "9999        0        1   200.922183  16862.952321\n",
       "\n",
       "[10000 rows x 4 columns]"
      ]
     },
     "execution_count": 2,
     "metadata": {},
     "output_type": "execute_result"
    }
   ],
   "source": [
    "df = pd.read_csv(\"data/Default.csv\")\n",
    "df"
   ]
  },
  {
   "cell_type": "code",
   "execution_count": 10,
   "metadata": {},
   "outputs": [],
   "source": [
    "X = df[[\"income\", \"balance\", \"student\"]]\n",
    "y = df[\"default\"]\n",
    "model = LogisticRegression()\n",
    "model.fit(X, y)\n",
    "\n",
    "a = model.intercept_\n",
    "b, c, d = model.coef_.squeeze()\n",
    "\n",
    "assert np.exp(d).round(2) == 0.54  # See \"interpretation\" markdown cell."
   ]
  },
  {
   "cell_type": "code",
   "execution_count": 26,
   "metadata": {},
   "outputs": [
    {
     "data": {
      "text/plain": [
       "True"
      ]
     },
     "execution_count": 26,
     "metadata": {},
     "output_type": "execute_result"
    }
   ],
   "source": [
    "p = model.predict_proba(X)[:, 1]\n",
    "all(model.predict(X) == (p >= 0.5))"
   ]
  },
  {
   "cell_type": "code",
   "execution_count": 30,
   "metadata": {},
   "outputs": [
    {
     "data": {
      "text/plain": [
       "(array([0, 1]), array([0.49661381, 0.64543196]))"
      ]
     },
     "execution_count": 30,
     "metadata": {},
     "output_type": "execute_result"
    }
   ],
   "source": [
    "x = pd.DataFrame(\n",
    "    {\n",
    "        \"income\": [10000, 10000],\n",
    "        \"balance\": [2000, 2000],\n",
    "        \"student\": [1, 0],\n",
    "    }\n",
    ")\n",
    "\n",
    "model.predict(x), model.predict_proba(x)[:, 1]"
   ]
  },
  {
   "cell_type": "code",
   "execution_count": null,
   "metadata": {},
   "outputs": [],
   "source": [
    "p_student = model.predict_proba(x)[:, 1]"
   ]
  }
 ],
 "metadata": {
  "kernelspec": {
   "display_name": ".venv",
   "language": "python",
   "name": "python3"
  },
  "language_info": {
   "codemirror_mode": {
    "name": "ipython",
    "version": 3
   },
   "file_extension": ".py",
   "mimetype": "text/x-python",
   "name": "python",
   "nbconvert_exporter": "python",
   "pygments_lexer": "ipython3",
   "version": "3.12.7"
  }
 },
 "nbformat": 4,
 "nbformat_minor": 2
}
