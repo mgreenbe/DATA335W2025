{
 "cells": [
  {
   "cell_type": "markdown",
   "metadata": {},
   "source": [
    "### A hierarchical model\n",
    "\n",
    "Suppose ***scholastic aptitude (SA)***, denoted $u$, is distributed normally in the population with mean $\\mu_0$ and variance $\\sigma_0^2$:\n",
    "$$\n",
    "u\\sim N(\\mu_0, \\sigma_0^2)\n",
    "$$\n",
    "\n",
    "The random variable $u$ is ***latent*** &mdash; unobservable.\n",
    "\n",
    "A person's ***Scholastic Aptitute Test (SAT)*** score, denoted $y$, is supposed to reflect their scholastic aptitute $u$. Assume:\n",
    "$$\n",
    "y\\mid u \\sim N(u, \\sigma^2)\n",
    "$$\n",
    "Thus, $\\sigma$ is a reflection of the SAT's measurement error.\n",
    "\n",
    "Variance in SAT score in the population has two sources: variation in SA across the population ($\\sigma_0$) and variation in SAT scores among people with the same SA ($\\sigma$). By *The Theory*, these two sources of variation combine additively:\n",
    "$$\n",
    "y\\sim N(\\mu_0,\\sigma_0^2 + \\sigma^2)\n",
    "$$"
   ]
  },
  {
   "cell_type": "markdown",
   "metadata": {},
   "source": [
    "### An application of Bayes' Theorem\n",
    "\n",
    "What can we say about someone's SA if we know their test score? More precisely, what is $p(u\\mid y)$?\n",
    "\n",
    "By Bayes' Theorem,\n",
    "$$\n",
    "p(u\\mid y) = \\frac{p(y\\mid u)p(u)}{p(y)}.\n",
    "$$\n",
    "\n",
    "We know $p(u)$, $p(y\\mid u)$, and $p(y)$. With some algebraic perseverance, we manipulate the right hand side of the the above identify into standard Gaussian form and identify its mean and variance.\n",
    "\n",
    "Set\n",
    "$$\n",
    "\\tau_0 = \\frac1{\\sigma_0},\\qquad \\tau= \\frac1{\\sigma}.\n",
    "$$\n",
    "The reciprocal variances $\\tau_0^2$ and $\\tau$^2 are called ***precisions***.\n",
    "\n",
    "We have:\n",
    "$$\n",
    "\\begin{aligned}\n",
    "\\mathbb{E}[u\\mid y] &= \\frac{\\tau_0^2}{\\tau_0^2 + \\tau^2}\\mu_0 + \\frac{\\tau^2}{\\tau_0^2 + \\tau^2}y\\\\\n",
    "\\mathbb{V}[u\\mid y] &= \\frac{1}{\\tau_0^2 + \\tau^2}\n",
    "\\end{aligned}\n",
    "$$"
   ]
  },
  {
   "cell_type": "markdown",
   "metadata": {},
   "source": [
    "Let $\\theta$ be the ratio of uncertainty in scholastic aptitude to uncertainty in SAT results.\n",
    "$$\n",
    "\\theta = \\frac{\\sigma_0}{\\sigma} = \\frac{\\tau}{\\tau_0}.\n",
    "$$\n",
    "(The larger $\\theta$ is, the more reliable the SAT for capturing the latent SA quantity.)\n",
    "\n",
    "Setting\n",
    "$$\n",
    "t = \\frac{1}{1 + \\theta^2}\n",
    "$$\n",
    "we have\n",
    "$$\n",
    "\\mathbb{E}[u\\mid y] = t\\mu_0 + (1 - t)y.\n",
    "$$\n",
    "\n",
    "The expression on the right hand side lies between $\\mu_0$ and $y$.\n",
    "\n",
    "If $\\theta$ is small, $\\mathbb{E}[u\\mid y]$ is close to $\\mu_0$. Makes sense: If $\\theta$ is small then the SAT score $y$ isn't a reliable reflection of SA $u$ we hedge our bet for $u$ towards the population mean.\n",
    "\n",
    "If $\\theta$ is big, $\\mathbb{E}[u\\mid y]$ is close to $y$. Makes sense: If $\\theta$ is big then the SAT score $y$ is a reliable reflection of SA $u$ and we don't need to hedge our bets.\n"
   ]
  },
  {
   "cell_type": "markdown",
   "metadata": {},
   "source": [
    "### More generally\n",
    "\n",
    "You might draw many $y$ subordinate to the same draw of $u$:\n",
    "\n",
    "$$\n",
    "\\begin{aligned}\n",
    "u_i&\\sim N(\\mu_0, \\sigma_0^2),&&i<m,\\\\\n",
    "y_{ij}\\mid u_i &\\sim N(u_i,\\sigma^2),&&j < n_i\n",
    "\\end{aligned}\n",
    "$$\n",
    "\n",
    "Two draws $y_{ij}$ and $y_{ij'}$ are identically distributed and conditionally independent, given $u_i$, but not independent.\n",
    "\n",
    "Later, we'll discuss how to estimate the parameters of such a model "
   ]
  },
  {
   "cell_type": "code",
   "execution_count": 52,
   "metadata": {},
   "outputs": [
    {
     "data": {
      "text/html": [
       "<div>\n",
       "<style scoped>\n",
       "    .dataframe tbody tr th:only-of-type {\n",
       "        vertical-align: middle;\n",
       "    }\n",
       "\n",
       "    .dataframe tbody tr th {\n",
       "        vertical-align: top;\n",
       "    }\n",
       "\n",
       "    .dataframe thead th {\n",
       "        text-align: right;\n",
       "    }\n",
       "</style>\n",
       "<table border=\"1\" class=\"dataframe\">\n",
       "  <thead>\n",
       "    <tr style=\"text-align: right;\">\n",
       "      <th></th>\n",
       "      <th>y</th>\n",
       "      <th>i</th>\n",
       "      <th>Intercept</th>\n",
       "    </tr>\n",
       "  </thead>\n",
       "  <tbody>\n",
       "    <tr>\n",
       "      <th>0</th>\n",
       "      <td>17.500510</td>\n",
       "      <td>0</td>\n",
       "      <td>1</td>\n",
       "    </tr>\n",
       "    <tr>\n",
       "      <th>1</th>\n",
       "      <td>30.510661</td>\n",
       "      <td>6</td>\n",
       "      <td>1</td>\n",
       "    </tr>\n",
       "    <tr>\n",
       "      <th>2</th>\n",
       "      <td>14.099756</td>\n",
       "      <td>4</td>\n",
       "      <td>1</td>\n",
       "    </tr>\n",
       "    <tr>\n",
       "      <th>3</th>\n",
       "      <td>20.082010</td>\n",
       "      <td>3</td>\n",
       "      <td>1</td>\n",
       "    </tr>\n",
       "    <tr>\n",
       "      <th>4</th>\n",
       "      <td>16.329387</td>\n",
       "      <td>1</td>\n",
       "      <td>1</td>\n",
       "    </tr>\n",
       "  </tbody>\n",
       "</table>\n",
       "</div>"
      ],
      "text/plain": [
       "           y  i  Intercept\n",
       "0  17.500510  0          1\n",
       "1  30.510661  6          1\n",
       "2  14.099756  4          1\n",
       "3  20.082010  3          1\n",
       "4  16.329387  1          1"
      ]
     },
     "execution_count": 52,
     "metadata": {},
     "output_type": "execute_result"
    }
   ],
   "source": [
    "import numpy as np\n",
    "import pandas as pd\n",
    "from collections import Counter\n",
    "from matplotlib import pyplot as plt\n",
    "from statsmodels.api import MixedLM\n",
    "from sklearn.metrics import mean_squared_error\n",
    "from sklearn.linear_model import LinearRegression\n",
    "\n",
    "\n",
    "mu0 = 20\n",
    "sigma0 = 5\n",
    "sigma = 3\n",
    "m = 7\n",
    "\n",
    "cat_dtype = pd.CategoricalDtype(categories=np.arange(m))\n",
    "\n",
    "\n",
    "def make_data(n, rng=None):\n",
    "    rng = np.random.default_rng(rng)\n",
    "    u = rng.normal(mu0, sigma0, size=m)\n",
    "    i = rng.choice(range(m), size=n)\n",
    "    y = rng.normal(u[i], sigma)\n",
    "    df = pd.DataFrame({\"y\": y, \"i\": i, \"Intercept\": 1})\n",
    "    df[\"i\"] = df[\"i\"].astype(cat_dtype)\n",
    "    return df\n",
    "\n",
    "\n",
    "df_train = make_data(30)\n",
    "df_test = make_data(10_000)\n",
    "df_train.head()"
   ]
  },
  {
   "cell_type": "code",
   "execution_count": 53,
   "metadata": {},
   "outputs": [
    {
     "data": {
      "text/plain": [
       "49.14887433608354"
      ]
     },
     "execution_count": 53,
     "metadata": {},
     "output_type": "execute_result"
    }
   ],
   "source": [
    "y_train = df_train[\"y\"]\n",
    "X_train = pd.get_dummies(df_train[\"i\"])\n",
    "assert X_train.shape[1] == 7\n",
    "\n",
    "y_test = df_test[\"y\"]\n",
    "X_test = pd.get_dummies(df_test[\"i\"])\n",
    "assert X_train.shape[1] == 7\n",
    "\n",
    "lr_model = LinearRegression(fit_intercept=False)\n",
    "lr_model.fit(X_train, y_train)\n",
    "test_mse = mean_squared_error(y_test, lr_model.predict(X_test))\n",
    "test_mse"
   ]
  },
  {
   "cell_type": "code",
   "execution_count": 57,
   "metadata": {},
   "outputs": [
    {
     "data": {
      "text/html": [
       "<table class=\"simpletable\">\n",
       "<tr>\n",
       "       <td>Model:</td>       <td>MixedLM</td> <td>Dependent Variable:</td>     <td>y</td>   \n",
       "</tr>\n",
       "<tr>\n",
       "  <td>No. Observations:</td>   <td>30</td>          <td>Method:</td>         <td>REML</td>  \n",
       "</tr>\n",
       "<tr>\n",
       "     <td>No. Groups:</td>       <td>7</td>          <td>Scale:</td>         <td>9.0400</td> \n",
       "</tr>\n",
       "<tr>\n",
       "  <td>Min. group size:</td>     <td>2</td>      <td>Log-Likelihood:</td>   <td>-82.2354</td>\n",
       "</tr>\n",
       "<tr>\n",
       "  <td>Max. group size:</td>     <td>7</td>        <td>Converged:</td>         <td>Yes</td>  \n",
       "</tr>\n",
       "<tr>\n",
       "  <td>Mean group size:</td>    <td>4.3</td>            <td></td>               <td></td>    \n",
       "</tr>\n",
       "</table>\n",
       "<table class=\"simpletable\">\n",
       "<tr>\n",
       "      <td></td>       <th>Coef.</th> <th>Std.Err.</th>    <th>z</th>   <th>P>|z|</th> <th>[0.025</th> <th>0.975]</th>\n",
       "</tr>\n",
       "<tr>\n",
       "  <th>Intercept</th> <td>21.200</td>   <td>1.994</td>  <td>10.629</td> <td>0.000</td> <td>17.291</td> <td>25.109</td>\n",
       "</tr>\n",
       "<tr>\n",
       "  <th>Group Var</th> <td>25.395</td>   <td>5.941</td>     <td></td>      <td></td>       <td></td>       <td></td>   \n",
       "</tr>\n",
       "</table><br/>\n"
      ],
      "text/latex": [
       "\\begin{table}\n",
       "\\caption{Mixed Linear Model Regression Results}\n",
       "\\label{}\n",
       "\\begin{center}\n",
       "\\begin{tabular}{llll}\n",
       "\\hline\n",
       "Model:            & MixedLM & Dependent Variable: & y         \\\\\n",
       "No. Observations: & 30      & Method:             & REML      \\\\\n",
       "No. Groups:       & 7       & Scale:              & 9.0400    \\\\\n",
       "Min. group size:  & 2       & Log-Likelihood:     & -82.2354  \\\\\n",
       "Max. group size:  & 7       & Converged:          & Yes       \\\\\n",
       "Mean group size:  & 4.3     &                     &           \\\\\n",
       "\\hline\n",
       "\\end{tabular}\n",
       "\\end{center}\n",
       "\n",
       "\\begin{center}\n",
       "\\begin{tabular}{lrrrrrr}\n",
       "\\hline\n",
       "          &  Coef. & Std.Err. &      z & P$> |$z$|$ & [0.025 & 0.975]  \\\\\n",
       "\\hline\n",
       "Intercept & 21.200 &    1.994 & 10.629 &       0.000 & 17.291 & 25.109  \\\\\n",
       "Group Var & 25.395 &    5.941 &        &             &        &         \\\\\n",
       "\\hline\n",
       "\\end{tabular}\n",
       "\\end{center}\n",
       "\\end{table}\n",
       "\\bigskip\n"
      ],
      "text/plain": [
       "<class 'statsmodels.iolib.summary2.Summary'>\n",
       "\"\"\"\n",
       "        Mixed Linear Model Regression Results\n",
       "======================================================\n",
       "Model:            MixedLM Dependent Variable: y       \n",
       "No. Observations: 30      Method:             REML    \n",
       "No. Groups:       7       Scale:              9.0400  \n",
       "Min. group size:  2       Log-Likelihood:     -82.2354\n",
       "Max. group size:  7       Converged:          Yes     \n",
       "Mean group size:  4.3                                 \n",
       "------------------------------------------------------\n",
       "            Coef.  Std.Err.   z    P>|z| [0.025 0.975]\n",
       "------------------------------------------------------\n",
       "Intercept   21.200    1.994 10.629 0.000 17.291 25.109\n",
       "Group Var   25.395    5.941                           \n",
       "======================================================\n",
       "\n",
       "\"\"\""
      ]
     },
     "execution_count": 57,
     "metadata": {},
     "output_type": "execute_result"
    }
   ],
   "source": [
    "mixed_model = MixedLM(df_train[\"y\"], df_train[[\"Intercept\"]], groups=df_train[\"i\"])\n",
    "fit = mixed_model.fit()\n",
    "fit.summary()"
   ]
  },
  {
   "cell_type": "code",
   "execution_count": 55,
   "metadata": {},
   "outputs": [],
   "source": [
    "assert np.allclose(df_train.groupby(\"i\", observed=False)[\"y\"].mean(), lr_model.coef_)"
   ]
  },
  {
   "cell_type": "code",
   "execution_count": 42,
   "metadata": {},
   "outputs": [
    {
     "data": {
      "text/plain": [
       "136.45090563906143"
      ]
     },
     "execution_count": 42,
     "metadata": {},
     "output_type": "execute_result"
    }
   ],
   "source": [
    "mixed_preds = fit.params[\"Intercept\"] + df_test[\"i\"].map(\n",
    "    lambda i: fit.random_effects[i][\"Group Var\"]\n",
    ").astype(float)\n",
    "test_mse = mean_squared_error(y_test, mixed_preds)\n",
    "test_mse"
   ]
  },
  {
   "cell_type": "code",
   "execution_count": 45,
   "metadata": {},
   "outputs": [
    {
     "name": "stderr",
     "output_type": "stream",
     "text": [
      "/Users/mgreenbe/DATA335W2025/.venv/lib/python3.12/site-packages/statsmodels/base/model.py:607: ConvergenceWarning: Maximum Likelihood optimization failed to converge. Check mle_retvals\n",
      "  warnings.warn(\"Maximum Likelihood optimization failed to \"\n",
      "/Users/mgreenbe/DATA335W2025/.venv/lib/python3.12/site-packages/statsmodels/regression/mixed_linear_model.py:2200: ConvergenceWarning: Retrying MixedLM optimization with lbfgs\n",
      "  warnings.warn(\n",
      "/Users/mgreenbe/DATA335W2025/.venv/lib/python3.12/site-packages/statsmodels/base/model.py:607: ConvergenceWarning: Maximum Likelihood optimization failed to converge. Check mle_retvals\n",
      "  warnings.warn(\"Maximum Likelihood optimization failed to \"\n",
      "/Users/mgreenbe/DATA335W2025/.venv/lib/python3.12/site-packages/statsmodels/regression/mixed_linear_model.py:2200: ConvergenceWarning: Retrying MixedLM optimization with cg\n",
      "  warnings.warn(\n",
      "/Users/mgreenbe/DATA335W2025/.venv/lib/python3.12/site-packages/statsmodels/base/model.py:607: ConvergenceWarning: Maximum Likelihood optimization failed to converge. Check mle_retvals\n",
      "  warnings.warn(\"Maximum Likelihood optimization failed to \"\n",
      "/Users/mgreenbe/DATA335W2025/.venv/lib/python3.12/site-packages/statsmodels/regression/mixed_linear_model.py:2206: ConvergenceWarning: MixedLM optimization failed, trying a different optimizer may help.\n",
      "  warnings.warn(msg, ConvergenceWarning)\n",
      "/Users/mgreenbe/DATA335W2025/.venv/lib/python3.12/site-packages/statsmodels/regression/mixed_linear_model.py:2218: ConvergenceWarning: Gradient optimization failed, |grad| = 1.099732\n",
      "  warnings.warn(msg, ConvergenceWarning)\n",
      "/Users/mgreenbe/DATA335W2025/.venv/lib/python3.12/site-packages/statsmodels/regression/mixed_linear_model.py:2261: ConvergenceWarning: The Hessian matrix at the estimated parameter values is not positive definite.\n",
      "  warnings.warn(msg, ConvergenceWarning)\n",
      "/Users/mgreenbe/DATA335W2025/.venv/lib/python3.12/site-packages/statsmodels/regression/mixed_linear_model.py:1634: UserWarning: Random effects covariance is singular\n",
      "  warnings.warn(msg)\n",
      "/Users/mgreenbe/DATA335W2025/.venv/lib/python3.12/site-packages/statsmodels/regression/mixed_linear_model.py:2237: ConvergenceWarning: The MLE may be on the boundary of the parameter space.\n",
      "  warnings.warn(msg, ConvergenceWarning)\n",
      "/Users/mgreenbe/DATA335W2025/.venv/lib/python3.12/site-packages/statsmodels/base/model.py:607: ConvergenceWarning: Maximum Likelihood optimization failed to converge. Check mle_retvals\n",
      "  warnings.warn(\"Maximum Likelihood optimization failed to \"\n",
      "/Users/mgreenbe/DATA335W2025/.venv/lib/python3.12/site-packages/statsmodels/regression/mixed_linear_model.py:2200: ConvergenceWarning: Retrying MixedLM optimization with lbfgs\n",
      "  warnings.warn(\n",
      "/Users/mgreenbe/DATA335W2025/.venv/lib/python3.12/site-packages/statsmodels/base/model.py:607: ConvergenceWarning: Maximum Likelihood optimization failed to converge. Check mle_retvals\n",
      "  warnings.warn(\"Maximum Likelihood optimization failed to \"\n",
      "/Users/mgreenbe/DATA335W2025/.venv/lib/python3.12/site-packages/statsmodels/regression/mixed_linear_model.py:2200: ConvergenceWarning: Retrying MixedLM optimization with cg\n",
      "  warnings.warn(\n",
      "/Users/mgreenbe/DATA335W2025/.venv/lib/python3.12/site-packages/statsmodels/base/model.py:607: ConvergenceWarning: Maximum Likelihood optimization failed to converge. Check mle_retvals\n",
      "  warnings.warn(\"Maximum Likelihood optimization failed to \"\n",
      "/Users/mgreenbe/DATA335W2025/.venv/lib/python3.12/site-packages/statsmodels/regression/mixed_linear_model.py:2206: ConvergenceWarning: MixedLM optimization failed, trying a different optimizer may help.\n",
      "  warnings.warn(msg, ConvergenceWarning)\n",
      "/Users/mgreenbe/DATA335W2025/.venv/lib/python3.12/site-packages/statsmodels/regression/mixed_linear_model.py:2218: ConvergenceWarning: Gradient optimization failed, |grad| = 0.957264\n",
      "  warnings.warn(msg, ConvergenceWarning)\n",
      "/Users/mgreenbe/DATA335W2025/.venv/lib/python3.12/site-packages/statsmodels/regression/mixed_linear_model.py:2261: ConvergenceWarning: The Hessian matrix at the estimated parameter values is not positive definite.\n",
      "  warnings.warn(msg, ConvergenceWarning)\n",
      "/Users/mgreenbe/DATA335W2025/.venv/lib/python3.12/site-packages/statsmodels/regression/mixed_linear_model.py:1634: UserWarning: Random effects covariance is singular\n",
      "  warnings.warn(msg)\n",
      "/Users/mgreenbe/DATA335W2025/.venv/lib/python3.12/site-packages/statsmodels/regression/mixed_linear_model.py:2237: ConvergenceWarning: The MLE may be on the boundary of the parameter space.\n",
      "  warnings.warn(msg, ConvergenceWarning)\n",
      "/Users/mgreenbe/DATA335W2025/.venv/lib/python3.12/site-packages/statsmodels/base/model.py:607: ConvergenceWarning: Maximum Likelihood optimization failed to converge. Check mle_retvals\n",
      "  warnings.warn(\"Maximum Likelihood optimization failed to \"\n",
      "/Users/mgreenbe/DATA335W2025/.venv/lib/python3.12/site-packages/statsmodels/regression/mixed_linear_model.py:2200: ConvergenceWarning: Retrying MixedLM optimization with lbfgs\n",
      "  warnings.warn(\n",
      "/Users/mgreenbe/DATA335W2025/.venv/lib/python3.12/site-packages/statsmodels/base/model.py:607: ConvergenceWarning: Maximum Likelihood optimization failed to converge. Check mle_retvals\n",
      "  warnings.warn(\"Maximum Likelihood optimization failed to \"\n",
      "/Users/mgreenbe/DATA335W2025/.venv/lib/python3.12/site-packages/statsmodels/regression/mixed_linear_model.py:2200: ConvergenceWarning: Retrying MixedLM optimization with lbfgs\n",
      "  warnings.warn(\n",
      "/Users/mgreenbe/DATA335W2025/.venv/lib/python3.12/site-packages/statsmodels/base/model.py:607: ConvergenceWarning: Maximum Likelihood optimization failed to converge. Check mle_retvals\n",
      "  warnings.warn(\"Maximum Likelihood optimization failed to \"\n",
      "/Users/mgreenbe/DATA335W2025/.venv/lib/python3.12/site-packages/statsmodels/regression/mixed_linear_model.py:2200: ConvergenceWarning: Retrying MixedLM optimization with cg\n",
      "  warnings.warn(\n",
      "/Users/mgreenbe/DATA335W2025/.venv/lib/python3.12/site-packages/statsmodels/base/model.py:607: ConvergenceWarning: Maximum Likelihood optimization failed to converge. Check mle_retvals\n",
      "  warnings.warn(\"Maximum Likelihood optimization failed to \"\n",
      "/Users/mgreenbe/DATA335W2025/.venv/lib/python3.12/site-packages/statsmodels/regression/mixed_linear_model.py:2206: ConvergenceWarning: MixedLM optimization failed, trying a different optimizer may help.\n",
      "  warnings.warn(msg, ConvergenceWarning)\n",
      "/Users/mgreenbe/DATA335W2025/.venv/lib/python3.12/site-packages/statsmodels/regression/mixed_linear_model.py:2218: ConvergenceWarning: Gradient optimization failed, |grad| = 1.196478\n",
      "  warnings.warn(msg, ConvergenceWarning)\n"
     ]
    }
   ],
   "source": [
    "fe_mses = []\n",
    "re_mses = []\n",
    "\n",
    "for _ in range(1000):\n",
    "    df_train = make_data(30)\n",
    "    y_train = df_train[\"y\"]\n",
    "    X_train = pd.get_dummies(df_train[\"i\"])\n",
    "    assert X_train.shape[1] == 7\n",
    "\n",
    "    y_test = df_test[\"y\"]\n",
    "    X_test = pd.get_dummies(df_test[\"i\"])\n",
    "    assert X_train.shape[1] == 7\n",
    "\n",
    "    lr_model = LinearRegression(fit_intercept=False)\n",
    "    lr_model.fit(X_train, y_train)\n",
    "    assert np.allclose(\n",
    "        df_train.groupby(\"i\", observed=False)[\"y\"].mean().fillna(0.0), lr_model.coef_\n",
    "    )\n",
    "    fe_mse = mean_squared_error(y_test, lr_model.predict(X_test))\n",
    "    fe_mses.append(fe_mse)\n",
    "\n",
    "    mixed_model = MixedLM(df_train[\"y\"], df_train[[\"Intercept\"]], groups=df_train[\"i\"])\n",
    "    fit = mixed_model.fit()\n",
    "\n",
    "    mixed_preds = fit.params[\"Intercept\"] + df_test[\"i\"].map(\n",
    "        lambda i: fit.random_effects[i][\"Group Var\"] if i in fit.random_effects else 0.0\n",
    "    ).astype(float)\n",
    "    re_mse = mean_squared_error(y_test, mixed_preds)\n",
    "    re_mses.append(re_mse)"
   ]
  },
  {
   "cell_type": "code",
   "execution_count": 46,
   "metadata": {},
   "outputs": [
    {
     "data": {
      "image/png": "[encoded data removed]",
      "text/plain": [
       "<Figure size 640x480 with 1 Axes>"
      ]
     },
     "metadata": {},
     "output_type": "display_data"
    }
   ],
   "source": [
    "_, bins, __ = plt.hist(fe_mses, bins=20, alpha=0.5, label=\"fixed effects model\")\n",
    "plt.hist(re_mses, bins=bins, alpha=0.5, label=\"random effects model\")\n",
    "plt.vlines([np.mean(fe_mses), np.mean(re_mses)], *plt.ylim(), colors=[\"C0\", \"C1\"])\n",
    "plt.title(\"Distribution of test set MSE\")\n",
    "plt.legend()\n",
    "plt.show()"
   ]
  },
  {
   "cell_type": "code",
   "execution_count": 50,
   "metadata": {},
   "outputs": [
    {
     "data": {
      "text/plain": [
       "Group Var    1.730918\n",
       "dtype: float64"
      ]
     },
     "execution_count": 50,
     "metadata": {},
     "output_type": "execute_result"
    }
   ],
   "source": [
    "fit.bse_re"
   ]
  },
  {
   "cell_type": "code",
   "execution_count": 51,
   "metadata": {},
   "outputs": [
    {
     "data": {
      "text/plain": [
       "Intercept    1.103618\n",
       "Group Var    0.532956\n",
       "dtype: float64"
      ]
     },
     "execution_count": 51,
     "metadata": {},
     "output_type": "execute_result"
    }
   ],
   "source": [
    "fit.bse"
   ]
  },
  {
   "cell_type": "code",
   "execution_count": null,
   "metadata": {},
   "outputs": [],
   "source": []
  }
 ],
 "metadata": {
  "kernelspec": {
   "display_name": ".venv",
   "language": "python",
   "name": "python3"
  },
  "language_info": {
   "codemirror_mode": {
    "name": "ipython",
    "version": 3
   },
   "file_extension": ".py",
   "mimetype": "text/x-python",
   "name": "python",
   "nbconvert_exporter": "python",
   "pygments_lexer": "ipython3",
   "version": "3.12.9"
  }
 },
 "nbformat": 4,
 "nbformat_minor": 2
}
