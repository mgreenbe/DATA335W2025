{
 "cells": [
  {
   "cell_type": "code",
   "execution_count": 1,
   "metadata": {},
   "outputs": [],
   "source": [
    "import numpy as np\n",
    "import pandas as pd\n",
    "import bambi as bmb\n",
    "import scipy.stats as stats\n",
    "from typing import Sequence\n",
    "from matplotlib import pyplot as plt\n",
    "from dataclasses import dataclass, field\n",
    "from numpy.typing import NDArray\n",
    "from cmdstanpy import CmdStanModel, CmdStanMCMC\n",
    "from data335 import lm\n",
    "from arviz import InferenceData"
   ]
  },
  {
   "cell_type": "code",
   "execution_count": 2,
   "metadata": {},
   "outputs": [],
   "source": [
    "model = CmdStanModel(stan_file=\"slr.stan\")\n",
    "hibbs = pd.read_csv(\"../data/hibbs.csv\")\n",
    "data = {\"N\": len(hibbs), \"x\": hibbs[\"growth\"], \"y\": hibbs[\"vote\"]}"
   ]
  },
  {
   "cell_type": "code",
   "execution_count": 3,
   "metadata": {},
   "outputs": [
    {
     "name": "stderr",
     "output_type": "stream",
     "text": [
      "11:29:07 - cmdstanpy - INFO - CmdStan start processing\n"
     ]
    },
    {
     "data": {
      "application/vnd.jupyter.widget-view+json": {
       "model_id": "4a5929eb3d204960959284bcaa407167",
       "version_major": 2,
       "version_minor": 0
      },
      "text/plain": [
       "chain 1 |          | 00:00 Status"
      ]
     },
     "metadata": {},
     "output_type": "display_data"
    },
    {
     "data": {
      "application/vnd.jupyter.widget-view+json": {
       "model_id": "550c8fff5ffb4d558ed3d7feb5e456bf",
       "version_major": 2,
       "version_minor": 0
      },
      "text/plain": [
       "chain 2 |          | 00:00 Status"
      ]
     },
     "metadata": {},
     "output_type": "display_data"
    },
    {
     "data": {
      "application/vnd.jupyter.widget-view+json": {
       "model_id": "7d5e5be5150d41f68ad3c41ca5e3199c",
       "version_major": 2,
       "version_minor": 0
      },
      "text/plain": [
       "chain 3 |          | 00:00 Status"
      ]
     },
     "metadata": {},
     "output_type": "display_data"
    },
    {
     "data": {
      "application/vnd.jupyter.widget-view+json": {
       "model_id": "47081ade1fdb4b1d9c48eec3030c297b",
       "version_major": 2,
       "version_minor": 0
      },
      "text/plain": [
       "chain 4 |          | 00:00 Status"
      ]
     },
     "metadata": {},
     "output_type": "display_data"
    },
    {
     "name": "stdout",
     "output_type": "stream",
     "text": [
      "                                                                                                                                                                                                                                                                                                                                "
     ]
    },
    {
     "name": "stderr",
     "output_type": "stream",
     "text": [
      "11:29:07 - cmdstanpy - INFO - CmdStan done processing.\n"
     ]
    },
    {
     "name": "stdout",
     "output_type": "stream",
     "text": [
      "\n"
     ]
    }
   ],
   "source": [
    "fit = model.sample(data)"
   ]
  },
  {
   "cell_type": "code",
   "execution_count": 4,
   "metadata": {},
   "outputs": [
    {
     "data": {
      "text/html": [
       "<div>\n",
       "<style scoped>\n",
       "    .dataframe tbody tr th:only-of-type {\n",
       "        vertical-align: middle;\n",
       "    }\n",
       "\n",
       "    .dataframe tbody tr th {\n",
       "        vertical-align: top;\n",
       "    }\n",
       "\n",
       "    .dataframe thead th {\n",
       "        text-align: right;\n",
       "    }\n",
       "</style>\n",
       "<table border=\"1\" class=\"dataframe\">\n",
       "  <thead>\n",
       "    <tr style=\"text-align: right;\">\n",
       "      <th></th>\n",
       "      <th>a</th>\n",
       "      <th>b</th>\n",
       "      <th>sigma</th>\n",
       "    </tr>\n",
       "  </thead>\n",
       "  <tbody>\n",
       "    <tr>\n",
       "      <th>0</th>\n",
       "      <td>44.1052</td>\n",
       "      <td>4.29190</td>\n",
       "      <td>2.89128</td>\n",
       "    </tr>\n",
       "    <tr>\n",
       "      <th>1</th>\n",
       "      <td>45.1395</td>\n",
       "      <td>3.37226</td>\n",
       "      <td>3.43163</td>\n",
       "    </tr>\n",
       "    <tr>\n",
       "      <th>2</th>\n",
       "      <td>45.0430</td>\n",
       "      <td>4.32875</td>\n",
       "      <td>3.29978</td>\n",
       "    </tr>\n",
       "    <tr>\n",
       "      <th>3</th>\n",
       "      <td>47.7658</td>\n",
       "      <td>1.97412</td>\n",
       "      <td>4.21358</td>\n",
       "    </tr>\n",
       "    <tr>\n",
       "      <th>4</th>\n",
       "      <td>49.6866</td>\n",
       "      <td>1.25895</td>\n",
       "      <td>3.93010</td>\n",
       "    </tr>\n",
       "    <tr>\n",
       "      <th>...</th>\n",
       "      <td>...</td>\n",
       "      <td>...</td>\n",
       "      <td>...</td>\n",
       "    </tr>\n",
       "    <tr>\n",
       "      <th>3995</th>\n",
       "      <td>43.8671</td>\n",
       "      <td>3.67162</td>\n",
       "      <td>4.46861</td>\n",
       "    </tr>\n",
       "    <tr>\n",
       "      <th>3996</th>\n",
       "      <td>44.0549</td>\n",
       "      <td>3.56198</td>\n",
       "      <td>3.50739</td>\n",
       "    </tr>\n",
       "    <tr>\n",
       "      <th>3997</th>\n",
       "      <td>46.4954</td>\n",
       "      <td>2.51045</td>\n",
       "      <td>3.71510</td>\n",
       "    </tr>\n",
       "    <tr>\n",
       "      <th>3998</th>\n",
       "      <td>46.8533</td>\n",
       "      <td>3.41099</td>\n",
       "      <td>4.53252</td>\n",
       "    </tr>\n",
       "    <tr>\n",
       "      <th>3999</th>\n",
       "      <td>47.0687</td>\n",
       "      <td>3.05220</td>\n",
       "      <td>3.76708</td>\n",
       "    </tr>\n",
       "  </tbody>\n",
       "</table>\n",
       "<p>4000 rows × 3 columns</p>\n",
       "</div>"
      ],
      "text/plain": [
       "            a        b    sigma\n",
       "0     44.1052  4.29190  2.89128\n",
       "1     45.1395  3.37226  3.43163\n",
       "2     45.0430  4.32875  3.29978\n",
       "3     47.7658  1.97412  4.21358\n",
       "4     49.6866  1.25895  3.93010\n",
       "...       ...      ...      ...\n",
       "3995  43.8671  3.67162  4.46861\n",
       "3996  44.0549  3.56198  3.50739\n",
       "3997  46.4954  2.51045  3.71510\n",
       "3998  46.8533  3.41099  4.53252\n",
       "3999  47.0687  3.05220  3.76708\n",
       "\n",
       "[4000 rows x 3 columns]"
      ]
     },
     "execution_count": 4,
     "metadata": {},
     "output_type": "execute_result"
    }
   ],
   "source": [
    "draws = fit.draws_pd()[[\"a\", \"b\", \"sigma\"]]\n",
    "draws"
   ]
  },
  {
   "cell_type": "code",
   "execution_count": 5,
   "metadata": {},
   "outputs": [],
   "source": [
    "mtcars = pd.read_csv(\"../data/mtcars.csv\", index_col=\"model\")\n",
    "target = \"mpg\"\n",
    "features = [c for c in mtcars.columns if c != target]"
   ]
  },
  {
   "cell_type": "code",
   "execution_count": 6,
   "metadata": {},
   "outputs": [],
   "source": [
    "y = mtcars[target].to_numpy()\n",
    "x = mtcars[features].to_numpy()\n",
    "N, K = x.shape\n",
    "data = {\"N\": N, \"K\": K, \"x\": x, \"y\": y}"
   ]
  },
  {
   "cell_type": "code",
   "execution_count": 7,
   "metadata": {},
   "outputs": [],
   "source": [
    "model = CmdStanModel(stan_file=\"lr.stan\")"
   ]
  },
  {
   "cell_type": "code",
   "execution_count": 8,
   "metadata": {},
   "outputs": [
    {
     "name": "stderr",
     "output_type": "stream",
     "text": [
      "11:29:07 - cmdstanpy - INFO - CmdStan start processing\n"
     ]
    },
    {
     "data": {
      "application/vnd.jupyter.widget-view+json": {
       "model_id": "91e26ec0ab154f8fbe43a82f92d73b04",
       "version_major": 2,
       "version_minor": 0
      },
      "text/plain": [
       "chain 1 |          | 00:00 Status"
      ]
     },
     "metadata": {},
     "output_type": "display_data"
    },
    {
     "data": {
      "application/vnd.jupyter.widget-view+json": {
       "model_id": "e20490caed0343b091e4a794952c40a8",
       "version_major": 2,
       "version_minor": 0
      },
      "text/plain": [
       "chain 2 |          | 00:00 Status"
      ]
     },
     "metadata": {},
     "output_type": "display_data"
    },
    {
     "data": {
      "application/vnd.jupyter.widget-view+json": {
       "model_id": "dc6767f0b7e04079a4c2186fada93d56",
       "version_major": 2,
       "version_minor": 0
      },
      "text/plain": [
       "chain 3 |          | 00:00 Status"
      ]
     },
     "metadata": {},
     "output_type": "display_data"
    },
    {
     "data": {
      "application/vnd.jupyter.widget-view+json": {
       "model_id": "0d8389ebc0d94bc288e0ddb868efeedb",
       "version_major": 2,
       "version_minor": 0
      },
      "text/plain": [
       "chain 4 |          | 00:00 Status"
      ]
     },
     "metadata": {},
     "output_type": "display_data"
    },
    {
     "name": "stdout",
     "output_type": "stream",
     "text": [
      "                                                                                                                                                                                                                                                                                                                                "
     ]
    },
    {
     "name": "stderr",
     "output_type": "stream",
     "text": [
      "11:29:10 - cmdstanpy - INFO - CmdStan done processing.\n",
      "11:29:10 - cmdstanpy - WARNING - Some chains may have failed to converge.\n",
      "\tChain 2 had 1 iterations at max treedepth (0.1%)\n",
      "\tUse the \"diagnose()\" method on the CmdStanMCMC object to see further information.\n"
     ]
    },
    {
     "name": "stdout",
     "output_type": "stream",
     "text": [
      "\n"
     ]
    }
   ],
   "source": [
    "fit = model.sample(data)"
   ]
  },
  {
   "cell_type": "code",
   "execution_count": 9,
   "metadata": {},
   "outputs": [],
   "source": [
    "@dataclass(kw_only=True)\n",
    "class StanLMFit:\n",
    "    target: str\n",
    "    features: Sequence[str]\n",
    "    model: CmdStanModel\n",
    "    stan_mcmc: CmdStanMCMC = field(repr=False)\n",
    "    draws: pd.DataFrame = field(init=False, repr=False)\n",
    "\n",
    "    median: pd.Series = field(init=False, repr=False)\n",
    "    mad_sd: pd.Series = field(init=False, repr=False)\n",
    "    summary: pd.DataFrame = field(init=False)\n",
    "\n",
    "    def __post_init__(self):\n",
    "        stan_mcmc = self.stan_mcmc\n",
    "        features = self.features\n",
    "\n",
    "        stan_draws = stan_mcmc.draws_pd()\n",
    "        draws = pd.DataFrame(\n",
    "            {\n",
    "                \"(Intercept)\": stan_draws[\"alpha\"],\n",
    "                **{\n",
    "                    feature: stan_draws[f\"beta[{i + 1}]\"]\n",
    "                    for i, feature in enumerate(features)\n",
    "                },\n",
    "                \"sigma\": stan_draws[\"sigma\"],\n",
    "            }\n",
    "        )\n",
    "\n",
    "        median = draws.median()\n",
    "        median.name = \"median\"\n",
    "        mad_sd = pd.Series(\n",
    "            stats.median_abs_deviation(draws, axis=0), median.index, name=\"mad_sd\"\n",
    "        )\n",
    "        summary = pd.concat([median, mad_sd], axis=1)\n",
    "\n",
    "        self.draws = draws\n",
    "        self.median = median\n",
    "        self.mad_sd = mad_sd\n",
    "        self.summary = summary\n",
    "\n",
    "    def _repr_html_(self):\n",
    "        summary = self.summary\n",
    "        return summary._repr_html_()  # type: ignore\n",
    "\n",
    "\n",
    "def stan_lm(\n",
    "    data: pd.DataFrame,\n",
    "    *,\n",
    "    features: Sequence[str] | None = None,\n",
    "    target: str,\n",
    "):\n",
    "    y = data[target].to_numpy(dtype=np.float64)\n",
    "    N = len(y)\n",
    "    if features is None:\n",
    "        features = [c for c in data.columns if c != target]\n",
    "    x = data[features].to_numpy(dtype=np.float64)\n",
    "    K = x.shape[1]\n",
    "    if K == 0:\n",
    "        raise Exception(f\"Degeneate data matrix: shape = {x.shape}\")\n",
    "    stan_data = dict(N=N, K=K, x=x, y=y)\n",
    "    model = CmdStanModel(stan_file=\"lr.stan\")\n",
    "    stan_mcmc = model.sample(data=stan_data)\n",
    "    fit = StanLMFit(\n",
    "        target=target,\n",
    "        features=features,\n",
    "        model=model,\n",
    "        stan_mcmc=stan_mcmc,\n",
    "    )\n",
    "    return fit"
   ]
  },
  {
   "cell_type": "code",
   "execution_count": 10,
   "metadata": {},
   "outputs": [],
   "source": [
    "earnings = pd.read_csv(\"../data/earnings.csv\")\n",
    "hw = earnings[[\"height\", \"weight\"]].dropna()\n",
    "hw[\"height\"] = hw[\"height\"] - hw[\"height\"].mean()"
   ]
  },
  {
   "cell_type": "code",
   "execution_count": 11,
   "metadata": {},
   "outputs": [
    {
     "name": "stderr",
     "output_type": "stream",
     "text": [
      "11:29:10 - cmdstanpy - INFO - CmdStan start processing\n"
     ]
    },
    {
     "data": {
      "application/vnd.jupyter.widget-view+json": {
       "model_id": "76a95648d0b14d1db7e670921e97b713",
       "version_major": 2,
       "version_minor": 0
      },
      "text/plain": [
       "chain 1 |          | 00:00 Status"
      ]
     },
     "metadata": {},
     "output_type": "display_data"
    },
    {
     "data": {
      "application/vnd.jupyter.widget-view+json": {
       "model_id": "806eb57313914b148ecb35ee6034ed06",
       "version_major": 2,
       "version_minor": 0
      },
      "text/plain": [
       "chain 2 |          | 00:00 Status"
      ]
     },
     "metadata": {},
     "output_type": "display_data"
    },
    {
     "data": {
      "application/vnd.jupyter.widget-view+json": {
       "model_id": "e4974fe3a4f54253a565d09a9afbfef0",
       "version_major": 2,
       "version_minor": 0
      },
      "text/plain": [
       "chain 3 |          | 00:00 Status"
      ]
     },
     "metadata": {},
     "output_type": "display_data"
    },
    {
     "data": {
      "application/vnd.jupyter.widget-view+json": {
       "model_id": "bca43b2eee8d46b1a58c799f40466079",
       "version_major": 2,
       "version_minor": 0
      },
      "text/plain": [
       "chain 4 |          | 00:00 Status"
      ]
     },
     "metadata": {},
     "output_type": "display_data"
    },
    {
     "name": "stdout",
     "output_type": "stream",
     "text": [
      "                                                                                                                                                                                                                                                                                                                                "
     ]
    },
    {
     "name": "stderr",
     "output_type": "stream",
     "text": [
      "11:29:11 - cmdstanpy - INFO - CmdStan done processing.\n"
     ]
    },
    {
     "name": "stdout",
     "output_type": "stream",
     "text": [
      "\n"
     ]
    },
    {
     "data": {
      "text/html": [
       "<div>\n",
       "<style scoped>\n",
       "    .dataframe tbody tr th:only-of-type {\n",
       "        vertical-align: middle;\n",
       "    }\n",
       "\n",
       "    .dataframe tbody tr th {\n",
       "        vertical-align: top;\n",
       "    }\n",
       "\n",
       "    .dataframe thead th {\n",
       "        text-align: right;\n",
       "    }\n",
       "</style>\n",
       "<table border=\"1\" class=\"dataframe\">\n",
       "  <thead>\n",
       "    <tr style=\"text-align: right;\">\n",
       "      <th></th>\n",
       "      <th>median</th>\n",
       "      <th>mad_sd</th>\n",
       "    </tr>\n",
       "  </thead>\n",
       "  <tbody>\n",
       "    <tr>\n",
       "      <th>(Intercept)</th>\n",
       "      <td>156.29950</td>\n",
       "      <td>0.43450</td>\n",
       "    </tr>\n",
       "    <tr>\n",
       "      <th>height</th>\n",
       "      <td>4.94634</td>\n",
       "      <td>0.12032</td>\n",
       "    </tr>\n",
       "    <tr>\n",
       "      <th>sigma</th>\n",
       "      <td>28.96285</td>\n",
       "      <td>0.32460</td>\n",
       "    </tr>\n",
       "  </tbody>\n",
       "</table>\n",
       "</div>"
      ],
      "text/plain": [
       "StanLMFit(target='weight', features=['height'], model=CmdStanModel: name=lr\n",
       "\t stan_file=/Users/mgreenbe/DATA335W2025/code/lr.stan\n",
       "\t exe_file=/Users/mgreenbe/DATA335W2025/code/lr\n",
       "\t compiler_options=stanc_options={}, cpp_options={}, summary=                median   mad_sd\n",
       "(Intercept)  156.29950  0.43450\n",
       "height         4.94634  0.12032\n",
       "sigma         28.96285  0.32460)"
      ]
     },
     "execution_count": 11,
     "metadata": {},
     "output_type": "execute_result"
    }
   ],
   "source": [
    "stan_fit = stan_lm(hw, target=\"weight\", features=[\"height\"])\n",
    "stan_fit"
   ]
  },
  {
   "cell_type": "code",
   "execution_count": 12,
   "metadata": {},
   "outputs": [
    {
     "data": {
      "text/plain": [
       "CmdStanModel: name=lr\n",
       "\t stan_file=/Users/mgreenbe/DATA335W2025/code/lr.stan\n",
       "\t exe_file=/Users/mgreenbe/DATA335W2025/code/lr\n",
       "\t compiler_options=stanc_options={}, cpp_options={}"
      ]
     },
     "execution_count": 12,
     "metadata": {},
     "output_type": "execute_result"
    }
   ],
   "source": [
    "model = stan_fit.model\n",
    "model"
   ]
  },
  {
   "cell_type": "code",
   "execution_count": 13,
   "metadata": {},
   "outputs": [
    {
     "data": {
      "text/html": [
       "<div>\n",
       "<style scoped>\n",
       "    .dataframe tbody tr th:only-of-type {\n",
       "        vertical-align: middle;\n",
       "    }\n",
       "\n",
       "    .dataframe tbody tr th {\n",
       "        vertical-align: top;\n",
       "    }\n",
       "\n",
       "    .dataframe thead th {\n",
       "        text-align: right;\n",
       "    }\n",
       "</style>\n",
       "<table border=\"1\" class=\"dataframe\">\n",
       "  <thead>\n",
       "    <tr style=\"text-align: right;\">\n",
       "      <th></th>\n",
       "      <th>estimate</th>\n",
       "      <th>standard error</th>\n",
       "      <th>t-statistic</th>\n",
       "      <th>p-value</th>\n",
       "    </tr>\n",
       "  </thead>\n",
       "  <tbody>\n",
       "    <tr>\n",
       "      <th>(Intercept)</th>\n",
       "      <td>156.305198</td>\n",
       "      <td>0.68451</td>\n",
       "      <td>228.346169</td>\n",
       "      <td>0.0</td>\n",
       "    </tr>\n",
       "    <tr>\n",
       "      <th>height</th>\n",
       "      <td>4.949380</td>\n",
       "      <td>0.178467</td>\n",
       "      <td>27.732684</td>\n",
       "      <td>0.0</td>\n",
       "    </tr>\n",
       "    <tr>\n",
       "      <th>sigma</th>\n",
       "      <td>28.952420</td>\n",
       "      <td></td>\n",
       "      <td></td>\n",
       "      <td></td>\n",
       "    </tr>\n",
       "  </tbody>\n",
       "</table>\n",
       "</div>"
      ],
      "text/plain": [
       "LMFit(target='weight', features=['(Intercept)', 'height'], n=1789, df=1787)"
      ]
     },
     "execution_count": 13,
     "metadata": {},
     "output_type": "execute_result"
    }
   ],
   "source": [
    "lm_fit = lm(hw, target=\"weight\", features=[\"height\"])\n",
    "lm_fit"
   ]
  },
  {
   "cell_type": "code",
   "execution_count": 14,
   "metadata": {},
   "outputs": [],
   "source": [
    "@dataclass\n",
    "class BambiLMFit:\n",
    "    formula: str\n",
    "    model: bmb.Model\n",
    "    inference_data: InferenceData = field(repr=False)\n",
    "    draws: pd.DataFrame = field(init=False, repr=False)\n",
    "    summary: pd.DataFrame = field(init=False)\n",
    "\n",
    "    def __post_init__(self):\n",
    "        inference_data = self.inference_data\n",
    "        posterior = inference_data[\"posterior\"]\n",
    "        draws = pd.DataFrame(\n",
    "            dict({k: v.to_numpy().ravel() for k, v in posterior.data_vars.items()})\n",
    "        )\n",
    "\n",
    "        median = draws.median()\n",
    "        median.name = \"median\"\n",
    "        mad_sd = pd.Series(\n",
    "            stats.median_abs_deviation(draws, axis=0), median.index, name=\"mad_sd\"\n",
    "        )\n",
    "        summary = pd.concat([median, mad_sd], axis=1)\n",
    "\n",
    "        self.draws = draws\n",
    "        self.median = median\n",
    "        self.mad_sd = mad_sd\n",
    "        self.summary = summary\n",
    "\n",
    "    def _repr_html_(self):\n",
    "        summary = self.summary\n",
    "        return summary._repr_html_()  # type: ignore\n",
    "\n",
    "\n",
    "def bambi_lm(\n",
    "    formula: str,\n",
    "    data: pd.DataFrame,\n",
    "):\n",
    "    model = bmb.Model(formula, data)\n",
    "    inference_data = model.fit()\n",
    "    bambi_lm_fit = BambiLMFit(\n",
    "        formula=formula, model=model, inference_data=inference_data\n",
    "    )\n",
    "    return bambi_lm_fit"
   ]
  },
  {
   "cell_type": "code",
   "execution_count": 15,
   "metadata": {},
   "outputs": [
    {
     "name": "stderr",
     "output_type": "stream",
     "text": [
      "Initializing NUTS using jitter+adapt_diag...\n",
      "Multiprocess sampling (4 chains in 4 jobs)\n",
      "NUTS: [sigma, Intercept, height]\n"
     ]
    },
    {
     "data": {
      "application/vnd.jupyter.widget-view+json": {
       "model_id": "e6a8ddbbeb6e44689e4cdb78c84a3e56",
       "version_major": 2,
       "version_minor": 0
      },
      "text/plain": [
       "Output()"
      ]
     },
     "metadata": {},
     "output_type": "display_data"
    },
    {
     "data": {
      "text/html": [
       "<pre style=\"white-space:pre;overflow-x:auto;line-height:normal;font-family:Menlo,'DejaVu Sans Mono',consolas,'Courier New',monospace\"></pre>\n"
      ],
      "text/plain": []
     },
     "metadata": {},
     "output_type": "display_data"
    },
    {
     "name": "stderr",
     "output_type": "stream",
     "text": [
      "Sampling 4 chains for 1_000 tune and 1_000 draw iterations (4_000 + 4_000 draws total) took 2 seconds.\n"
     ]
    },
    {
     "data": {
      "text/html": [
       "<div>\n",
       "<style scoped>\n",
       "    .dataframe tbody tr th:only-of-type {\n",
       "        vertical-align: middle;\n",
       "    }\n",
       "\n",
       "    .dataframe tbody tr th {\n",
       "        vertical-align: top;\n",
       "    }\n",
       "\n",
       "    .dataframe thead th {\n",
       "        text-align: right;\n",
       "    }\n",
       "</style>\n",
       "<table border=\"1\" class=\"dataframe\">\n",
       "  <thead>\n",
       "    <tr style=\"text-align: right;\">\n",
       "      <th></th>\n",
       "      <th>median</th>\n",
       "      <th>mad_sd</th>\n",
       "    </tr>\n",
       "  </thead>\n",
       "  <tbody>\n",
       "    <tr>\n",
       "      <th>sigma</th>\n",
       "      <td>28.965635</td>\n",
       "      <td>0.328380</td>\n",
       "    </tr>\n",
       "    <tr>\n",
       "      <th>Intercept</th>\n",
       "      <td>156.292351</td>\n",
       "      <td>0.495862</td>\n",
       "    </tr>\n",
       "    <tr>\n",
       "      <th>height</th>\n",
       "      <td>4.951193</td>\n",
       "      <td>0.120981</td>\n",
       "    </tr>\n",
       "  </tbody>\n",
       "</table>\n",
       "</div>"
      ],
      "text/plain": [
       "BambiLMFit(formula='weight ~ height', model=       Formula: weight ~ height\n",
       "        Family: gaussian\n",
       "          Link: mu = identity\n",
       "  Observations: 1789\n",
       "        Priors: \n",
       "    target = mu\n",
       "        Common-level effects\n",
       "            Intercept ~ Normal(mu: 156.3052, sigma: 86.5185)\n",
       "            height ~ Normal(mu: 0.0, sigma: 22.5573)\n",
       "        \n",
       "        Auxiliary parameters\n",
       "            sigma ~ HalfStudentT(nu: 4.0, sigma: 34.6074)\n",
       "------\n",
       "* To see a plot of the priors call the .plot_priors() method.\n",
       "* To see a summary or plot of the posterior pass the object returned by .fit() to az.summary() or az.plot_trace(), summary=               median    mad_sd\n",
       "sigma       28.965635  0.328380\n",
       "Intercept  156.292351  0.495862\n",
       "height       4.951193  0.120981)"
      ]
     },
     "execution_count": 15,
     "metadata": {},
     "output_type": "execute_result"
    }
   ],
   "source": [
    "bambi_fit = bambi_lm(\"weight ~ height\", hw)\n",
    "bambi_fit"
   ]
  },
  {
   "cell_type": "code",
   "execution_count": 16,
   "metadata": {},
   "outputs": [
    {
     "name": "stderr",
     "output_type": "stream",
     "text": [
      "Sampling: [Intercept, height, sigma]\n"
     ]
    },
    {
     "data": {
      "text/plain": [
       "array([<Axes: title={'center': 'Intercept'}>,\n",
       "       <Axes: title={'center': 'sigma'}>,\n",
       "       <Axes: title={'center': 'height'}>], dtype=object)"
      ]
     },
     "execution_count": 16,
     "metadata": {},
     "output_type": "execute_result"
    },
    {
     "data": {
      "image/png": "[encoded data removed]",
      "text/plain": [
       "<Figure size 2208x552 with 3 Axes>"
      ]
     },
     "metadata": {},
     "output_type": "display_data"
    }
   ],
   "source": [
    "model = bambi_fit.model\n",
    "model.plot_priors()"
   ]
  },
  {
   "cell_type": "code",
   "execution_count": 17,
   "metadata": {},
   "outputs": [
    {
     "data": {
      "text/html": [
       "<div>\n",
       "<style scoped>\n",
       "    .dataframe tbody tr th:only-of-type {\n",
       "        vertical-align: middle;\n",
       "    }\n",
       "\n",
       "    .dataframe tbody tr th {\n",
       "        vertical-align: top;\n",
       "    }\n",
       "\n",
       "    .dataframe thead th {\n",
       "        text-align: right;\n",
       "    }\n",
       "</style>\n",
       "<table border=\"1\" class=\"dataframe\">\n",
       "  <thead>\n",
       "    <tr style=\"text-align: right;\">\n",
       "      <th></th>\n",
       "      <th>median</th>\n",
       "      <th>mad_sd</th>\n",
       "    </tr>\n",
       "  </thead>\n",
       "  <tbody>\n",
       "    <tr>\n",
       "      <th>(Intercept)</th>\n",
       "      <td>156.29950</td>\n",
       "      <td>0.43450</td>\n",
       "    </tr>\n",
       "    <tr>\n",
       "      <th>height</th>\n",
       "      <td>4.94634</td>\n",
       "      <td>0.12032</td>\n",
       "    </tr>\n",
       "    <tr>\n",
       "      <th>sigma</th>\n",
       "      <td>28.96285</td>\n",
       "      <td>0.32460</td>\n",
       "    </tr>\n",
       "  </tbody>\n",
       "</table>\n",
       "</div>"
      ],
      "text/plain": [
       "StanLMFit(target='weight', features=['height'], model=CmdStanModel: name=lr\n",
       "\t stan_file=/Users/mgreenbe/DATA335W2025/code/lr.stan\n",
       "\t exe_file=/Users/mgreenbe/DATA335W2025/code/lr\n",
       "\t compiler_options=stanc_options={}, cpp_options={}, summary=                median   mad_sd\n",
       "(Intercept)  156.29950  0.43450\n",
       "height         4.94634  0.12032\n",
       "sigma         28.96285  0.32460)"
      ]
     },
     "execution_count": 17,
     "metadata": {},
     "output_type": "execute_result"
    }
   ],
   "source": [
    "stan_fit"
   ]
  },
  {
   "cell_type": "code",
   "execution_count": 18,
   "metadata": {},
   "outputs": [],
   "source": [
    "import pymc as pm\n",
    "import scipy.stats as stats\n",
    "import bambi as bmb\n",
    "import pandas as pd\n",
    "import numpy as np\n",
    "from data335 import mad"
   ]
  },
  {
   "cell_type": "code",
   "execution_count": 19,
   "metadata": {},
   "outputs": [
    {
     "name": "stderr",
     "output_type": "stream",
     "text": [
      "Initializing NUTS using jitter+adapt_diag...\n",
      "Multiprocess sampling (4 chains in 4 jobs)\n",
      "NUTS: [mu]\n"
     ]
    },
    {
     "data": {
      "application/vnd.jupyter.widget-view+json": {
       "model_id": "347fd3aba50646bb9ea938565f1e5f69",
       "version_major": 2,
       "version_minor": 0
      },
      "text/plain": [
       "Output()"
      ]
     },
     "metadata": {},
     "output_type": "display_data"
    },
    {
     "data": {
      "text/html": [
       "<pre style=\"white-space:pre;overflow-x:auto;line-height:normal;font-family:Menlo,'DejaVu Sans Mono',consolas,'Courier New',monospace\"></pre>\n"
      ],
      "text/plain": []
     },
     "metadata": {},
     "output_type": "display_data"
    },
    {
     "name": "stderr",
     "output_type": "stream",
     "text": [
      "Sampling 4 chains for 1_000 tune and 1_000 draw iterations (4_000 + 4_000 draws total) took 1 seconds.\n"
     ]
    },
    {
     "name": "stdout",
     "output_type": "stream",
     "text": [
      "\n",
      "mu.mean() = 0.488, mu.std() = 0.021\n",
      "np.median(mu) = 0.487, mad(mu) = 0.021\n"
     ]
    }
   ],
   "source": [
    "with pm.Model():\n",
    "    mu = pm.Normal(\"mu\", mu=0.524, sigma=0.041)\n",
    "    x = pm.Normal(\"x\", mu=mu, sigma=0.025, observed=[0.475])\n",
    "    idata = pm.sample()\n",
    "\n",
    "mu = idata[\"posterior\"].data_vars[\"mu\"].to_numpy().ravel()\n",
    "print()\n",
    "print(f\"mu.mean() = {mu.mean():.3f}, mu.std() = {mu.std():.3f}\")\n",
    "print(f\"np.median(mu) = {np.median(mu):.3f}, mad(mu) = {mad(mu):.3f}\")"
   ]
  },
  {
   "cell_type": "code",
   "execution_count": 20,
   "metadata": {},
   "outputs": [
    {
     "name": "stderr",
     "output_type": "stream",
     "text": [
      "Initializing NUTS using jitter+adapt_diag...\n",
      "Multiprocess sampling (4 chains in 4 jobs)\n",
      "NUTS: [mu]\n"
     ]
    },
    {
     "data": {
      "application/vnd.jupyter.widget-view+json": {
       "model_id": "714f8ffc17fc4cc1bf063524ead2f583",
       "version_major": 2,
       "version_minor": 0
      },
      "text/plain": [
       "Output()"
      ]
     },
     "metadata": {},
     "output_type": "display_data"
    },
    {
     "data": {
      "text/html": [
       "<pre style=\"white-space:pre;overflow-x:auto;line-height:normal;font-family:Menlo,'DejaVu Sans Mono',consolas,'Courier New',monospace\"></pre>\n"
      ],
      "text/plain": []
     },
     "metadata": {},
     "output_type": "display_data"
    },
    {
     "name": "stderr",
     "output_type": "stream",
     "text": [
      "Sampling 4 chains for 1_000 tune and 1_000 draw iterations (4_000 + 4_000 draws total) took 1 seconds.\n"
     ]
    },
    {
     "name": "stdout",
     "output_type": "stream",
     "text": [
      "\n",
      "mu.mean() = 0.512, mu.std() = 0.037\n",
      "np.median(mu) = 0.511, mad(mu) = 0.037\n"
     ]
    }
   ],
   "source": [
    "with pm.Model():\n",
    "    mu = pm.Normal(\"mu\", mu=0.524, sigma=0.041)\n",
    "    x = pm.Normal(\"x\", mu=mu, sigma=0.075, observed=[0.475])\n",
    "    idata = pm.sample()\n",
    "\n",
    "mu = idata[\"posterior\"].data_vars[\"mu\"].to_numpy().ravel()\n",
    "print()\n",
    "print(f\"mu.mean() = {mu.mean():.3f}, mu.std() = {mu.std():.3f}\")\n",
    "print(f\"np.median(mu) = {np.median(mu):.3f}, mad(mu) = {mad(mu):.3f}\")"
   ]
  },
  {
   "cell_type": "code",
   "execution_count": 21,
   "metadata": {},
   "outputs": [
    {
     "name": "stderr",
     "output_type": "stream",
     "text": [
      "Initializing NUTS using jitter+adapt_diag...\n",
      "Multiprocess sampling (4 chains in 4 jobs)\n",
      "NUTS: [p]\n"
     ]
    },
    {
     "data": {
      "application/vnd.jupyter.widget-view+json": {
       "model_id": "fa0e9c2d5741456cbbc59d733e395045",
       "version_major": 2,
       "version_minor": 0
      },
      "text/plain": [
       "Output()"
      ]
     },
     "metadata": {},
     "output_type": "display_data"
    },
    {
     "data": {
      "text/html": [
       "<pre style=\"white-space:pre;overflow-x:auto;line-height:normal;font-family:Menlo,'DejaVu Sans Mono',consolas,'Courier New',monospace\"></pre>\n"
      ],
      "text/plain": []
     },
     "metadata": {},
     "output_type": "display_data"
    },
    {
     "name": "stderr",
     "output_type": "stream",
     "text": [
      "Sampling 4 chains for 1_000 tune and 1_000 draw iterations (4_000 + 4_000 draws total) took 1 seconds.\n"
     ]
    },
    {
     "name": "stdout",
     "output_type": "stream",
     "text": [
      "\n",
      "p.mean() = 0.488, p.std() = 0.021\n",
      "np.median(p) = 0.489, mad(p) = 0.022\n"
     ]
    }
   ],
   "source": [
    "with pm.Model():\n",
    "    p = pm.Normal(\"p\", mu=0.524, sigma=0.041)  # prior\n",
    "    y = pm.Binomial(\"y\", n=400, p=p, observed=[np.round(0.475 * 400)])  # data\n",
    "    posterior = pm.sample()[\"posterior\"]  # posterior\n",
    "\n",
    "p = posterior.data_vars[\"p\"].to_numpy().ravel()\n",
    "print()\n",
    "print(f\"p.mean() = {p.mean():.3f}, p.std() = {p.std():.3f}\")\n",
    "print(f\"np.median(p) = {np.median(p):.3f}, mad(p) = {mad(p):.3f}\")"
   ]
  },
  {
   "cell_type": "code",
   "execution_count": 22,
   "metadata": {},
   "outputs": [
    {
     "name": "stderr",
     "output_type": "stream",
     "text": [
      "Initializing NUTS using jitter+adapt_diag...\n",
      "Multiprocess sampling (4 chains in 4 jobs)\n",
      "NUTS: [p]\n"
     ]
    },
    {
     "data": {
      "application/vnd.jupyter.widget-view+json": {
       "model_id": "6b4341b3607b48269a488df4ffa63fb6",
       "version_major": 2,
       "version_minor": 0
      },
      "text/plain": [
       "Output()"
      ]
     },
     "metadata": {},
     "output_type": "display_data"
    },
    {
     "data": {
      "text/html": [
       "<pre style=\"white-space:pre;overflow-x:auto;line-height:normal;font-family:Menlo,'DejaVu Sans Mono',consolas,'Courier New',monospace\"></pre>\n"
      ],
      "text/plain": []
     },
     "metadata": {},
     "output_type": "display_data"
    },
    {
     "name": "stderr",
     "output_type": "stream",
     "text": [
      "Sampling 4 chains for 1_000 tune and 1_000 draw iterations (4_000 + 4_000 draws total) took 1 seconds.\n"
     ]
    },
    {
     "name": "stdout",
     "output_type": "stream",
     "text": [
      "\n",
      "p.mean() = 0.512, p.std() = 0.036\n",
      "np.median(p) = 0.512, mad(p) = 0.035\n"
     ]
    }
   ],
   "source": [
    "with pm.Model():\n",
    "    p = pm.Normal(\"p\", mu=0.524, sigma=0.041)  # prior\n",
    "    y = pm.Binomial(\"y\", n=44, p=p, observed=[np.round(0.475 * 44)])  # data\n",
    "    posterior = pm.sample()[\"posterior\"]  # posterior\n",
    "\n",
    "p = posterior.data_vars[\"p\"].to_numpy().ravel()\n",
    "print()\n",
    "print(f\"p.mean() = {p.mean():.3f}, p.std() = {p.std():.3f}\")\n",
    "print(f\"np.median(p) = {np.median(p):.3f}, mad(p) = {mad(p):.3f}\")"
   ]
  },
  {
   "cell_type": "code",
   "execution_count": 23,
   "metadata": {},
   "outputs": [],
   "source": [
    "# Hat tip John D. Cook!\n",
    "# https://www.johndcook.com/blog/2021/04/07/beta-given-mean-variance/\n",
    "\n",
    "mu = 0.524\n",
    "sigma = 0.041\n",
    "\n",
    "a = mu * (mu * (1 - mu) / sigma**2 - 1)\n",
    "b = a * (1 - mu) / mu\n",
    "\n",
    "assert np.allclose(a / (a + b), [mu, stats.beta(a, b).mean()])\n",
    "assert np.allclose(\n",
    "    np.sqrt(a * b / (a + b) ** 2 / (a + b + 1)), [sigma, stats.beta(a, b).std()]\n",
    ")"
   ]
  },
  {
   "cell_type": "code",
   "execution_count": 24,
   "metadata": {},
   "outputs": [
    {
     "name": "stderr",
     "output_type": "stream",
     "text": [
      "Initializing NUTS using jitter+adapt_diag...\n",
      "Multiprocess sampling (4 chains in 4 jobs)\n",
      "NUTS: [p]\n"
     ]
    },
    {
     "data": {
      "application/vnd.jupyter.widget-view+json": {
       "model_id": "94aa37732f9c4462b3c302cd372af144",
       "version_major": 2,
       "version_minor": 0
      },
      "text/plain": [
       "Output()"
      ]
     },
     "metadata": {},
     "output_type": "display_data"
    },
    {
     "data": {
      "text/html": [
       "<pre style=\"white-space:pre;overflow-x:auto;line-height:normal;font-family:Menlo,'DejaVu Sans Mono',consolas,'Courier New',monospace\"></pre>\n"
      ],
      "text/plain": []
     },
     "metadata": {},
     "output_type": "display_data"
    },
    {
     "name": "stderr",
     "output_type": "stream",
     "text": [
      "Sampling 4 chains for 1_000 tune and 1_000 draw iterations (4_000 + 4_000 draws total) took 1 seconds.\n"
     ]
    },
    {
     "name": "stdout",
     "output_type": "stream",
     "text": [
      "\n",
      "p.mean() = 0.488, p.std() = 0.021\n",
      "np.median(p) = 0.488, mad(p) = 0.022\n"
     ]
    }
   ],
   "source": [
    "with pm.Model():\n",
    "    p = pm.Beta(\"p\", alpha=a, beta=b)  # prior\n",
    "    y = pm.Binomial(\"y\", n=400, p=p, observed=[np.round(0.475 * 400)])  # data\n",
    "    posterior = pm.sample()[\"posterior\"]  # posterior\n",
    "\n",
    "p = posterior.data_vars[\"p\"].to_numpy().ravel()\n",
    "print()\n",
    "print(f\"p.mean() = {p.mean():.3f}, p.std() = {p.std():.3f}\")\n",
    "print(f\"np.median(p) = {np.median(p):.3f}, mad(p) = {mad(p):.3f}\")"
   ]
  },
  {
   "cell_type": "code",
   "execution_count": 25,
   "metadata": {},
   "outputs": [
    {
     "data": {
      "text/plain": [
       "(77.22625342058299, 70.15209280190363)"
      ]
     },
     "execution_count": 25,
     "metadata": {},
     "output_type": "execute_result"
    }
   ],
   "source": [
    "a, b"
   ]
  },
  {
   "cell_type": "code",
   "execution_count": 26,
   "metadata": {},
   "outputs": [
    {
     "data": {
      "text/plain": [
       "(77.0, 147.0, 0.041192521824455666)"
      ]
     },
     "execution_count": 26,
     "metadata": {},
     "output_type": "execute_result"
    }
   ],
   "source": [
    "y0 = np.round(a)\n",
    "n0 = np.round(a + b)\n",
    "p0 = y0 / n0\n",
    "se0 = np.sqrt(p0 * (1 - p0) / n0)\n",
    "y0, n0, se0"
   ]
  },
  {
   "cell_type": "code",
   "execution_count": 27,
   "metadata": {},
   "outputs": [],
   "source": [
    "y = 190\n",
    "n = 400"
   ]
  },
  {
   "cell_type": "code",
   "execution_count": 28,
   "metadata": {},
   "outputs": [
    {
     "data": {
      "text/plain": [
       "(0.48811700182815354, 0.02137241787024956)"
      ]
     },
     "execution_count": 28,
     "metadata": {},
     "output_type": "execute_result"
    }
   ],
   "source": [
    "p = (y + y0) / (n + n0)\n",
    "se = np.sqrt(p * (1 - p) / (n + n0))\n",
    "p, se"
   ]
  },
  {
   "cell_type": "code",
   "execution_count": 187,
   "metadata": {},
   "outputs": [],
   "source": []
  },
  {
   "cell_type": "markdown",
   "metadata": {},
   "source": [
    "#### Sex ratio logistic regression"
   ]
  },
  {
   "cell_type": "code",
   "execution_count": 29,
   "metadata": {},
   "outputs": [],
   "source": [
    "from sklearn.linear_model import LogisticRegression"
   ]
  },
  {
   "cell_type": "code",
   "execution_count": 30,
   "metadata": {},
   "outputs": [],
   "source": [
    "N = 3000\n",
    "n1 = 300\n",
    "y1 = int(np.round(0.44 * n1))\n",
    "n0 = N - n1\n",
    "y0 = int(np.round(0.52 * n0))\n",
    "\n",
    "X = np.concatenate([np.zeros(n0), np.ones(n1)])\n",
    "Y0 = np.zeros(n0)\n",
    "Y0[:y0] = 1\n",
    "Y1 = np.zeros(n1)\n",
    "Y1[:y1] = 1\n",
    "Y = np.concatenate([Y0, Y1])"
   ]
  },
  {
   "cell_type": "code",
   "execution_count": 31,
   "metadata": {},
   "outputs": [
    {
     "data": {
      "text/plain": [
       "array([[-0.31538062]])"
      ]
     },
     "execution_count": 31,
     "metadata": {},
     "output_type": "execute_result"
    }
   ],
   "source": [
    "model = LogisticRegression()\n",
    "model.fit(X.reshape(-1, 1), Y)\n",
    "model.coef_"
   ]
  },
  {
   "cell_type": "markdown",
   "metadata": {},
   "source": [
    "### Chapter 10"
   ]
  },
  {
   "cell_type": "code",
   "execution_count": 259,
   "metadata": {},
   "outputs": [],
   "source": [
    "from sklearn.linear_model import LinearRegression\n",
    "from matplotlib.axes import Axes\n",
    "from numbers import Real\n",
    "from sklearn.utils.validation import check_is_fitted\n",
    "from typing import Any"
   ]
  },
  {
   "cell_type": "code",
   "execution_count": 260,
   "metadata": {},
   "outputs": [
    {
     "data": {
      "text/html": [
       "<div>\n",
       "<style scoped>\n",
       "    .dataframe tbody tr th:only-of-type {\n",
       "        vertical-align: middle;\n",
       "    }\n",
       "\n",
       "    .dataframe tbody tr th {\n",
       "        vertical-align: top;\n",
       "    }\n",
       "\n",
       "    .dataframe thead th {\n",
       "        text-align: right;\n",
       "    }\n",
       "</style>\n",
       "<table border=\"1\" class=\"dataframe\">\n",
       "  <thead>\n",
       "    <tr style=\"text-align: right;\">\n",
       "      <th></th>\n",
       "      <th>kid_score</th>\n",
       "      <th>mom_hs</th>\n",
       "      <th>mom_iq</th>\n",
       "      <th>mom_work</th>\n",
       "      <th>mom_age</th>\n",
       "    </tr>\n",
       "  </thead>\n",
       "  <tbody>\n",
       "    <tr>\n",
       "      <th>0</th>\n",
       "      <td>65</td>\n",
       "      <td>1</td>\n",
       "      <td>121.117529</td>\n",
       "      <td>4</td>\n",
       "      <td>27</td>\n",
       "    </tr>\n",
       "    <tr>\n",
       "      <th>1</th>\n",
       "      <td>98</td>\n",
       "      <td>1</td>\n",
       "      <td>89.361882</td>\n",
       "      <td>4</td>\n",
       "      <td>25</td>\n",
       "    </tr>\n",
       "    <tr>\n",
       "      <th>2</th>\n",
       "      <td>85</td>\n",
       "      <td>1</td>\n",
       "      <td>115.443165</td>\n",
       "      <td>4</td>\n",
       "      <td>27</td>\n",
       "    </tr>\n",
       "    <tr>\n",
       "      <th>3</th>\n",
       "      <td>83</td>\n",
       "      <td>1</td>\n",
       "      <td>99.449639</td>\n",
       "      <td>3</td>\n",
       "      <td>25</td>\n",
       "    </tr>\n",
       "    <tr>\n",
       "      <th>4</th>\n",
       "      <td>115</td>\n",
       "      <td>1</td>\n",
       "      <td>92.745710</td>\n",
       "      <td>4</td>\n",
       "      <td>27</td>\n",
       "    </tr>\n",
       "    <tr>\n",
       "      <th>...</th>\n",
       "      <td>...</td>\n",
       "      <td>...</td>\n",
       "      <td>...</td>\n",
       "      <td>...</td>\n",
       "      <td>...</td>\n",
       "    </tr>\n",
       "    <tr>\n",
       "      <th>429</th>\n",
       "      <td>94</td>\n",
       "      <td>0</td>\n",
       "      <td>84.877412</td>\n",
       "      <td>4</td>\n",
       "      <td>21</td>\n",
       "    </tr>\n",
       "    <tr>\n",
       "      <th>430</th>\n",
       "      <td>76</td>\n",
       "      <td>1</td>\n",
       "      <td>92.990392</td>\n",
       "      <td>4</td>\n",
       "      <td>23</td>\n",
       "    </tr>\n",
       "    <tr>\n",
       "      <th>431</th>\n",
       "      <td>50</td>\n",
       "      <td>0</td>\n",
       "      <td>94.859708</td>\n",
       "      <td>2</td>\n",
       "      <td>24</td>\n",
       "    </tr>\n",
       "    <tr>\n",
       "      <th>432</th>\n",
       "      <td>88</td>\n",
       "      <td>1</td>\n",
       "      <td>96.856624</td>\n",
       "      <td>2</td>\n",
       "      <td>21</td>\n",
       "    </tr>\n",
       "    <tr>\n",
       "      <th>433</th>\n",
       "      <td>70</td>\n",
       "      <td>1</td>\n",
       "      <td>91.253336</td>\n",
       "      <td>2</td>\n",
       "      <td>25</td>\n",
       "    </tr>\n",
       "  </tbody>\n",
       "</table>\n",
       "<p>434 rows × 5 columns</p>\n",
       "</div>"
      ],
      "text/plain": [
       "     kid_score  mom_hs      mom_iq  mom_work  mom_age\n",
       "0           65       1  121.117529         4       27\n",
       "1           98       1   89.361882         4       25\n",
       "2           85       1  115.443165         4       27\n",
       "3           83       1   99.449639         3       25\n",
       "4          115       1   92.745710         4       27\n",
       "..         ...     ...         ...       ...      ...\n",
       "429         94       0   84.877412         4       21\n",
       "430         76       1   92.990392         4       23\n",
       "431         50       0   94.859708         2       24\n",
       "432         88       1   96.856624         2       21\n",
       "433         70       1   91.253336         2       25\n",
       "\n",
       "[434 rows x 5 columns]"
      ]
     },
     "execution_count": 260,
     "metadata": {},
     "output_type": "execute_result"
    }
   ],
   "source": [
    "kidiq = pd.read_csv(\"../data/kidiq.csv\")\n",
    "kidiq"
   ]
  },
  {
   "cell_type": "code",
   "execution_count": 261,
   "metadata": {},
   "outputs": [],
   "source": [
    "kid_score = kidiq[\"kid_score\"]\n",
    "mom_hs = kidiq[[\"mom_hs\"]]\n",
    "mom_iq = kidiq[[\"mom_iq\"]]\n",
    "\n",
    "mom_hs_model = LinearRegression()\n",
    "mom_hs_model.fit(mom_hs, kid_score)\n",
    "a_hs = mom_hs_model.intercept_\n",
    "b_hs = mom_hs_model.coef_[0]\n",
    "\n",
    "mom_iq_model = LinearRegression()\n",
    "mom_iq_model.fit(mom_iq, kid_score)\n",
    "a_iq = mom_iq_model.intercept_\n",
    "b_iq = mom_iq_model.coef_[0]"
   ]
  },
  {
   "cell_type": "code",
   "execution_count": 264,
   "metadata": {},
   "outputs": [],
   "source": [
    "def plot_regression_line(\n",
    "    model,\n",
    "    ax: Axes | None = None,\n",
    "    xlim: tuple[Any, Any] | None = None,\n",
    "    ylim: tuple[Any, Any] | None = None,\n",
    "    **kwargs\n",
    "):\n",
    "    if isinstance(model, LinearRegression):\n",
    "        check_is_fitted(estimator=model, attributes=(\"intercept_\", \"coef_\"))\n",
    "        a = model.intercept_\n",
    "        b = model.coef_[0]\n",
    "    else:\n",
    "        a = model[0]\n",
    "        b = model[1]\n",
    "    ax = plt.gca() if ax is None else ax\n",
    "    if xlim is not None:\n",
    "        xmin = xlim[0]\n",
    "        xmax = xlim[1]\n",
    "        ax.set_xlim(xmin, xmax)\n",
    "    else:\n",
    "        xmin, xmax = ax.get_xlim()\n",
    "    if ylim is not None:\n",
    "        ymin = ylim[0]\n",
    "        ymax = ylim[1]\n",
    "        ax.set_ylim(ymin, ymax)\n",
    "    ax.plot([xmin, xmax], [a + b * xmin, a + b * xmax], **kwargs)"
   ]
  },
  {
   "cell_type": "code",
   "execution_count": 265,
   "metadata": {},
   "outputs": [
    {
     "data": {
      "image/png": "[encoded data removed]",
      "text/plain": [
       "<Figure size 1200x400 with 2 Axes>"
      ]
     },
     "metadata": {},
     "output_type": "display_data"
    }
   ],
   "source": [
    "fig, (ax_hs, ax_iq) = plt.subplots(nrows=1, ncols=2, sharey=True, figsize=(12, 4))\n",
    "\n",
    "fig.suptitle(\"One simple linear regression per feature\")\n",
    "\n",
    "jitter = 0.05 * np.random.uniform(size=mom_hs.shape)\n",
    "ax_hs.scatter(mom_hs + jitter, kid_score, s=4, color=(0, 0, 1, 0.4))\n",
    "ax_hs.set_xlabel(\"mom_hs\")\n",
    "ax_hs.set_xticks([0, 1])\n",
    "ax_hs.set_ylabel(\"kid_score\")\n",
    "plot_regression_line(\n",
    "    mom_hs_model, ax=ax_hs, lw=3, label=f\"kid_score = {a_hs:.1f} + {b_hs:.1f} * mom_hs\"\n",
    ")\n",
    "ax_hs.legend(loc=\"lower right\")\n",
    "\n",
    "kidiq.plot.scatter(\"mom_iq\", \"kid_score\", ax=ax_iq, s=4, color=(0, 0, 1))\n",
    "plot_regression_line(\n",
    "    mom_iq_model, ax=ax_iq, lw=3, label=f\"kid_score = {a_iq:.1f} + {b_iq:.1f} * mom_iq\"\n",
    ")\n",
    "ax_iq.legend(loc=\"lower right\")\n",
    "plt.show()"
   ]
  },
  {
   "cell_type": "markdown",
   "metadata": {},
   "source": [
    "#### Linear regression with two predictors"
   ]
  },
  {
   "cell_type": "code",
   "execution_count": 266,
   "metadata": {},
   "outputs": [
    {
     "name": "stdout",
     "output_type": "stream",
     "text": [
      "kid_score   =   25.7   +   6.0 * mom_hs   +   0.6 * mom_iq   +   error\n"
     ]
    }
   ],
   "source": [
    "model = LinearRegression()\n",
    "model.fit(kidiq[[\"mom_hs\", \"mom_iq\"]], kidiq[\"kid_score\"])\n",
    "a = model.intercept_\n",
    "b = model.coef_[0]\n",
    "c = model.coef_[1]\n",
    "print(\n",
    "    f\"kid_score   =   {a:.1f}   +   {b:.1f} * mom_hs   +   {c:.1f} * mom_iq   +   error\"\n",
    ")"
   ]
  },
  {
   "cell_type": "code",
   "execution_count": 293,
   "metadata": {},
   "outputs": [
    {
     "data": {
      "text/html": [
       "<div>\n",
       "<style scoped>\n",
       "    .dataframe tbody tr th:only-of-type {\n",
       "        vertical-align: middle;\n",
       "    }\n",
       "\n",
       "    .dataframe tbody tr th {\n",
       "        vertical-align: top;\n",
       "    }\n",
       "\n",
       "    .dataframe thead th {\n",
       "        text-align: right;\n",
       "    }\n",
       "</style>\n",
       "<table border=\"1\" class=\"dataframe\">\n",
       "  <thead>\n",
       "    <tr style=\"text-align: right;\">\n",
       "      <th></th>\n",
       "      <th>estimate</th>\n",
       "      <th>standard error</th>\n",
       "      <th>t-statistic</th>\n",
       "      <th>p-value</th>\n",
       "    </tr>\n",
       "  </thead>\n",
       "  <tbody>\n",
       "    <tr>\n",
       "      <th>(Intercept)</th>\n",
       "      <td>25.731538</td>\n",
       "      <td>5.875208</td>\n",
       "      <td>4.379681</td>\n",
       "      <td>0.000015</td>\n",
       "    </tr>\n",
       "    <tr>\n",
       "      <th>mom_hs</th>\n",
       "      <td>5.950117</td>\n",
       "      <td>2.211812</td>\n",
       "      <td>2.690155</td>\n",
       "      <td>0.007419</td>\n",
       "    </tr>\n",
       "    <tr>\n",
       "      <th>mom_iq</th>\n",
       "      <td>0.563906</td>\n",
       "      <td>0.060574</td>\n",
       "      <td>9.309362</td>\n",
       "      <td>0.0</td>\n",
       "    </tr>\n",
       "    <tr>\n",
       "      <th>sigma</th>\n",
       "      <td>18.135676</td>\n",
       "      <td></td>\n",
       "      <td></td>\n",
       "      <td></td>\n",
       "    </tr>\n",
       "  </tbody>\n",
       "</table>\n",
       "</div>"
      ],
      "text/plain": [
       "LMFit(target='kid_score', features=['(Intercept)', 'mom_hs', 'mom_iq'], n=434, df=431)"
      ]
     },
     "execution_count": 293,
     "metadata": {},
     "output_type": "execute_result"
    }
   ],
   "source": [
    "lm(kidiq, features=[\"mom_hs\", \"mom_iq\"], target=\"kid_score\")"
   ]
  },
  {
   "cell_type": "code",
   "execution_count": 269,
   "metadata": {},
   "outputs": [
    {
     "data": {
      "image/png": "[encoded data removed]",
      "text/plain": [
       "<Figure size 640x480 with 1 Axes>"
      ]
     },
     "metadata": {},
     "output_type": "display_data"
    }
   ],
   "source": [
    "kidiq.plot.scatter(\n",
    "    \"mom_iq\",\n",
    "    \"kid_score\",\n",
    "    s=10,\n",
    "    c=[\"C0\" if x == 0 else \"C1\" for x in kidiq[\"mom_hs\"]],\n",
    "    alpha=0.5,\n",
    ")\n",
    "plot_regression_line((a, c), lw=3, label=\"mom_hs = 0\", xlim=(70, 140))\n",
    "plot_regression_line((a + b, c), lw=3, label=\"mom_hs = 1\", xlim=(70, 140))\n",
    "plt.legend()\n",
    "plt.show()"
   ]
  },
  {
   "cell_type": "code",
   "execution_count": null,
   "metadata": {},
   "outputs": [
    {
     "data": {
      "image/png": "[encoded data removed]",
      "text/plain": [
       "<Figure size 640x480 with 1 Axes>"
      ]
     },
     "metadata": {},
     "output_type": "display_data"
    }
   ],
   "source": [
    "ax = plt.gca()\n",
    "for hs, group in kidiq.groupby(\"mom_hs\"):\n",
    "    group.plot.scatter(\"mom_iq\", \"kid_score\", color=f\"C{hs}\", alpha=0.5, ax=ax)\n",
    "    model = LinearRegression()\n",
    "    model.fit(group[[\"mom_iq\"]], group[\"kid_score\"])\n",
    "    a = model.intercept_\n",
    "    b = model.coef_[0]\n",
    "    plot_regression_line(\n",
    "        model,\n",
    "        lw=3,\n",
    "        ax=ax,\n",
    "        xlim=(70, 140),\n",
    "        label=f\"kid_score = {a:.1f} + {b:.1f}*mom_iq\",\n",
    "    )\n",
    "ax.legend()\n",
    "ax.set_title(\"Group-dependent slopes\")\n",
    "plt.show()"
   ]
  },
  {
   "cell_type": "code",
   "execution_count": 289,
   "metadata": {},
   "outputs": [
    {
     "name": "stdout",
     "output_type": "stream",
     "text": [
      "kid_score  =  -11.5  +  51.3 * mom_hs  +  1.0 * mom_iq  +  -0.5 * mom_hs:mom_iq  +   error\n",
      "\n",
      "If mom_hs = 0:\n",
      "kid_score  =  -11.5  +  1.0 * mom_iq  +  error\n",
      "\n",
      "If mom_hs = 1:\n",
      "kid_score  =   39.8  +  0.5 * mom_iq  +  error\n"
     ]
    }
   ],
   "source": [
    "kidiq[\"mom_hs:mom_iq\"] = kidiq[\"mom_hs\"] * kidiq[\"mom_iq\"]\n",
    "\n",
    "model = LinearRegression()\n",
    "model.fit(kidiq[[\"mom_hs\", \"mom_iq\", \"mom_hs:mom_iq\"]], kidiq[\"kid_score\"])\n",
    "a = model.intercept_\n",
    "b = model.coef_[0]\n",
    "c = model.coef_[1]\n",
    "d = model.coef_[2]\n",
    "print(\n",
    "    f\"kid_score  =  {a:.1f}  +  {b:.1f} * mom_hs  +  {c:.1f} * mom_iq  +  {d:.1f} * mom_hs:mom_iq  +   error\"\n",
    ")\n",
    "print(\"\\nIf mom_hs = 0:\")\n",
    "print(f\"kid_score  =  {a:.1f}  +  {c:.1f} * mom_iq  +  error\")\n",
    "print(\"\\nIf mom_hs = 1:\")\n",
    "print(f\"kid_score  =   {a + b:.1f}  +  {c + d:.1f} * mom_iq  +  error\")"
   ]
  },
  {
   "cell_type": "code",
   "execution_count": 290,
   "metadata": {},
   "outputs": [
    {
     "data": {
      "text/html": [
       "<div>\n",
       "<style scoped>\n",
       "    .dataframe tbody tr th:only-of-type {\n",
       "        vertical-align: middle;\n",
       "    }\n",
       "\n",
       "    .dataframe tbody tr th {\n",
       "        vertical-align: top;\n",
       "    }\n",
       "\n",
       "    .dataframe thead th {\n",
       "        text-align: right;\n",
       "    }\n",
       "</style>\n",
       "<table border=\"1\" class=\"dataframe\">\n",
       "  <thead>\n",
       "    <tr style=\"text-align: right;\">\n",
       "      <th></th>\n",
       "      <th>estimate</th>\n",
       "      <th>standard error</th>\n",
       "      <th>t-statistic</th>\n",
       "      <th>p-value</th>\n",
       "    </tr>\n",
       "  </thead>\n",
       "  <tbody>\n",
       "    <tr>\n",
       "      <th>(Intercept)</th>\n",
       "      <td>-11.482021</td>\n",
       "      <td>13.757974</td>\n",
       "      <td>-0.834572</td>\n",
       "      <td>0.404422</td>\n",
       "    </tr>\n",
       "    <tr>\n",
       "      <th>mom_hs</th>\n",
       "      <td>51.268223</td>\n",
       "      <td>15.337581</td>\n",
       "      <td>3.342654</td>\n",
       "      <td>0.000902</td>\n",
       "    </tr>\n",
       "    <tr>\n",
       "      <th>mom_iq</th>\n",
       "      <td>0.968889</td>\n",
       "      <td>0.148344</td>\n",
       "      <td>6.53138</td>\n",
       "      <td>0.0</td>\n",
       "    </tr>\n",
       "    <tr>\n",
       "      <th>mom_hs:mom_iq</th>\n",
       "      <td>-0.484275</td>\n",
       "      <td>0.162217</td>\n",
       "      <td>-2.98535</td>\n",
       "      <td>0.002994</td>\n",
       "    </tr>\n",
       "    <tr>\n",
       "      <th>sigma</th>\n",
       "      <td>17.971466</td>\n",
       "      <td></td>\n",
       "      <td></td>\n",
       "      <td></td>\n",
       "    </tr>\n",
       "  </tbody>\n",
       "</table>\n",
       "</div>"
      ],
      "text/plain": [
       "LMFit(target='kid_score', features=['(Intercept)', 'mom_hs', 'mom_iq', 'mom_hs:mom_iq'], n=434, df=430)"
      ]
     },
     "execution_count": 290,
     "metadata": {},
     "output_type": "execute_result"
    }
   ],
   "source": [
    "lm(kidiq, features=[\"mom_hs\", \"mom_iq\", \"mom_hs:mom_iq\"], target=\"kid_score\")"
   ]
  },
  {
   "cell_type": "code",
   "execution_count": 292,
   "metadata": {},
   "outputs": [
    {
     "name": "stderr",
     "output_type": "stream",
     "text": [
      "16:10:36 - cmdstanpy - INFO - CmdStan start processing\n"
     ]
    },
    {
     "data": {
      "application/vnd.jupyter.widget-view+json": {
       "model_id": "7e7ce73f3d8c4873b8c707b9f269c15c",
       "version_major": 2,
       "version_minor": 0
      },
      "text/plain": [
       "chain 1 |          | 00:00 Status"
      ]
     },
     "metadata": {},
     "output_type": "display_data"
    },
    {
     "data": {
      "application/vnd.jupyter.widget-view+json": {
       "model_id": "7d960c6bffaa430d98d933dab9e81ee2",
       "version_major": 2,
       "version_minor": 0
      },
      "text/plain": [
       "chain 2 |          | 00:00 Status"
      ]
     },
     "metadata": {},
     "output_type": "display_data"
    },
    {
     "data": {
      "application/vnd.jupyter.widget-view+json": {
       "model_id": "c30d31880b5343289d887077d1a92722",
       "version_major": 2,
       "version_minor": 0
      },
      "text/plain": [
       "chain 3 |          | 00:00 Status"
      ]
     },
     "metadata": {},
     "output_type": "display_data"
    },
    {
     "data": {
      "application/vnd.jupyter.widget-view+json": {
       "model_id": "969b6b45a5ca4effa461272eb60ac984",
       "version_major": 2,
       "version_minor": 0
      },
      "text/plain": [
       "chain 4 |          | 00:00 Status"
      ]
     },
     "metadata": {},
     "output_type": "display_data"
    },
    {
     "name": "stdout",
     "output_type": "stream",
     "text": [
      "                                                                                                                                                                                                                                                                                                                                "
     ]
    },
    {
     "name": "stderr",
     "output_type": "stream",
     "text": [
      "16:10:37 - cmdstanpy - INFO - CmdStan done processing.\n"
     ]
    },
    {
     "name": "stdout",
     "output_type": "stream",
     "text": [
      "\n"
     ]
    },
    {
     "data": {
      "text/html": [
       "<div>\n",
       "<style scoped>\n",
       "    .dataframe tbody tr th:only-of-type {\n",
       "        vertical-align: middle;\n",
       "    }\n",
       "\n",
       "    .dataframe tbody tr th {\n",
       "        vertical-align: top;\n",
       "    }\n",
       "\n",
       "    .dataframe thead th {\n",
       "        text-align: right;\n",
       "    }\n",
       "</style>\n",
       "<table border=\"1\" class=\"dataframe\">\n",
       "  <thead>\n",
       "    <tr style=\"text-align: right;\">\n",
       "      <th></th>\n",
       "      <th>median</th>\n",
       "      <th>mad_sd</th>\n",
       "    </tr>\n",
       "  </thead>\n",
       "  <tbody>\n",
       "    <tr>\n",
       "      <th>(Intercept)</th>\n",
       "      <td>-12.187200</td>\n",
       "      <td>9.343250</td>\n",
       "    </tr>\n",
       "    <tr>\n",
       "      <th>mom_hs</th>\n",
       "      <td>51.672400</td>\n",
       "      <td>10.254400</td>\n",
       "    </tr>\n",
       "    <tr>\n",
       "      <th>mom_iq</th>\n",
       "      <td>0.975067</td>\n",
       "      <td>0.100473</td>\n",
       "    </tr>\n",
       "    <tr>\n",
       "      <th>mom_hs:mom_iq</th>\n",
       "      <td>-0.489913</td>\n",
       "      <td>0.107881</td>\n",
       "    </tr>\n",
       "    <tr>\n",
       "      <th>sigma</th>\n",
       "      <td>17.969550</td>\n",
       "      <td>0.395300</td>\n",
       "    </tr>\n",
       "  </tbody>\n",
       "</table>\n",
       "</div>"
      ],
      "text/plain": [
       "StanLMFit(target='kid_score', features=['mom_hs', 'mom_iq', 'mom_hs:mom_iq'], model=CmdStanModel: name=lr\n",
       "\t stan_file=/Users/mgreenbe/DATA335W2025/code/lr.stan\n",
       "\t exe_file=/Users/mgreenbe/DATA335W2025/code/lr\n",
       "\t compiler_options=stanc_options={}, cpp_options={}, summary=                  median     mad_sd\n",
       "(Intercept)   -12.187200   9.343250\n",
       "mom_hs         51.672400  10.254400\n",
       "mom_iq          0.975067   0.100473\n",
       "mom_hs:mom_iq  -0.489913   0.107881\n",
       "sigma          17.969550   0.395300)"
      ]
     },
     "execution_count": 292,
     "metadata": {},
     "output_type": "execute_result"
    }
   ],
   "source": [
    "stan_lm(kidiq, features=[\"mom_hs\", \"mom_iq\", \"mom_hs:mom_iq\"], target=\"kid_score\")"
   ]
  },
  {
   "cell_type": "code",
   "execution_count": 291,
   "metadata": {},
   "outputs": [
    {
     "name": "stderr",
     "output_type": "stream",
     "text": [
      "Initializing NUTS using jitter+adapt_diag...\n",
      "Multiprocess sampling (4 chains in 4 jobs)\n",
      "NUTS: [sigma, Intercept, mom_hs, mom_iq, mom_hs:mom_iq]\n"
     ]
    },
    {
     "data": {
      "application/vnd.jupyter.widget-view+json": {
       "model_id": "d96960192e9f45d3a414adbb5fdea24c",
       "version_major": 2,
       "version_minor": 0
      },
      "text/plain": [
       "Output()"
      ]
     },
     "metadata": {},
     "output_type": "display_data"
    },
    {
     "data": {
      "text/html": [
       "<pre style=\"white-space:pre;overflow-x:auto;line-height:normal;font-family:Menlo,'DejaVu Sans Mono',consolas,'Courier New',monospace\"></pre>\n"
      ],
      "text/plain": []
     },
     "metadata": {},
     "output_type": "display_data"
    },
    {
     "name": "stderr",
     "output_type": "stream",
     "text": [
      "Sampling 4 chains for 1_000 tune and 1_000 draw iterations (4_000 + 4_000 draws total) took 3 seconds.\n"
     ]
    },
    {
     "data": {
      "text/html": [
       "<div>\n",
       "<style scoped>\n",
       "    .dataframe tbody tr th:only-of-type {\n",
       "        vertical-align: middle;\n",
       "    }\n",
       "\n",
       "    .dataframe tbody tr th {\n",
       "        vertical-align: top;\n",
       "    }\n",
       "\n",
       "    .dataframe thead th {\n",
       "        text-align: right;\n",
       "    }\n",
       "</style>\n",
       "<table border=\"1\" class=\"dataframe\">\n",
       "  <thead>\n",
       "    <tr style=\"text-align: right;\">\n",
       "      <th></th>\n",
       "      <th>median</th>\n",
       "      <th>mad_sd</th>\n",
       "    </tr>\n",
       "  </thead>\n",
       "  <tbody>\n",
       "    <tr>\n",
       "      <th>sigma</th>\n",
       "      <td>17.992292</td>\n",
       "      <td>0.414806</td>\n",
       "    </tr>\n",
       "    <tr>\n",
       "      <th>Intercept</th>\n",
       "      <td>-10.031176</td>\n",
       "      <td>9.376823</td>\n",
       "    </tr>\n",
       "    <tr>\n",
       "      <th>mom_hs</th>\n",
       "      <td>49.360884</td>\n",
       "      <td>10.431495</td>\n",
       "    </tr>\n",
       "    <tr>\n",
       "      <th>mom_iq</th>\n",
       "      <td>0.951695</td>\n",
       "      <td>0.100784</td>\n",
       "    </tr>\n",
       "    <tr>\n",
       "      <th>mom_hs:mom_iq</th>\n",
       "      <td>-0.463889</td>\n",
       "      <td>0.109570</td>\n",
       "    </tr>\n",
       "  </tbody>\n",
       "</table>\n",
       "</div>"
      ],
      "text/plain": [
       "BambiLMFit(formula='kid_score ~ mom_hs + mom_iq + mom_hs:mom_iq', model=       Formula: kid_score ~ mom_hs + mom_iq + mom_hs:mom_iq\n",
       "        Family: gaussian\n",
       "          Link: mu = identity\n",
       "  Observations: 434\n",
       "        Priors: \n",
       "    target = mu\n",
       "        Common-level effects\n",
       "            Intercept ~ Normal(mu: 86.7972, sigma: 369.4824)\n",
       "            mom_hs ~ Normal(mu: 0.0, sigma: 124.2132)\n",
       "            mom_iq ~ Normal(mu: 0.0, sigma: 3.4018)\n",
       "            mom_hs:mom_iq ~ Normal(mu: 0.0, sigma: 1.1596)\n",
       "        \n",
       "        Auxiliary parameters\n",
       "            sigma ~ HalfStudentT(nu: 4.0, sigma: 20.3872)\n",
       "------\n",
       "* To see a plot of the priors call the .plot_priors() method.\n",
       "* To see a summary or plot of the posterior pass the object returned by .fit() to az.summary() or az.plot_trace(), summary=                  median     mad_sd\n",
       "sigma          17.992292   0.414806\n",
       "Intercept     -10.031176   9.376823\n",
       "mom_hs         49.360884  10.431495\n",
       "mom_iq          0.951695   0.100784\n",
       "mom_hs:mom_iq  -0.463889   0.109570)"
      ]
     },
     "execution_count": 291,
     "metadata": {},
     "output_type": "execute_result"
    }
   ],
   "source": [
    "bambi_lm(\"kid_score ~ mom_hs + mom_iq + mom_hs:mom_iq\", kidiq)"
   ]
  },
  {
   "cell_type": "code",
   "execution_count": null,
   "metadata": {},
   "outputs": [],
   "source": []
  }
 ],
 "metadata": {
  "kernelspec": {
   "display_name": ".venv",
   "language": "python",
   "name": "python3"
  },
  "language_info": {
   "codemirror_mode": {
    "name": "ipython",
    "version": 3
   },
   "file_extension": ".py",
   "mimetype": "text/x-python",
   "name": "python",
   "nbconvert_exporter": "python",
   "pygments_lexer": "ipython3",
   "version": "3.12.7"
  }
 },
 "nbformat": 4,
 "nbformat_minor": 2
}
