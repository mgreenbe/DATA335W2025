{
 "cells": [
  {
   "cell_type": "code",
   "execution_count": 1,
   "metadata": {},
   "outputs": [],
   "source": [
    "import pymc as pm\n",
    "import scipy.stats as stats\n",
    "import bambi as bmb\n",
    "import pandas as pd\n",
    "import numpy as np\n",
    "from data335 import lm, stan_lm, bambi_lm, mad\n",
    "from matplotlib import pyplot as plt"
   ]
  },
  {
   "cell_type": "code",
   "execution_count": 2,
   "metadata": {},
   "outputs": [
    {
     "name": "stderr",
     "output_type": "stream",
     "text": [
      "Initializing NUTS using jitter+adapt_diag...\n",
      "Multiprocess sampling (4 chains in 4 jobs)\n",
      "NUTS: [mu]\n"
     ]
    },
    {
     "data": {
      "application/vnd.jupyter.widget-view+json": {
       "model_id": "bcd4138279e04c649c802a4ec4205273",
       "version_major": 2,
       "version_minor": 0
      },
      "text/plain": [
       "Output()"
      ]
     },
     "metadata": {},
     "output_type": "display_data"
    },
    {
     "data": {
      "text/html": [
       "<pre style=\"white-space:pre;overflow-x:auto;line-height:normal;font-family:Menlo,'DejaVu Sans Mono',consolas,'Courier New',monospace\"></pre>\n"
      ],
      "text/plain": []
     },
     "metadata": {},
     "output_type": "display_data"
    },
    {
     "name": "stderr",
     "output_type": "stream",
     "text": [
      "Sampling 4 chains for 1_000 tune and 1_000 draw iterations (4_000 + 4_000 draws total) took 1 seconds.\n"
     ]
    },
    {
     "name": "stdout",
     "output_type": "stream",
     "text": [
      "\n",
      "mu.mean() = 0.489, mu.std() = 0.022\n",
      "np.median(mu) = 0.489, mad(mu) = 0.022\n"
     ]
    }
   ],
   "source": [
    "with pm.Model():\n",
    "    mu = pm.Normal(\"mu\", mu=0.524, sigma=0.041)\n",
    "    x = pm.Normal(\"x\", mu=mu, sigma=0.025, observed=[0.475])\n",
    "    idata = pm.sample()\n",
    "\n",
    "mu = idata[\"posterior\"].data_vars[\"mu\"].to_numpy().ravel()\n",
    "print()\n",
    "print(f\"mu.mean() = {mu.mean():.3f}, mu.std() = {mu.std():.3f}\")\n",
    "print(f\"np.median(mu) = {np.median(mu):.3f}, mad(mu) = {mad(mu):.3f}\")"
   ]
  },
  {
   "cell_type": "code",
   "execution_count": 3,
   "metadata": {},
   "outputs": [
    {
     "name": "stderr",
     "output_type": "stream",
     "text": [
      "Initializing NUTS using jitter+adapt_diag...\n",
      "Multiprocess sampling (4 chains in 4 jobs)\n",
      "NUTS: [mu]\n"
     ]
    },
    {
     "data": {
      "application/vnd.jupyter.widget-view+json": {
       "model_id": "7dccf9558cc5491f8b7b3c1187a4bcc4",
       "version_major": 2,
       "version_minor": 0
      },
      "text/plain": [
       "Output()"
      ]
     },
     "metadata": {},
     "output_type": "display_data"
    },
    {
     "data": {
      "text/html": [
       "<pre style=\"white-space:pre;overflow-x:auto;line-height:normal;font-family:Menlo,'DejaVu Sans Mono',consolas,'Courier New',monospace\"></pre>\n"
      ],
      "text/plain": []
     },
     "metadata": {},
     "output_type": "display_data"
    },
    {
     "name": "stderr",
     "output_type": "stream",
     "text": [
      "Sampling 4 chains for 1_000 tune and 1_000 draw iterations (4_000 + 4_000 draws total) took 1 seconds.\n"
     ]
    },
    {
     "name": "stdout",
     "output_type": "stream",
     "text": [
      "\n",
      "mu.mean() = 0.511, mu.std() = 0.036\n",
      "np.median(mu) = 0.510, mad(mu) = 0.036\n"
     ]
    }
   ],
   "source": [
    "with pm.Model():\n",
    "    mu = pm.Normal(\"mu\", mu=0.524, sigma=0.041)\n",
    "    x = pm.Normal(\"x\", mu=mu, sigma=0.075, observed=[0.475])\n",
    "    idata = pm.sample()\n",
    "\n",
    "mu = idata[\"posterior\"].data_vars[\"mu\"].to_numpy().ravel()\n",
    "print()\n",
    "print(f\"mu.mean() = {mu.mean():.3f}, mu.std() = {mu.std():.3f}\")\n",
    "print(f\"np.median(mu) = {np.median(mu):.3f}, mad(mu) = {mad(mu):.3f}\")"
   ]
  },
  {
   "cell_type": "code",
   "execution_count": 4,
   "metadata": {},
   "outputs": [
    {
     "name": "stderr",
     "output_type": "stream",
     "text": [
      "Initializing NUTS using jitter+adapt_diag...\n",
      "Multiprocess sampling (4 chains in 4 jobs)\n",
      "NUTS: [p]\n"
     ]
    },
    {
     "data": {
      "application/vnd.jupyter.widget-view+json": {
       "model_id": "80b953844aab4b1e8263f1b04a6a1853",
       "version_major": 2,
       "version_minor": 0
      },
      "text/plain": [
       "Output()"
      ]
     },
     "metadata": {},
     "output_type": "display_data"
    },
    {
     "data": {
      "text/html": [
       "<pre style=\"white-space:pre;overflow-x:auto;line-height:normal;font-family:Menlo,'DejaVu Sans Mono',consolas,'Courier New',monospace\"></pre>\n"
      ],
      "text/plain": []
     },
     "metadata": {},
     "output_type": "display_data"
    },
    {
     "name": "stderr",
     "output_type": "stream",
     "text": [
      "Sampling 4 chains for 1_000 tune and 1_000 draw iterations (4_000 + 4_000 draws total) took 1 seconds.\n"
     ]
    },
    {
     "name": "stdout",
     "output_type": "stream",
     "text": [
      "\n",
      "p.mean() = 0.489, p.std() = 0.022\n",
      "np.median(p) = 0.490, mad(p) = 0.022\n"
     ]
    }
   ],
   "source": [
    "with pm.Model():\n",
    "    p = pm.Normal(\"p\", mu=0.524, sigma=0.041)  # prior\n",
    "    y = pm.Binomial(\"y\", n=400, p=p, observed=[np.round(0.475 * 400)])  # data\n",
    "    posterior = pm.sample()[\"posterior\"]  # posterior\n",
    "\n",
    "p = posterior.data_vars[\"p\"].to_numpy().ravel()\n",
    "print()\n",
    "print(f\"p.mean() = {p.mean():.3f}, p.std() = {p.std():.3f}\")\n",
    "print(f\"np.median(p) = {np.median(p):.3f}, mad(p) = {mad(p):.3f}\")"
   ]
  },
  {
   "cell_type": "code",
   "execution_count": 5,
   "metadata": {},
   "outputs": [
    {
     "name": "stderr",
     "output_type": "stream",
     "text": [
      "Initializing NUTS using jitter+adapt_diag...\n",
      "Multiprocess sampling (4 chains in 4 jobs)\n",
      "NUTS: [p]\n"
     ]
    },
    {
     "data": {
      "application/vnd.jupyter.widget-view+json": {
       "model_id": "7d5255912d1546868a59223d018b49ce",
       "version_major": 2,
       "version_minor": 0
      },
      "text/plain": [
       "Output()"
      ]
     },
     "metadata": {},
     "output_type": "display_data"
    },
    {
     "data": {
      "text/html": [
       "<pre style=\"white-space:pre;overflow-x:auto;line-height:normal;font-family:Menlo,'DejaVu Sans Mono',consolas,'Courier New',monospace\"></pre>\n"
      ],
      "text/plain": []
     },
     "metadata": {},
     "output_type": "display_data"
    },
    {
     "name": "stderr",
     "output_type": "stream",
     "text": [
      "Sampling 4 chains for 1_000 tune and 1_000 draw iterations (4_000 + 4_000 draws total) took 1 seconds.\n"
     ]
    },
    {
     "name": "stdout",
     "output_type": "stream",
     "text": [
      "\n",
      "p.mean() = 0.513, p.std() = 0.036\n",
      "np.median(p) = 0.512, mad(p) = 0.036\n"
     ]
    }
   ],
   "source": [
    "with pm.Model():\n",
    "    p = pm.Normal(\"p\", mu=0.524, sigma=0.041)  # prior\n",
    "    y = pm.Binomial(\"y\", n=44, p=p, observed=[np.round(0.475 * 44)])  # data\n",
    "    posterior = pm.sample()[\"posterior\"]  # posterior\n",
    "\n",
    "p = posterior.data_vars[\"p\"].to_numpy().ravel()\n",
    "print()\n",
    "print(f\"p.mean() = {p.mean():.3f}, p.std() = {p.std():.3f}\")\n",
    "print(f\"np.median(p) = {np.median(p):.3f}, mad(p) = {mad(p):.3f}\")"
   ]
  },
  {
   "cell_type": "code",
   "execution_count": 6,
   "metadata": {},
   "outputs": [],
   "source": [
    "# Hat tip John D. Cook!\n",
    "# https://www.johndcook.com/blog/2021/04/07/beta-given-mean-variance/\n",
    "\n",
    "mu = 0.524\n",
    "sigma = 0.041\n",
    "\n",
    "a = mu * (mu * (1 - mu) / sigma**2 - 1)\n",
    "b = a * (1 - mu) / mu\n",
    "\n",
    "assert np.allclose(a / (a + b), [mu, stats.beta(a, b).mean()])\n",
    "assert np.allclose(\n",
    "    np.sqrt(a * b / (a + b) ** 2 / (a + b + 1)), [sigma, stats.beta(a, b).std()]\n",
    ")"
   ]
  },
  {
   "cell_type": "code",
   "execution_count": 7,
   "metadata": {},
   "outputs": [
    {
     "name": "stderr",
     "output_type": "stream",
     "text": [
      "Initializing NUTS using jitter+adapt_diag...\n",
      "Multiprocess sampling (4 chains in 4 jobs)\n",
      "NUTS: [p]\n"
     ]
    },
    {
     "data": {
      "application/vnd.jupyter.widget-view+json": {
       "model_id": "bca47fb7cefc49d19aea1a95c08d5c08",
       "version_major": 2,
       "version_minor": 0
      },
      "text/plain": [
       "Output()"
      ]
     },
     "metadata": {},
     "output_type": "display_data"
    },
    {
     "data": {
      "text/html": [
       "<pre style=\"white-space:pre;overflow-x:auto;line-height:normal;font-family:Menlo,'DejaVu Sans Mono',consolas,'Courier New',monospace\"></pre>\n"
      ],
      "text/plain": []
     },
     "metadata": {},
     "output_type": "display_data"
    },
    {
     "name": "stderr",
     "output_type": "stream",
     "text": [
      "Sampling 4 chains for 1_000 tune and 1_000 draw iterations (4_000 + 4_000 draws total) took 1 seconds.\n"
     ]
    },
    {
     "name": "stdout",
     "output_type": "stream",
     "text": [
      "\n",
      "p.mean() = 0.489, p.std() = 0.021\n",
      "np.median(p) = 0.489, mad(p) = 0.021\n"
     ]
    }
   ],
   "source": [
    "with pm.Model():\n",
    "    p = pm.Beta(\"p\", alpha=a, beta=b)  # prior\n",
    "    y = pm.Binomial(\"y\", n=400, p=p, observed=[np.round(0.475 * 400)])  # data\n",
    "    posterior = pm.sample()[\"posterior\"]  # posterior\n",
    "\n",
    "p = posterior.data_vars[\"p\"].to_numpy().ravel()\n",
    "print()\n",
    "print(f\"p.mean() = {p.mean():.3f}, p.std() = {p.std():.3f}\")\n",
    "print(f\"np.median(p) = {np.median(p):.3f}, mad(p) = {mad(p):.3f}\")"
   ]
  },
  {
   "cell_type": "code",
   "execution_count": 8,
   "metadata": {},
   "outputs": [
    {
     "data": {
      "text/plain": [
       "(77.22625342058299, 70.15209280190363)"
      ]
     },
     "execution_count": 8,
     "metadata": {},
     "output_type": "execute_result"
    }
   ],
   "source": [
    "a, b"
   ]
  },
  {
   "cell_type": "code",
   "execution_count": 9,
   "metadata": {},
   "outputs": [
    {
     "data": {
      "text/plain": [
       "(77.0, 147.0, 0.041192521824455666)"
      ]
     },
     "execution_count": 9,
     "metadata": {},
     "output_type": "execute_result"
    }
   ],
   "source": [
    "y0 = np.round(a)\n",
    "n0 = np.round(a + b)\n",
    "p0 = y0 / n0\n",
    "se0 = np.sqrt(p0 * (1 - p0) / n0)\n",
    "y0, n0, se0"
   ]
  },
  {
   "cell_type": "code",
   "execution_count": 10,
   "metadata": {},
   "outputs": [],
   "source": [
    "y = 190\n",
    "n = 400"
   ]
  },
  {
   "cell_type": "code",
   "execution_count": 11,
   "metadata": {},
   "outputs": [
    {
     "data": {
      "text/plain": [
       "(0.48811700182815354, 0.02137241787024956)"
      ]
     },
     "execution_count": 11,
     "metadata": {},
     "output_type": "execute_result"
    }
   ],
   "source": [
    "p = (y + y0) / (n + n0)\n",
    "se = np.sqrt(p * (1 - p) / (n + n0))\n",
    "p, se"
   ]
  },
  {
   "cell_type": "code",
   "execution_count": 187,
   "metadata": {},
   "outputs": [],
   "source": []
  },
  {
   "cell_type": "markdown",
   "metadata": {},
   "source": [
    "#### Sex ratio logistic regression"
   ]
  },
  {
   "cell_type": "code",
   "execution_count": 12,
   "metadata": {},
   "outputs": [],
   "source": [
    "from sklearn.linear_model import LogisticRegression"
   ]
  },
  {
   "cell_type": "code",
   "execution_count": 13,
   "metadata": {},
   "outputs": [],
   "source": [
    "N = 3000\n",
    "n1 = 300\n",
    "y1 = int(np.round(0.44 * n1))\n",
    "n0 = N - n1\n",
    "y0 = int(np.round(0.52 * n0))\n",
    "\n",
    "X = np.concatenate([np.zeros(n0), np.ones(n1)])\n",
    "Y0 = np.zeros(n0)\n",
    "Y0[:y0] = 1\n",
    "Y1 = np.zeros(n1)\n",
    "Y1[:y1] = 1\n",
    "Y = np.concatenate([Y0, Y1])"
   ]
  },
  {
   "cell_type": "code",
   "execution_count": 14,
   "metadata": {},
   "outputs": [
    {
     "data": {
      "text/plain": [
       "array([[-0.31538062]])"
      ]
     },
     "execution_count": 14,
     "metadata": {},
     "output_type": "execute_result"
    }
   ],
   "source": [
    "model = LogisticRegression()\n",
    "model.fit(X.reshape(-1, 1), Y)\n",
    "model.coef_"
   ]
  },
  {
   "cell_type": "markdown",
   "metadata": {},
   "source": [
    "### Chapter 10"
   ]
  },
  {
   "cell_type": "code",
   "execution_count": 15,
   "metadata": {},
   "outputs": [],
   "source": [
    "from sklearn.linear_model import LinearRegression\n",
    "from matplotlib.axes import Axes\n",
    "from numbers import Real\n",
    "from sklearn.utils.validation import check_is_fitted\n",
    "from typing import Any"
   ]
  },
  {
   "cell_type": "code",
   "execution_count": 16,
   "metadata": {},
   "outputs": [
    {
     "data": {
      "text/html": [
       "<div>\n",
       "<style scoped>\n",
       "    .dataframe tbody tr th:only-of-type {\n",
       "        vertical-align: middle;\n",
       "    }\n",
       "\n",
       "    .dataframe tbody tr th {\n",
       "        vertical-align: top;\n",
       "    }\n",
       "\n",
       "    .dataframe thead th {\n",
       "        text-align: right;\n",
       "    }\n",
       "</style>\n",
       "<table border=\"1\" class=\"dataframe\">\n",
       "  <thead>\n",
       "    <tr style=\"text-align: right;\">\n",
       "      <th></th>\n",
       "      <th>kid_score</th>\n",
       "      <th>mom_hs</th>\n",
       "      <th>mom_iq</th>\n",
       "      <th>mom_work</th>\n",
       "      <th>mom_age</th>\n",
       "    </tr>\n",
       "  </thead>\n",
       "  <tbody>\n",
       "    <tr>\n",
       "      <th>0</th>\n",
       "      <td>65</td>\n",
       "      <td>1</td>\n",
       "      <td>121.117529</td>\n",
       "      <td>4</td>\n",
       "      <td>27</td>\n",
       "    </tr>\n",
       "    <tr>\n",
       "      <th>1</th>\n",
       "      <td>98</td>\n",
       "      <td>1</td>\n",
       "      <td>89.361882</td>\n",
       "      <td>4</td>\n",
       "      <td>25</td>\n",
       "    </tr>\n",
       "    <tr>\n",
       "      <th>2</th>\n",
       "      <td>85</td>\n",
       "      <td>1</td>\n",
       "      <td>115.443165</td>\n",
       "      <td>4</td>\n",
       "      <td>27</td>\n",
       "    </tr>\n",
       "    <tr>\n",
       "      <th>3</th>\n",
       "      <td>83</td>\n",
       "      <td>1</td>\n",
       "      <td>99.449639</td>\n",
       "      <td>3</td>\n",
       "      <td>25</td>\n",
       "    </tr>\n",
       "    <tr>\n",
       "      <th>4</th>\n",
       "      <td>115</td>\n",
       "      <td>1</td>\n",
       "      <td>92.745710</td>\n",
       "      <td>4</td>\n",
       "      <td>27</td>\n",
       "    </tr>\n",
       "    <tr>\n",
       "      <th>...</th>\n",
       "      <td>...</td>\n",
       "      <td>...</td>\n",
       "      <td>...</td>\n",
       "      <td>...</td>\n",
       "      <td>...</td>\n",
       "    </tr>\n",
       "    <tr>\n",
       "      <th>429</th>\n",
       "      <td>94</td>\n",
       "      <td>0</td>\n",
       "      <td>84.877412</td>\n",
       "      <td>4</td>\n",
       "      <td>21</td>\n",
       "    </tr>\n",
       "    <tr>\n",
       "      <th>430</th>\n",
       "      <td>76</td>\n",
       "      <td>1</td>\n",
       "      <td>92.990392</td>\n",
       "      <td>4</td>\n",
       "      <td>23</td>\n",
       "    </tr>\n",
       "    <tr>\n",
       "      <th>431</th>\n",
       "      <td>50</td>\n",
       "      <td>0</td>\n",
       "      <td>94.859708</td>\n",
       "      <td>2</td>\n",
       "      <td>24</td>\n",
       "    </tr>\n",
       "    <tr>\n",
       "      <th>432</th>\n",
       "      <td>88</td>\n",
       "      <td>1</td>\n",
       "      <td>96.856624</td>\n",
       "      <td>2</td>\n",
       "      <td>21</td>\n",
       "    </tr>\n",
       "    <tr>\n",
       "      <th>433</th>\n",
       "      <td>70</td>\n",
       "      <td>1</td>\n",
       "      <td>91.253336</td>\n",
       "      <td>2</td>\n",
       "      <td>25</td>\n",
       "    </tr>\n",
       "  </tbody>\n",
       "</table>\n",
       "<p>434 rows × 5 columns</p>\n",
       "</div>"
      ],
      "text/plain": [
       "     kid_score  mom_hs      mom_iq  mom_work  mom_age\n",
       "0           65       1  121.117529         4       27\n",
       "1           98       1   89.361882         4       25\n",
       "2           85       1  115.443165         4       27\n",
       "3           83       1   99.449639         3       25\n",
       "4          115       1   92.745710         4       27\n",
       "..         ...     ...         ...       ...      ...\n",
       "429         94       0   84.877412         4       21\n",
       "430         76       1   92.990392         4       23\n",
       "431         50       0   94.859708         2       24\n",
       "432         88       1   96.856624         2       21\n",
       "433         70       1   91.253336         2       25\n",
       "\n",
       "[434 rows x 5 columns]"
      ]
     },
     "execution_count": 16,
     "metadata": {},
     "output_type": "execute_result"
    }
   ],
   "source": [
    "kidiq = pd.read_csv(\"../data/kidiq.csv\")\n",
    "kidiq"
   ]
  },
  {
   "cell_type": "code",
   "execution_count": 17,
   "metadata": {},
   "outputs": [],
   "source": [
    "kid_score = kidiq[\"kid_score\"]\n",
    "mom_hs = kidiq[[\"mom_hs\"]]\n",
    "mom_iq = kidiq[[\"mom_iq\"]]\n",
    "\n",
    "mom_hs_model = LinearRegression()\n",
    "mom_hs_model.fit(mom_hs, kid_score)\n",
    "a_hs = mom_hs_model.intercept_\n",
    "b_hs = mom_hs_model.coef_[0]\n",
    "\n",
    "mom_iq_model = LinearRegression()\n",
    "mom_iq_model.fit(mom_iq, kid_score)\n",
    "a_iq = mom_iq_model.intercept_\n",
    "b_iq = mom_iq_model.coef_[0]"
   ]
  },
  {
   "cell_type": "code",
   "execution_count": 18,
   "metadata": {},
   "outputs": [],
   "source": [
    "def plot_regression_line(\n",
    "    model, ax: Axes | None = None, xlim: tuple[Any, Any] | None = None, **kwargs\n",
    "):\n",
    "    if isinstance(model, LinearRegression):\n",
    "        check_is_fitted(estimator=model, attributes=(\"intercept_\", \"coef_\"))\n",
    "        a = model.intercept_\n",
    "        b = model.coef_[0]\n",
    "    else:\n",
    "        a = model[0]\n",
    "        b = model[1]\n",
    "    ax = plt.gca() if ax is None else ax\n",
    "    if xlim is not None:\n",
    "        xmin = xlim[0]\n",
    "        xmax = xlim[1]\n",
    "    else:\n",
    "        xmin, xmax = ax.get_xlim()\n",
    "    ax.plot([xmin, xmax], [a + b * xmin, a + b * xmax], **kwargs)"
   ]
  },
  {
   "cell_type": "code",
   "execution_count": 19,
   "metadata": {},
   "outputs": [
    {
     "data": {
      "image/png": "[encoded data removed]",
      "text/plain": [
       "<Figure size 1200x400 with 2 Axes>"
      ]
     },
     "metadata": {},
     "output_type": "display_data"
    }
   ],
   "source": [
    "fig, (ax_hs, ax_iq) = plt.subplots(nrows=1, ncols=2, sharey=True, figsize=(12, 4))\n",
    "\n",
    "fig.suptitle(\"One simple linear regression per feature\")\n",
    "\n",
    "jitter = 0.05 * np.random.uniform(-0.5, 0.5, size=mom_hs.shape)\n",
    "ax_hs.scatter(mom_hs + jitter, kid_score, s=4, color=(0, 0, 1, 0.4))\n",
    "ax_hs.set_xlabel(\"mom_hs\")\n",
    "ax_hs.set_xticks([0, 1])\n",
    "ax_hs.set_ylabel(\"kid_score\")\n",
    "plot_regression_line(\n",
    "    mom_hs_model, ax=ax_hs, lw=3, label=f\"kid_score = {a_hs:.1f} + {b_hs:.1f} * mom_hs\"\n",
    ")\n",
    "ax_hs.legend(loc=\"lower right\")\n",
    "\n",
    "kidiq.plot.scatter(\"mom_iq\", \"kid_score\", ax=ax_iq, s=4, color=(0, 0, 1))\n",
    "plot_regression_line(\n",
    "    mom_iq_model, ax=ax_iq, lw=3, label=f\"kid_score = {a_iq:.1f} + {b_iq:.1f} * mom_iq\"\n",
    ")\n",
    "ax_iq.legend(loc=\"lower right\")\n",
    "plt.show()"
   ]
  },
  {
   "cell_type": "markdown",
   "metadata": {},
   "source": [
    "#### Linear regression with two predictors"
   ]
  },
  {
   "cell_type": "code",
   "execution_count": 20,
   "metadata": {},
   "outputs": [
    {
     "name": "stdout",
     "output_type": "stream",
     "text": [
      "kid_score   =   25.7   +   6.0 * mom_hs   +   0.6 * mom_iq   +   error\n"
     ]
    }
   ],
   "source": [
    "model = LinearRegression()\n",
    "model.fit(kidiq[[\"mom_hs\", \"mom_iq\"]], kidiq[\"kid_score\"])\n",
    "a = model.intercept_\n",
    "b = model.coef_[0]\n",
    "c = model.coef_[1]\n",
    "print(\n",
    "    f\"kid_score   =   {a:.1f}   +   {b:.1f} * mom_hs   +   {c:.1f} * mom_iq   +   error\"\n",
    ")"
   ]
  },
  {
   "cell_type": "code",
   "execution_count": 21,
   "metadata": {},
   "outputs": [
    {
     "data": {
      "image/png": "[encoded data removed]",
      "text/plain": [
       "<Figure size 640x480 with 1 Axes>"
      ]
     },
     "metadata": {},
     "output_type": "display_data"
    }
   ],
   "source": [
    "kidiq.plot.scatter(\n",
    "    \"mom_iq\",\n",
    "    \"kid_score\",\n",
    "    s=10,\n",
    "    c=[\"C0\" if x == 0 else \"C1\" for x in kidiq[\"mom_hs\"]],\n",
    "    alpha=0.5,\n",
    ")\n",
    "plot_regression_line((a, c), lw=3, label=\"mom_hs = 0\", xlim=(70, 140))\n",
    "plot_regression_line((a + b, c), lw=3, label=\"mom_hs = 1\", xlim=(70, 140))\n",
    "plt.legend()\n",
    "plt.show()"
   ]
  },
  {
   "cell_type": "code",
   "execution_count": 22,
   "metadata": {},
   "outputs": [
    {
     "data": {
      "image/png": "[encoded data removed]",
      "text/plain": [
       "<Figure size 640x480 with 1 Axes>"
      ]
     },
     "metadata": {},
     "output_type": "display_data"
    }
   ],
   "source": [
    "ax = plt.gca()\n",
    "for hs, group in kidiq.groupby(\"mom_hs\"):\n",
    "    group.plot.scatter(\"mom_iq\", \"kid_score\", color=f\"C{hs}\", alpha=0.5, ax=ax)\n",
    "    model = LinearRegression()\n",
    "    model.fit(group[[\"mom_iq\"]], group[\"kid_score\"])\n",
    "    a = model.intercept_\n",
    "    b = model.coef_[0]\n",
    "    plot_regression_line(\n",
    "        model,\n",
    "        lw=3,\n",
    "        ax=ax,\n",
    "        xlim=(70, 140),\n",
    "        label=f\"kid_score = {a:.1f} + {b:.1f}*mom_iq\",\n",
    "    )\n",
    "ax.legend()\n",
    "ax.set_title(\"Group-dependent slopes\")\n",
    "plt.show()"
   ]
  },
  {
   "cell_type": "code",
   "execution_count": 23,
   "metadata": {},
   "outputs": [
    {
     "name": "stdout",
     "output_type": "stream",
     "text": [
      "kid_score  =  -11.5  +  51.3 * mom_hs  +  1.0 * mom_iq  +  -0.5 * mom_hs:mom_iq  +   error\n",
      "\n",
      "If mom_hs = 0:\n",
      "kid_score  =  -11.5  +  1.0 * mom_iq  +  error\n",
      "\n",
      "If mom_hs = 1:\n",
      "kid_score  =   39.8  +  0.5 * mom_iq  +  error\n"
     ]
    }
   ],
   "source": [
    "kidiq[\"mom_hs:mom_iq\"] = kidiq[\"mom_hs\"] * kidiq[\"mom_iq\"]\n",
    "\n",
    "model = LinearRegression()\n",
    "model.fit(kidiq[[\"mom_hs\", \"mom_iq\", \"mom_hs:mom_iq\"]], kidiq[\"kid_score\"])\n",
    "a = model.intercept_\n",
    "b = model.coef_[0]\n",
    "c = model.coef_[1]\n",
    "d = model.coef_[2]\n",
    "print(\n",
    "    f\"kid_score  =  {a:.1f}  +  {b:.1f} * mom_hs  +  {c:.1f} * mom_iq  +  {d:.1f} * mom_hs:mom_iq  +   error\"\n",
    ")\n",
    "print(\"\\nIf mom_hs = 0:\")\n",
    "print(f\"kid_score  =  {a:.1f}  +  {c:.1f} * mom_iq  +  error\")\n",
    "print(\"\\nIf mom_hs = 1:\")\n",
    "print(f\"kid_score  =   {a + b:.1f}  +  {c + d:.1f} * mom_iq  +  error\")"
   ]
  },
  {
   "cell_type": "code",
   "execution_count": 24,
   "metadata": {},
   "outputs": [
    {
     "data": {
      "text/html": [
       "<div>\n",
       "<style scoped>\n",
       "    .dataframe tbody tr th:only-of-type {\n",
       "        vertical-align: middle;\n",
       "    }\n",
       "\n",
       "    .dataframe tbody tr th {\n",
       "        vertical-align: top;\n",
       "    }\n",
       "\n",
       "    .dataframe thead th {\n",
       "        text-align: right;\n",
       "    }\n",
       "</style>\n",
       "<table border=\"1\" class=\"dataframe\">\n",
       "  <thead>\n",
       "    <tr style=\"text-align: right;\">\n",
       "      <th></th>\n",
       "      <th>estimate</th>\n",
       "      <th>standard error</th>\n",
       "      <th>t-statistic</th>\n",
       "      <th>p-value</th>\n",
       "    </tr>\n",
       "  </thead>\n",
       "  <tbody>\n",
       "    <tr>\n",
       "      <th>Intercept</th>\n",
       "      <td>-11.482021</td>\n",
       "      <td>13.757974</td>\n",
       "      <td>-0.834572</td>\n",
       "      <td>0.404422</td>\n",
       "    </tr>\n",
       "    <tr>\n",
       "      <th>mom_hs</th>\n",
       "      <td>51.268223</td>\n",
       "      <td>15.337581</td>\n",
       "      <td>3.342654</td>\n",
       "      <td>0.000902</td>\n",
       "    </tr>\n",
       "    <tr>\n",
       "      <th>mom_iq</th>\n",
       "      <td>0.968889</td>\n",
       "      <td>0.148344</td>\n",
       "      <td>6.53138</td>\n",
       "      <td>0.0</td>\n",
       "    </tr>\n",
       "    <tr>\n",
       "      <th>mom_hs:mom_iq</th>\n",
       "      <td>-0.484275</td>\n",
       "      <td>0.162217</td>\n",
       "      <td>-2.98535</td>\n",
       "      <td>0.002994</td>\n",
       "    </tr>\n",
       "    <tr>\n",
       "      <th>sigma</th>\n",
       "      <td>17.971466</td>\n",
       "      <td></td>\n",
       "      <td></td>\n",
       "      <td></td>\n",
       "    </tr>\n",
       "  </tbody>\n",
       "</table>\n",
       "</div>"
      ],
      "text/plain": [
       "LMFit(model_specs=.lhs:\n",
       "    ModelSpec(formula=kid_score, materializer=None, materializer_params=None, ensure_full_rank=True, na_action=<NAAction.DROP: 'drop'>, output=None, cluster_by=<ClusterBy.NONE: 'none'>, structure=None, transform_state={}, encoder_state={'kid_score': (<Kind.NUMERICAL: 'numerical'>, {})})\n",
       ".rhs:\n",
       "    ModelSpec(formula=1 + mom_hs + mom_iq + mom_hs:mom_iq, materializer=None, materializer_params=None, ensure_full_rank=True, na_action=<NAAction.DROP: 'drop'>, output=None, cluster_by=<ClusterBy.NONE: 'none'>, structure=None, transform_state={}, encoder_state={'mom_hs': (<Kind.NUMERICAL: 'numerical'>, {}), 'mom_iq': (<Kind.NUMERICAL: 'numerical'>, {})}), features=['Intercept', 'mom_hs', 'mom_iq', 'mom_hs:mom_iq'], n=434, df=430)"
      ]
     },
     "execution_count": 24,
     "metadata": {},
     "output_type": "execute_result"
    }
   ],
   "source": [
    "lm(\"kid_score ~ mom_hs + mom_iq + mom_hs:mom_iq\", kidiq)"
   ]
  },
  {
   "cell_type": "code",
   "execution_count": 25,
   "metadata": {},
   "outputs": [
    {
     "name": "stderr",
     "output_type": "stream",
     "text": [
      "13:35:41 - cmdstanpy - INFO - CmdStan start processing\n"
     ]
    },
    {
     "data": {
      "application/vnd.jupyter.widget-view+json": {
       "model_id": "852e4c954107437d9fe937556fd1dda8",
       "version_major": 2,
       "version_minor": 0
      },
      "text/plain": [
       "chain 1 |          | 00:00 Status"
      ]
     },
     "metadata": {},
     "output_type": "display_data"
    },
    {
     "data": {
      "application/vnd.jupyter.widget-view+json": {
       "model_id": "c1328b7de8e94c37a84b9accb4c2d6d9",
       "version_major": 2,
       "version_minor": 0
      },
      "text/plain": [
       "chain 2 |          | 00:00 Status"
      ]
     },
     "metadata": {},
     "output_type": "display_data"
    },
    {
     "data": {
      "application/vnd.jupyter.widget-view+json": {
       "model_id": "4e163ae86977468dab1fb45ca9b83877",
       "version_major": 2,
       "version_minor": 0
      },
      "text/plain": [
       "chain 3 |          | 00:00 Status"
      ]
     },
     "metadata": {},
     "output_type": "display_data"
    },
    {
     "data": {
      "application/vnd.jupyter.widget-view+json": {
       "model_id": "802ee5a45fe840acb1b3d88f6c547e67",
       "version_major": 2,
       "version_minor": 0
      },
      "text/plain": [
       "chain 4 |          | 00:00 Status"
      ]
     },
     "metadata": {},
     "output_type": "display_data"
    },
    {
     "name": "stdout",
     "output_type": "stream",
     "text": [
      "                                                                                                                                                                                                                                                                                                                                "
     ]
    },
    {
     "name": "stderr",
     "output_type": "stream",
     "text": [
      "13:35:43 - cmdstanpy - INFO - CmdStan done processing.\n"
     ]
    },
    {
     "name": "stdout",
     "output_type": "stream",
     "text": [
      "\n"
     ]
    },
    {
     "data": {
      "text/html": [
       "<div>\n",
       "<style scoped>\n",
       "    .dataframe tbody tr th:only-of-type {\n",
       "        vertical-align: middle;\n",
       "    }\n",
       "\n",
       "    .dataframe tbody tr th {\n",
       "        vertical-align: top;\n",
       "    }\n",
       "\n",
       "    .dataframe thead th {\n",
       "        text-align: right;\n",
       "    }\n",
       "</style>\n",
       "<table border=\"1\" class=\"dataframe\">\n",
       "  <thead>\n",
       "    <tr style=\"text-align: right;\">\n",
       "      <th></th>\n",
       "      <th>median</th>\n",
       "      <th>mad_sd</th>\n",
       "    </tr>\n",
       "  </thead>\n",
       "  <tbody>\n",
       "    <tr>\n",
       "      <th>Intercept</th>\n",
       "      <td>-12.080750</td>\n",
       "      <td>14.140393</td>\n",
       "    </tr>\n",
       "    <tr>\n",
       "      <th>mom_hs</th>\n",
       "      <td>51.878850</td>\n",
       "      <td>15.706095</td>\n",
       "    </tr>\n",
       "    <tr>\n",
       "      <th>mom_iq</th>\n",
       "      <td>0.975482</td>\n",
       "      <td>0.153025</td>\n",
       "    </tr>\n",
       "    <tr>\n",
       "      <th>mom_hs:mom_iq</th>\n",
       "      <td>-0.491182</td>\n",
       "      <td>0.166508</td>\n",
       "    </tr>\n",
       "    <tr>\n",
       "      <th>sigma</th>\n",
       "      <td>17.997500</td>\n",
       "      <td>0.610165</td>\n",
       "    </tr>\n",
       "  </tbody>\n",
       "</table>\n",
       "</div>"
      ],
      "text/plain": [
       "StanLMFit(model_specs=.lhs:\n",
       "    ModelSpec(formula=kid_score, materializer=None, materializer_params=None, ensure_full_rank=True, na_action=<NAAction.DROP: 'drop'>, output=None, cluster_by=<ClusterBy.NONE: 'none'>, structure=None, transform_state={}, encoder_state={'kid_score': (<Kind.NUMERICAL: 'numerical'>, {})})\n",
       ".rhs:\n",
       "    ModelSpec(formula=1 + mom_hs + mom_iq + mom_hs:mom_iq, materializer=None, materializer_params=None, ensure_full_rank=True, na_action=<NAAction.DROP: 'drop'>, output=None, cluster_by=<ClusterBy.NONE: 'none'>, structure=None, transform_state={}, encoder_state={'mom_hs': (<Kind.NUMERICAL: 'numerical'>, {}), 'mom_iq': (<Kind.NUMERICAL: 'numerical'>, {})}), features=['mom_hs', 'mom_iq', 'mom_hs:mom_iq'], model=CmdStanModel: name=lr\n",
       "\t stan_file=/Users/mgreenbe/DATA335W2025/code/lr.stan\n",
       "\t exe_file=/Users/mgreenbe/DATA335W2025/code/lr\n",
       "\t compiler_options=stanc_options={}, cpp_options={}, summary=                  median     mad_sd\n",
       "Intercept     -12.080750  14.140393\n",
       "mom_hs         51.878850  15.706095\n",
       "mom_iq          0.975482   0.153025\n",
       "mom_hs:mom_iq  -0.491182   0.166508\n",
       "sigma          17.997500   0.610165)"
      ]
     },
     "execution_count": 25,
     "metadata": {},
     "output_type": "execute_result"
    }
   ],
   "source": [
    "stan_lm(\"kid_score ~ mom_hs + mom_iq + mom_hs:mom_iq\", kidiq)"
   ]
  },
  {
   "cell_type": "code",
   "execution_count": 26,
   "metadata": {},
   "outputs": [
    {
     "name": "stderr",
     "output_type": "stream",
     "text": [
      "Initializing NUTS using jitter+adapt_diag...\n",
      "Multiprocess sampling (4 chains in 4 jobs)\n",
      "NUTS: [sigma, Intercept, mom_hs, mom_iq, mom_hs:mom_iq]\n"
     ]
    },
    {
     "data": {
      "application/vnd.jupyter.widget-view+json": {
       "model_id": "471645bd57884fdc98ff6c3809158eef",
       "version_major": 2,
       "version_minor": 0
      },
      "text/plain": [
       "Output()"
      ]
     },
     "metadata": {},
     "output_type": "display_data"
    },
    {
     "data": {
      "text/html": [
       "<pre style=\"white-space:pre;overflow-x:auto;line-height:normal;font-family:Menlo,'DejaVu Sans Mono',consolas,'Courier New',monospace\"></pre>\n"
      ],
      "text/plain": []
     },
     "metadata": {},
     "output_type": "display_data"
    },
    {
     "name": "stderr",
     "output_type": "stream",
     "text": [
      "Sampling 4 chains for 1_000 tune and 1_000 draw iterations (4_000 + 4_000 draws total) took 6 seconds.\n"
     ]
    },
    {
     "data": {
      "text/html": [
       "<div>\n",
       "<style scoped>\n",
       "    .dataframe tbody tr th:only-of-type {\n",
       "        vertical-align: middle;\n",
       "    }\n",
       "\n",
       "    .dataframe tbody tr th {\n",
       "        vertical-align: top;\n",
       "    }\n",
       "\n",
       "    .dataframe thead th {\n",
       "        text-align: right;\n",
       "    }\n",
       "</style>\n",
       "<table border=\"1\" class=\"dataframe\">\n",
       "  <thead>\n",
       "    <tr style=\"text-align: right;\">\n",
       "      <th></th>\n",
       "      <th>median</th>\n",
       "      <th>mad_sd</th>\n",
       "    </tr>\n",
       "  </thead>\n",
       "  <tbody>\n",
       "    <tr>\n",
       "      <th>sigma</th>\n",
       "      <td>17.971005</td>\n",
       "      <td>0.606940</td>\n",
       "    </tr>\n",
       "    <tr>\n",
       "      <th>Intercept</th>\n",
       "      <td>-10.039906</td>\n",
       "      <td>14.013643</td>\n",
       "    </tr>\n",
       "    <tr>\n",
       "      <th>mom_hs</th>\n",
       "      <td>49.858735</td>\n",
       "      <td>15.793845</td>\n",
       "    </tr>\n",
       "    <tr>\n",
       "      <th>mom_iq</th>\n",
       "      <td>0.954365</td>\n",
       "      <td>0.153968</td>\n",
       "    </tr>\n",
       "    <tr>\n",
       "      <th>mom_hs:mom_iq</th>\n",
       "      <td>-0.469009</td>\n",
       "      <td>0.168353</td>\n",
       "    </tr>\n",
       "  </tbody>\n",
       "</table>\n",
       "</div>"
      ],
      "text/plain": [
       "BambiLMFit(formula='kid_score ~ mom_hs + mom_iq + mom_hs:mom_iq', model=       Formula: kid_score ~ mom_hs + mom_iq + mom_hs:mom_iq\n",
       "        Family: gaussian\n",
       "          Link: mu = identity\n",
       "  Observations: 434\n",
       "        Priors: \n",
       "    target = mu\n",
       "        Common-level effects\n",
       "            Intercept ~ Normal(mu: 86.7972, sigma: 369.4824)\n",
       "            mom_hs ~ Normal(mu: 0.0, sigma: 124.2132)\n",
       "            mom_iq ~ Normal(mu: 0.0, sigma: 3.4018)\n",
       "            mom_hs:mom_iq ~ Normal(mu: 0.0, sigma: 1.1596)\n",
       "        \n",
       "        Auxiliary parameters\n",
       "            sigma ~ HalfStudentT(nu: 4.0, sigma: 20.3872)\n",
       "------\n",
       "* To see a plot of the priors call the .plot_priors() method.\n",
       "* To see a summary or plot of the posterior pass the object returned by .fit() to az.summary() or az.plot_trace(), summary=                  median     mad_sd\n",
       "sigma          17.971005   0.606940\n",
       "Intercept     -10.039906  14.013643\n",
       "mom_hs         49.858735  15.793845\n",
       "mom_iq          0.954365   0.153968\n",
       "mom_hs:mom_iq  -0.469009   0.168353)"
      ]
     },
     "execution_count": 26,
     "metadata": {},
     "output_type": "execute_result"
    }
   ],
   "source": [
    "bambi_lm(\"kid_score ~ mom_hs + mom_iq + mom_hs:mom_iq\", kidiq)"
   ]
  },
  {
   "cell_type": "code",
   "execution_count": 27,
   "metadata": {},
   "outputs": [],
   "source": [
    "import numpy as np\n",
    "import pandas as pd\n",
    "import scipy.stats as stats\n",
    "from typing import Sequence\n",
    "from formulaic import model_matrix, ModelSpec, ModelSpecs, ModelMatrix\n",
    "from arviz import InferenceData\n",
    "from dataclasses import dataclass, field\n",
    "from numpy.typing import ArrayLike, NDArray\n",
    "from cmdstanpy import CmdStanModel, CmdStanMCMC\n",
    "from bambi import Model as BambiModel\n",
    "from IPython.display import display"
   ]
  },
  {
   "cell_type": "code",
   "execution_count": 28,
   "metadata": {},
   "outputs": [
    {
     "name": "stderr",
     "output_type": "stream",
     "text": [
      "13:35:50 - cmdstanpy - INFO - CmdStan start processing\n"
     ]
    },
    {
     "data": {
      "application/vnd.jupyter.widget-view+json": {
       "model_id": "876dffa611ca43ee9a1d7b0dfb94f5d1",
       "version_major": 2,
       "version_minor": 0
      },
      "text/plain": [
       "chain 1 |          | 00:00 Status"
      ]
     },
     "metadata": {},
     "output_type": "display_data"
    },
    {
     "data": {
      "application/vnd.jupyter.widget-view+json": {
       "model_id": "1b61bb6037534f7b98a47d5551f2aa53",
       "version_major": 2,
       "version_minor": 0
      },
      "text/plain": [
       "chain 2 |          | 00:00 Status"
      ]
     },
     "metadata": {},
     "output_type": "display_data"
    },
    {
     "data": {
      "application/vnd.jupyter.widget-view+json": {
       "model_id": "a42c7538bac64ee3a6bbac62cc27210b",
       "version_major": 2,
       "version_minor": 0
      },
      "text/plain": [
       "chain 3 |          | 00:00 Status"
      ]
     },
     "metadata": {},
     "output_type": "display_data"
    },
    {
     "data": {
      "application/vnd.jupyter.widget-view+json": {
       "model_id": "01eaae88b110473fae75c67f07687052",
       "version_major": 2,
       "version_minor": 0
      },
      "text/plain": [
       "chain 4 |          | 00:00 Status"
      ]
     },
     "metadata": {},
     "output_type": "display_data"
    },
    {
     "name": "stdout",
     "output_type": "stream",
     "text": [
      "                                                                                                                                                                                                                                                                                                                                "
     ]
    },
    {
     "name": "stderr",
     "output_type": "stream",
     "text": [
      "13:35:51 - cmdstanpy - INFO - CmdStan done processing.\n"
     ]
    },
    {
     "name": "stdout",
     "output_type": "stream",
     "text": [
      "\n"
     ]
    }
   ],
   "source": [
    "fit = stan_lm(\"kid_score ~ mom_hs\", kidiq)"
   ]
  },
  {
   "cell_type": "code",
   "execution_count": 29,
   "metadata": {},
   "outputs": [
    {
     "data": {
      "text/plain": [
       "array([77.76439374, 89.59441733, 89.59441733, 89.59441733])"
      ]
     },
     "execution_count": 29,
     "metadata": {},
     "output_type": "execute_result"
    }
   ],
   "source": [
    "newdata = pd.DataFrame({\"mom_hs\": [0, 1, 1, 1]})\n",
    "y = fit.posterior_predict(newdata)\n",
    "y.mean(axis=1)"
   ]
  },
  {
   "cell_type": "code",
   "execution_count": 30,
   "metadata": {},
   "outputs": [
    {
     "data": {
      "text/plain": [
       "(4, 4000)"
      ]
     },
     "execution_count": 30,
     "metadata": {},
     "output_type": "execute_result"
    }
   ],
   "source": [
    "y.shape"
   ]
  },
  {
   "cell_type": "code",
   "execution_count": null,
   "metadata": {},
   "outputs": [],
   "source": []
  }
 ],
 "metadata": {
  "kernelspec": {
   "display_name": ".venv",
   "language": "python",
   "name": "python3"
  },
  "language_info": {
   "codemirror_mode": {
    "name": "ipython",
    "version": 3
   },
   "file_extension": ".py",
   "mimetype": "text/x-python",
   "name": "python",
   "nbconvert_exporter": "python",
   "pygments_lexer": "ipython3",
   "version": "3.12.7"
  }
 },
 "nbformat": 4,
 "nbformat_minor": 2
}
