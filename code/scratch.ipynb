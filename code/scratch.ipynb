{
 "cells": [
  {
   "cell_type": "code",
   "execution_count": 144,
   "metadata": {},
   "outputs": [],
   "source": [
    "import numpy as np\n",
    "import pandas as pd\n",
    "import bambi as bmb\n",
    "import scipy.stats as stats\n",
    "from typing import Sequence\n",
    "from matplotlib import pyplot as plt\n",
    "from dataclasses import dataclass, field\n",
    "from numpy.typing import NDArray\n",
    "from cmdstanpy import CmdStanModel, CmdStanMCMC\n",
    "from data335 import lm\n",
    "from arviz import InferenceData"
   ]
  },
  {
   "cell_type": "code",
   "execution_count": 2,
   "metadata": {},
   "outputs": [],
   "source": [
    "model = CmdStanModel(stan_file=\"slr.stan\")\n",
    "hibbs = pd.read_csv(\"../data/hibbs.csv\")\n",
    "data = {\"N\": len(hibbs), \"x\": hibbs[\"growth\"], \"y\": hibbs[\"vote\"]}"
   ]
  },
  {
   "cell_type": "code",
   "execution_count": 3,
   "metadata": {},
   "outputs": [
    {
     "name": "stderr",
     "output_type": "stream",
     "text": [
      "20:15:22 - cmdstanpy - INFO - CmdStan start processing\n"
     ]
    },
    {
     "data": {
      "application/vnd.jupyter.widget-view+json": {
       "model_id": "bcc4bd7e3ac04d94a0dae9b5b1b29133",
       "version_major": 2,
       "version_minor": 0
      },
      "text/plain": [
       "chain 1 |          | 00:00 Status"
      ]
     },
     "metadata": {},
     "output_type": "display_data"
    },
    {
     "data": {
      "application/vnd.jupyter.widget-view+json": {
       "model_id": "24ed8cd21048489d93ce5206a622586f",
       "version_major": 2,
       "version_minor": 0
      },
      "text/plain": [
       "chain 2 |          | 00:00 Status"
      ]
     },
     "metadata": {},
     "output_type": "display_data"
    },
    {
     "data": {
      "application/vnd.jupyter.widget-view+json": {
       "model_id": "30664aa0be69471ba3fbfd4af9a63487",
       "version_major": 2,
       "version_minor": 0
      },
      "text/plain": [
       "chain 3 |          | 00:00 Status"
      ]
     },
     "metadata": {},
     "output_type": "display_data"
    },
    {
     "data": {
      "application/vnd.jupyter.widget-view+json": {
       "model_id": "69759ada9991475f984f17c6d4bef4c1",
       "version_major": 2,
       "version_minor": 0
      },
      "text/plain": [
       "chain 4 |          | 00:00 Status"
      ]
     },
     "metadata": {},
     "output_type": "display_data"
    },
    {
     "name": "stdout",
     "output_type": "stream",
     "text": [
      "                                                                                                                                                                                                                                                                                                                                "
     ]
    },
    {
     "name": "stderr",
     "output_type": "stream",
     "text": [
      "20:15:23 - cmdstanpy - INFO - CmdStan done processing.\n"
     ]
    },
    {
     "name": "stdout",
     "output_type": "stream",
     "text": [
      "\n"
     ]
    }
   ],
   "source": [
    "fit = model.sample(data)"
   ]
  },
  {
   "cell_type": "code",
   "execution_count": 4,
   "metadata": {},
   "outputs": [
    {
     "data": {
      "text/html": [
       "<div>\n",
       "<style scoped>\n",
       "    .dataframe tbody tr th:only-of-type {\n",
       "        vertical-align: middle;\n",
       "    }\n",
       "\n",
       "    .dataframe tbody tr th {\n",
       "        vertical-align: top;\n",
       "    }\n",
       "\n",
       "    .dataframe thead th {\n",
       "        text-align: right;\n",
       "    }\n",
       "</style>\n",
       "<table border=\"1\" class=\"dataframe\">\n",
       "  <thead>\n",
       "    <tr style=\"text-align: right;\">\n",
       "      <th></th>\n",
       "      <th>a</th>\n",
       "      <th>b</th>\n",
       "      <th>sigma</th>\n",
       "    </tr>\n",
       "  </thead>\n",
       "  <tbody>\n",
       "    <tr>\n",
       "      <th>0</th>\n",
       "      <td>49.7843</td>\n",
       "      <td>1.44091</td>\n",
       "      <td>5.16726</td>\n",
       "    </tr>\n",
       "    <tr>\n",
       "      <th>1</th>\n",
       "      <td>48.8445</td>\n",
       "      <td>2.18405</td>\n",
       "      <td>4.78302</td>\n",
       "    </tr>\n",
       "    <tr>\n",
       "      <th>2</th>\n",
       "      <td>45.0120</td>\n",
       "      <td>3.64389</td>\n",
       "      <td>2.92754</td>\n",
       "    </tr>\n",
       "    <tr>\n",
       "      <th>3</th>\n",
       "      <td>44.2022</td>\n",
       "      <td>3.92165</td>\n",
       "      <td>2.96364</td>\n",
       "    </tr>\n",
       "    <tr>\n",
       "      <th>4</th>\n",
       "      <td>47.2719</td>\n",
       "      <td>2.58765</td>\n",
       "      <td>3.90654</td>\n",
       "    </tr>\n",
       "    <tr>\n",
       "      <th>...</th>\n",
       "      <td>...</td>\n",
       "      <td>...</td>\n",
       "      <td>...</td>\n",
       "    </tr>\n",
       "    <tr>\n",
       "      <th>3995</th>\n",
       "      <td>48.1138</td>\n",
       "      <td>1.37997</td>\n",
       "      <td>4.88762</td>\n",
       "    </tr>\n",
       "    <tr>\n",
       "      <th>3996</th>\n",
       "      <td>45.5759</td>\n",
       "      <td>2.61831</td>\n",
       "      <td>3.78179</td>\n",
       "    </tr>\n",
       "    <tr>\n",
       "      <th>3997</th>\n",
       "      <td>46.4234</td>\n",
       "      <td>3.73949</td>\n",
       "      <td>4.31466</td>\n",
       "    </tr>\n",
       "    <tr>\n",
       "      <th>3998</th>\n",
       "      <td>45.7316</td>\n",
       "      <td>2.57135</td>\n",
       "      <td>3.43379</td>\n",
       "    </tr>\n",
       "    <tr>\n",
       "      <th>3999</th>\n",
       "      <td>46.1746</td>\n",
       "      <td>3.67914</td>\n",
       "      <td>4.24409</td>\n",
       "    </tr>\n",
       "  </tbody>\n",
       "</table>\n",
       "<p>4000 rows × 3 columns</p>\n",
       "</div>"
      ],
      "text/plain": [
       "            a        b    sigma\n",
       "0     49.7843  1.44091  5.16726\n",
       "1     48.8445  2.18405  4.78302\n",
       "2     45.0120  3.64389  2.92754\n",
       "3     44.2022  3.92165  2.96364\n",
       "4     47.2719  2.58765  3.90654\n",
       "...       ...      ...      ...\n",
       "3995  48.1138  1.37997  4.88762\n",
       "3996  45.5759  2.61831  3.78179\n",
       "3997  46.4234  3.73949  4.31466\n",
       "3998  45.7316  2.57135  3.43379\n",
       "3999  46.1746  3.67914  4.24409\n",
       "\n",
       "[4000 rows x 3 columns]"
      ]
     },
     "execution_count": 4,
     "metadata": {},
     "output_type": "execute_result"
    }
   ],
   "source": [
    "draws = fit.draws_pd()[[\"a\", \"b\", \"sigma\"]]\n",
    "draws"
   ]
  },
  {
   "cell_type": "code",
   "execution_count": 5,
   "metadata": {},
   "outputs": [],
   "source": [
    "mtcars = pd.read_csv(\"../data/mtcars.csv\", index_col=\"model\")\n",
    "target = \"mpg\"\n",
    "features = [c for c in mtcars.columns if c != target]"
   ]
  },
  {
   "cell_type": "code",
   "execution_count": 6,
   "metadata": {},
   "outputs": [],
   "source": [
    "y = mtcars[target].to_numpy()\n",
    "x = mtcars[features].to_numpy()\n",
    "N, K = x.shape\n",
    "data = {\"N\": N, \"K\": K, \"x\": x, \"y\": y}"
   ]
  },
  {
   "cell_type": "code",
   "execution_count": 7,
   "metadata": {},
   "outputs": [],
   "source": [
    "model = CmdStanModel(stan_file=\"lr.stan\")"
   ]
  },
  {
   "cell_type": "code",
   "execution_count": 8,
   "metadata": {},
   "outputs": [
    {
     "name": "stderr",
     "output_type": "stream",
     "text": [
      "20:15:34 - cmdstanpy - INFO - CmdStan start processing\n"
     ]
    },
    {
     "data": {
      "application/vnd.jupyter.widget-view+json": {
       "model_id": "1de4d10ca5cd453185e0c90d259dce97",
       "version_major": 2,
       "version_minor": 0
      },
      "text/plain": [
       "chain 1 |          | 00:00 Status"
      ]
     },
     "metadata": {},
     "output_type": "display_data"
    },
    {
     "data": {
      "application/vnd.jupyter.widget-view+json": {
       "model_id": "be03cf9bd8804df7a7b59e6ce1a43323",
       "version_major": 2,
       "version_minor": 0
      },
      "text/plain": [
       "chain 2 |          | 00:00 Status"
      ]
     },
     "metadata": {},
     "output_type": "display_data"
    },
    {
     "data": {
      "application/vnd.jupyter.widget-view+json": {
       "model_id": "34eedb44bc4e4096835e91ce1cff30cf",
       "version_major": 2,
       "version_minor": 0
      },
      "text/plain": [
       "chain 3 |          | 00:00 Status"
      ]
     },
     "metadata": {},
     "output_type": "display_data"
    },
    {
     "data": {
      "application/vnd.jupyter.widget-view+json": {
       "model_id": "732dac54ebb54668adfed7053742c210",
       "version_major": 2,
       "version_minor": 0
      },
      "text/plain": [
       "chain 4 |          | 00:00 Status"
      ]
     },
     "metadata": {},
     "output_type": "display_data"
    },
    {
     "name": "stdout",
     "output_type": "stream",
     "text": [
      "                                                                                                                                                                                                                                                                                                                                "
     ]
    },
    {
     "name": "stderr",
     "output_type": "stream",
     "text": [
      "20:15:35 - cmdstanpy - INFO - CmdStan done processing.\n"
     ]
    },
    {
     "name": "stdout",
     "output_type": "stream",
     "text": [
      "\n"
     ]
    }
   ],
   "source": [
    "fit = model.sample(data)"
   ]
  },
  {
   "cell_type": "code",
   "execution_count": 152,
   "metadata": {},
   "outputs": [],
   "source": [
    "@dataclass(kw_only=True)\n",
    "class StanLMFit:\n",
    "    target: str\n",
    "    features: Sequence[str]\n",
    "    model: CmdStanModel\n",
    "    stan_mcmc: CmdStanMCMC = field(repr=False)\n",
    "    draws: pd.DataFrame = field(init=False, repr=False)\n",
    "\n",
    "    median: pd.Series = field(init=False, repr=False)\n",
    "    mad_sd: pd.Series = field(init=False, repr=False)\n",
    "    summary: pd.DataFrame = field(init=False)\n",
    "\n",
    "    def __post_init__(self):\n",
    "        stan_mcmc = self.stan_mcmc\n",
    "        features = self.features\n",
    "\n",
    "        stan_draws = stan_mcmc.draws_pd()\n",
    "        draws = pd.DataFrame(\n",
    "            {\n",
    "                \"(Intercept)\": stan_draws[\"alpha\"],\n",
    "                **{\n",
    "                    feature: stan_draws[f\"beta[{i + 1}]\"]\n",
    "                    for i, feature in enumerate(features)\n",
    "                },\n",
    "                \"sigma\": stan_draws[\"sigma\"],\n",
    "            }\n",
    "        )\n",
    "\n",
    "        median = draws.median()\n",
    "        median.name = \"median\"\n",
    "        mad_sd = pd.Series(\n",
    "            stats.median_abs_deviation(draws, axis=0), median.index, name=\"mad_sd\"\n",
    "        )\n",
    "        summary = pd.concat([median, mad_sd], axis=1)\n",
    "\n",
    "        self.draws = draws\n",
    "        self.median = median\n",
    "        self.mad_sd = mad_sd\n",
    "        self.summary = summary\n",
    "\n",
    "    def _repr_html_(self):\n",
    "        summary = self.summary\n",
    "        return summary._repr_html_()  # type: ignore\n",
    "\n",
    "\n",
    "def stan_lm(\n",
    "    data: pd.DataFrame,\n",
    "    *,\n",
    "    features: Sequence[str] | None = None,\n",
    "    target: str,\n",
    "):\n",
    "    y = data[target].to_numpy(dtype=np.float64)\n",
    "    N = len(y)\n",
    "    if features is None:\n",
    "        features = [c for c in data.columns if c != target]\n",
    "    x = data[features].to_numpy(dtype=np.float64)\n",
    "    K = x.shape[1]\n",
    "    if K == 0:\n",
    "        raise Exception(f\"Degeneate data matrix: shape = {x.shape}\")\n",
    "    stan_data = dict(N=N, K=K, x=x, y=y)\n",
    "    model = CmdStanModel(stan_file=\"lr.stan\")\n",
    "    stan_mcmc = model.sample(data=stan_data)\n",
    "    fit = StanLMFit(\n",
    "        target=target,\n",
    "        features=features,\n",
    "        model=model,\n",
    "        stan_mcmc=stan_mcmc,\n",
    "    )\n",
    "    return fit"
   ]
  },
  {
   "cell_type": "code",
   "execution_count": 153,
   "metadata": {},
   "outputs": [],
   "source": [
    "earnings = pd.read_csv(\"../data/earnings.csv\")\n",
    "hw = earnings[[\"height\", \"weight\"]].dropna()\n",
    "hw[\"height\"] = hw[\"height\"] - hw[\"height\"].mean()"
   ]
  },
  {
   "cell_type": "code",
   "execution_count": 154,
   "metadata": {},
   "outputs": [
    {
     "name": "stderr",
     "output_type": "stream",
     "text": [
      "09:23:05 - cmdstanpy - INFO - CmdStan start processing\n"
     ]
    },
    {
     "data": {
      "application/vnd.jupyter.widget-view+json": {
       "model_id": "56c475fc731f484daaedf3598595f164",
       "version_major": 2,
       "version_minor": 0
      },
      "text/plain": [
       "chain 1 |          | 00:00 Status"
      ]
     },
     "metadata": {},
     "output_type": "display_data"
    },
    {
     "data": {
      "application/vnd.jupyter.widget-view+json": {
       "model_id": "12854b6b237d48aa8e5500dc21716c80",
       "version_major": 2,
       "version_minor": 0
      },
      "text/plain": [
       "chain 2 |          | 00:00 Status"
      ]
     },
     "metadata": {},
     "output_type": "display_data"
    },
    {
     "data": {
      "application/vnd.jupyter.widget-view+json": {
       "model_id": "0eacc26e67354ca2a615a6f974b785d5",
       "version_major": 2,
       "version_minor": 0
      },
      "text/plain": [
       "chain 3 |          | 00:00 Status"
      ]
     },
     "metadata": {},
     "output_type": "display_data"
    },
    {
     "data": {
      "application/vnd.jupyter.widget-view+json": {
       "model_id": "2888cf463f024c429924a2fcd7152f91",
       "version_major": 2,
       "version_minor": 0
      },
      "text/plain": [
       "chain 4 |          | 00:00 Status"
      ]
     },
     "metadata": {},
     "output_type": "display_data"
    },
    {
     "name": "stdout",
     "output_type": "stream",
     "text": [
      "                                                                                                                                                                                                                                                                                                                                "
     ]
    },
    {
     "name": "stderr",
     "output_type": "stream",
     "text": [
      "09:23:06 - cmdstanpy - INFO - CmdStan done processing.\n"
     ]
    },
    {
     "name": "stdout",
     "output_type": "stream",
     "text": [
      "\n"
     ]
    },
    {
     "data": {
      "text/html": [
       "<div>\n",
       "<style scoped>\n",
       "    .dataframe tbody tr th:only-of-type {\n",
       "        vertical-align: middle;\n",
       "    }\n",
       "\n",
       "    .dataframe tbody tr th {\n",
       "        vertical-align: top;\n",
       "    }\n",
       "\n",
       "    .dataframe thead th {\n",
       "        text-align: right;\n",
       "    }\n",
       "</style>\n",
       "<table border=\"1\" class=\"dataframe\">\n",
       "  <thead>\n",
       "    <tr style=\"text-align: right;\">\n",
       "      <th></th>\n",
       "      <th>median</th>\n",
       "      <th>mad_sd</th>\n",
       "    </tr>\n",
       "  </thead>\n",
       "  <tbody>\n",
       "    <tr>\n",
       "      <th>(Intercept)</th>\n",
       "      <td>156.31600</td>\n",
       "      <td>0.46300</td>\n",
       "    </tr>\n",
       "    <tr>\n",
       "      <th>height</th>\n",
       "      <td>4.94585</td>\n",
       "      <td>0.12376</td>\n",
       "    </tr>\n",
       "    <tr>\n",
       "      <th>sigma</th>\n",
       "      <td>28.97870</td>\n",
       "      <td>0.33730</td>\n",
       "    </tr>\n",
       "  </tbody>\n",
       "</table>\n",
       "</div>"
      ],
      "text/plain": [
       "StanLMFit(target='weight', features=['height'], model=CmdStanModel: name=lr\n",
       "\t stan_file=/Users/mgreenbe/DATA335W2025/code/lr.stan\n",
       "\t exe_file=/Users/mgreenbe/DATA335W2025/code/lr\n",
       "\t compiler_options=stanc_options={}, cpp_options={}, summary=                median   mad_sd\n",
       "(Intercept)  156.31600  0.46300\n",
       "height         4.94585  0.12376\n",
       "sigma         28.97870  0.33730)"
      ]
     },
     "execution_count": 154,
     "metadata": {},
     "output_type": "execute_result"
    }
   ],
   "source": [
    "stan_fit = stan_lm(hw, target=\"weight\", features=[\"height\"])\n",
    "stan_fit"
   ]
  },
  {
   "cell_type": "code",
   "execution_count": 164,
   "metadata": {},
   "outputs": [
    {
     "data": {
      "text/plain": [
       "CmdStanModel: name=lr\n",
       "\t stan_file=/Users/mgreenbe/DATA335W2025/code/lr.stan\n",
       "\t exe_file=/Users/mgreenbe/DATA335W2025/code/lr\n",
       "\t compiler_options=stanc_options={}, cpp_options={}"
      ]
     },
     "execution_count": 164,
     "metadata": {},
     "output_type": "execute_result"
    }
   ],
   "source": [
    "model = stan_fit.model\n",
    "model"
   ]
  },
  {
   "cell_type": "code",
   "execution_count": 143,
   "metadata": {},
   "outputs": [
    {
     "data": {
      "text/html": [
       "<div>\n",
       "<style scoped>\n",
       "    .dataframe tbody tr th:only-of-type {\n",
       "        vertical-align: middle;\n",
       "    }\n",
       "\n",
       "    .dataframe tbody tr th {\n",
       "        vertical-align: top;\n",
       "    }\n",
       "\n",
       "    .dataframe thead th {\n",
       "        text-align: right;\n",
       "    }\n",
       "</style>\n",
       "<table border=\"1\" class=\"dataframe\">\n",
       "  <thead>\n",
       "    <tr style=\"text-align: right;\">\n",
       "      <th></th>\n",
       "      <th>estimate</th>\n",
       "      <th>standard error</th>\n",
       "      <th>t-statistic</th>\n",
       "      <th>p-value</th>\n",
       "    </tr>\n",
       "    <tr>\n",
       "      <th>estimand</th>\n",
       "      <th></th>\n",
       "      <th></th>\n",
       "      <th></th>\n",
       "      <th></th>\n",
       "    </tr>\n",
       "  </thead>\n",
       "  <tbody>\n",
       "    <tr>\n",
       "      <th>coef(1)</th>\n",
       "      <td>156.305198</td>\n",
       "      <td>0.68451</td>\n",
       "      <td>228.346169</td>\n",
       "      <td>0.0</td>\n",
       "    </tr>\n",
       "    <tr>\n",
       "      <th>coef(height)</th>\n",
       "      <td>4.949380</td>\n",
       "      <td>0.178467</td>\n",
       "      <td>27.732684</td>\n",
       "      <td>0.0</td>\n",
       "    </tr>\n",
       "    <tr>\n",
       "      <th>sigma</th>\n",
       "      <td>28.952420</td>\n",
       "      <td></td>\n",
       "      <td></td>\n",
       "      <td></td>\n",
       "    </tr>\n",
       "  </tbody>\n",
       "</table>\n",
       "</div>"
      ],
      "text/plain": [
       "LMFit(target='weight', features=['1', 'height'], n=1789, df=1787)"
      ]
     },
     "execution_count": 143,
     "metadata": {},
     "output_type": "execute_result"
    }
   ],
   "source": [
    "lm_fit = lm(hw, target=\"weight\", features=[\"height\"])\n",
    "lm_fit"
   ]
  },
  {
   "cell_type": "code",
   "execution_count": 148,
   "metadata": {},
   "outputs": [],
   "source": [
    "@dataclass\n",
    "class BambiLMFit:\n",
    "    formula: str\n",
    "    model: bmb.Model\n",
    "    inference_data: InferenceData = field(repr=False)\n",
    "    draws: pd.DataFrame = field(init=False, repr=False)\n",
    "    summary: pd.DataFrame = field(init=False)\n",
    "\n",
    "    def __post_init__(self):\n",
    "        inference_data = self.inference_data\n",
    "        posterior = inference_data[\"posterior\"]\n",
    "        draws = pd.DataFrame(\n",
    "            dict({k: v.to_numpy().ravel() for k, v in posterior.data_vars.items()})\n",
    "        )\n",
    "\n",
    "        median = draws.median()\n",
    "        median.name = \"median\"\n",
    "        mad_sd = pd.Series(\n",
    "            stats.median_abs_deviation(draws, axis=0), median.index, name=\"mad_sd\"\n",
    "        )\n",
    "        summary = pd.concat([median, mad_sd], axis=1)\n",
    "\n",
    "        self.draws = draws\n",
    "        self.median = median\n",
    "        self.mad_sd = mad_sd\n",
    "        self.summary = summary\n",
    "\n",
    "    def _repr_html_(self):\n",
    "        summary = self.summary\n",
    "        return summary._repr_html_()  # type: ignore\n",
    "\n",
    "\n",
    "def bambi_lm(\n",
    "    formula: str,\n",
    "    data: pd.DataFrame,\n",
    "):\n",
    "    model = bmb.Model(formula, data)\n",
    "    inference_data = model.fit()\n",
    "    bambi_lm_fit = BambiLMFit(\n",
    "        formula=formula, model=model, inference_data=inference_data\n",
    "    )\n",
    "    return bambi_lm_fit"
   ]
  },
  {
   "cell_type": "code",
   "execution_count": 149,
   "metadata": {},
   "outputs": [
    {
     "name": "stderr",
     "output_type": "stream",
     "text": [
      "Initializing NUTS using jitter+adapt_diag...\n",
      "Multiprocess sampling (4 chains in 4 jobs)\n",
      "NUTS: [sigma, Intercept, height]\n"
     ]
    },
    {
     "data": {
      "application/vnd.jupyter.widget-view+json": {
       "model_id": "b44b374aff9c4a92b470ce5c6e0d1a82",
       "version_major": 2,
       "version_minor": 0
      },
      "text/plain": [
       "Output()"
      ]
     },
     "metadata": {},
     "output_type": "display_data"
    },
    {
     "data": {
      "text/html": [
       "<pre style=\"white-space:pre;overflow-x:auto;line-height:normal;font-family:Menlo,'DejaVu Sans Mono',consolas,'Courier New',monospace\"></pre>\n"
      ],
      "text/plain": []
     },
     "metadata": {},
     "output_type": "display_data"
    },
    {
     "name": "stderr",
     "output_type": "stream",
     "text": [
      "Sampling 4 chains for 1_000 tune and 1_000 draw iterations (4_000 + 4_000 draws total) took 1 seconds.\n"
     ]
    },
    {
     "data": {
      "text/html": [
       "<div>\n",
       "<style scoped>\n",
       "    .dataframe tbody tr th:only-of-type {\n",
       "        vertical-align: middle;\n",
       "    }\n",
       "\n",
       "    .dataframe tbody tr th {\n",
       "        vertical-align: top;\n",
       "    }\n",
       "\n",
       "    .dataframe thead th {\n",
       "        text-align: right;\n",
       "    }\n",
       "</style>\n",
       "<table border=\"1\" class=\"dataframe\">\n",
       "  <thead>\n",
       "    <tr style=\"text-align: right;\">\n",
       "      <th></th>\n",
       "      <th>median</th>\n",
       "      <th>mad_sd</th>\n",
       "    </tr>\n",
       "  </thead>\n",
       "  <tbody>\n",
       "    <tr>\n",
       "      <th>sigma</th>\n",
       "      <td>28.959953</td>\n",
       "      <td>0.338997</td>\n",
       "    </tr>\n",
       "    <tr>\n",
       "      <th>Intercept</th>\n",
       "      <td>156.309203</td>\n",
       "      <td>0.452044</td>\n",
       "    </tr>\n",
       "    <tr>\n",
       "      <th>height</th>\n",
       "      <td>4.950102</td>\n",
       "      <td>0.119882</td>\n",
       "    </tr>\n",
       "  </tbody>\n",
       "</table>\n",
       "</div>"
      ],
      "text/plain": [
       "BambiLMFit(formula='weight ~ height', model=       Formula: weight ~ height\n",
       "        Family: gaussian\n",
       "          Link: mu = identity\n",
       "  Observations: 1789\n",
       "        Priors: \n",
       "    target = mu\n",
       "        Common-level effects\n",
       "            Intercept ~ Normal(mu: 156.3052, sigma: 86.5185)\n",
       "            height ~ Normal(mu: 0.0, sigma: 22.5573)\n",
       "        \n",
       "        Auxiliary parameters\n",
       "            sigma ~ HalfStudentT(nu: 4.0, sigma: 34.6074)\n",
       "------\n",
       "* To see a plot of the priors call the .plot_priors() method.\n",
       "* To see a summary or plot of the posterior pass the object returned by .fit() to az.summary() or az.plot_trace(), summary=               median    mad_sd\n",
       "sigma       28.959953  0.338997\n",
       "Intercept  156.309203  0.452044\n",
       "height       4.950102  0.119882)"
      ]
     },
     "execution_count": 149,
     "metadata": {},
     "output_type": "execute_result"
    }
   ],
   "source": [
    "bambi_fit = bambi_lm(\"weight ~ height\", hw)\n",
    "bambi_fit"
   ]
  },
  {
   "cell_type": "code",
   "execution_count": 151,
   "metadata": {},
   "outputs": [
    {
     "name": "stderr",
     "output_type": "stream",
     "text": [
      "Sampling: [Intercept, height, sigma]\n"
     ]
    },
    {
     "data": {
      "text/plain": [
       "array([<Axes: title={'center': 'Intercept'}>,\n",
       "       <Axes: title={'center': 'sigma'}>,\n",
       "       <Axes: title={'center': 'height'}>], dtype=object)"
      ]
     },
     "execution_count": 151,
     "metadata": {},
     "output_type": "execute_result"
    },
    {
     "data": {
      "image/png": "[encoded data removed]",
      "text/plain": [
       "<Figure size 2208x552 with 3 Axes>"
      ]
     },
     "metadata": {},
     "output_type": "display_data"
    }
   ],
   "source": [
    "model = bambi_fit.model\n",
    "model.plot_priors()"
   ]
  },
  {
   "cell_type": "code",
   "execution_count": 147,
   "metadata": {},
   "outputs": [
    {
     "data": {
      "text/html": [
       "<div>\n",
       "<style scoped>\n",
       "    .dataframe tbody tr th:only-of-type {\n",
       "        vertical-align: middle;\n",
       "    }\n",
       "\n",
       "    .dataframe tbody tr th {\n",
       "        vertical-align: top;\n",
       "    }\n",
       "\n",
       "    .dataframe thead th {\n",
       "        text-align: right;\n",
       "    }\n",
       "</style>\n",
       "<table border=\"1\" class=\"dataframe\">\n",
       "  <thead>\n",
       "    <tr style=\"text-align: right;\">\n",
       "      <th></th>\n",
       "      <th>median</th>\n",
       "      <th>mad_sd</th>\n",
       "    </tr>\n",
       "  </thead>\n",
       "  <tbody>\n",
       "    <tr>\n",
       "      <th>(Intercept)</th>\n",
       "      <td>156.2930</td>\n",
       "      <td>0.449500</td>\n",
       "    </tr>\n",
       "    <tr>\n",
       "      <th>height</th>\n",
       "      <td>4.9498</td>\n",
       "      <td>0.117225</td>\n",
       "    </tr>\n",
       "    <tr>\n",
       "      <th>sigma</th>\n",
       "      <td>28.9789</td>\n",
       "      <td>0.318800</td>\n",
       "    </tr>\n",
       "  </tbody>\n",
       "</table>\n",
       "</div>"
      ],
      "text/plain": [
       "StanLMFit(target='weight', features=['height'], summary=               median    mad_sd\n",
       "(Intercept)  156.2930  0.449500\n",
       "height         4.9498  0.117225\n",
       "sigma         28.9789  0.318800)"
      ]
     },
     "execution_count": 147,
     "metadata": {},
     "output_type": "execute_result"
    }
   ],
   "source": [
    "stan_fit"
   ]
  },
  {
   "cell_type": "code",
   "execution_count": null,
   "metadata": {},
   "outputs": [],
   "source": []
  }
 ],
 "metadata": {
  "kernelspec": {
   "display_name": ".venv",
   "language": "python",
   "name": "python3"
  },
  "language_info": {
   "codemirror_mode": {
    "name": "ipython",
    "version": 3
   },
   "file_extension": ".py",
   "mimetype": "text/x-python",
   "name": "python",
   "nbconvert_exporter": "python",
   "pygments_lexer": "ipython3",
   "version": "3.12.7"
  }
 },
 "nbformat": 4,
 "nbformat_minor": 2
}
