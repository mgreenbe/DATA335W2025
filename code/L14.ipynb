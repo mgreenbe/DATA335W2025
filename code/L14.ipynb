{
 "cells": [
  {
   "cell_type": "markdown",
   "metadata": {},
   "source": [
    "## Lecture 14 &mdash; 2025.02.12 &mdash; Demos"
   ]
  },
  {
   "cell_type": "code",
   "execution_count": 1,
   "metadata": {},
   "outputs": [],
   "source": [
    "import numpy as np\n",
    "import pandas as pd\n",
    "from sklearn.linear_model import LinearRegression\n",
    "from sklearn.metrics import mean_squared_error\n",
    "from sklearn.model_selection import train_test_split\n",
    "from matplotlib import pyplot as plt"
   ]
  },
  {
   "cell_type": "markdown",
   "metadata": {},
   "source": [
    "#### Comparison of training and predictive error"
   ]
  },
  {
   "cell_type": "code",
   "execution_count": 2,
   "metadata": {},
   "outputs": [],
   "source": [
    "def make_data_maker(p=1, sigma=1.0, random_state=42):\n",
    "    rng = np.random.default_rng(random_state)\n",
    "    beta = rng.uniform(size=p)\n",
    "\n",
    "    def make_data(n):  # sample from p\n",
    "        X = rng.uniform(size=(n, p))\n",
    "        y = X @ beta + sigma * rng.normal(size=n)\n",
    "        return X, y\n",
    "\n",
    "    return make_data, beta"
   ]
  },
  {
   "cell_type": "code",
   "execution_count": 3,
   "metadata": {},
   "outputs": [],
   "source": [
    "p = 3\n",
    "sigma = 2\n",
    "make_data, beta = make_data_maker(p=p, sigma=sigma)"
   ]
  },
  {
   "cell_type": "markdown",
   "metadata": {},
   "source": [
    "A really bit test set should give a precise estimate of prediction error."
   ]
  },
  {
   "cell_type": "code",
   "execution_count": 4,
   "metadata": {},
   "outputs": [
    {
     "name": "stdout",
     "output_type": "stream",
     "text": [
      "(1000000, 3) (1000000,)\n"
     ]
    }
   ],
   "source": [
    "X_test, y_test = make_data(1_000_000)\n",
    "print(X_test.shape, y_test.shape)"
   ]
  },
  {
   "cell_type": "code",
   "execution_count": 5,
   "metadata": {},
   "outputs": [
    {
     "data": {
      "image/png": "[encoded data removed]",
      "text/plain": [
       "<Figure size 640x480 with 1 Axes>"
      ]
     },
     "metadata": {},
     "output_type": "display_data"
    }
   ],
   "source": [
    "r = 50\n",
    "ns = np.arange(10, 200, 10)\n",
    "\n",
    "train_errs = np.zeros((r, len(ns)))\n",
    "test_errs = np.zeros((r, len(ns)))\n",
    "\n",
    "for i in range(r):\n",
    "    for j, n in enumerate(ns):\n",
    "        X_train, y_train = make_data(n)\n",
    "        model = LinearRegression()\n",
    "        model.fit(X_train, y_train)\n",
    "        train_errs[i, j] = mean_squared_error(y_train, model.predict(X_train))\n",
    "        test_errs[i, j] = mean_squared_error(y_test, model.predict(X_test))\n",
    "\n",
    "plt.plot(ns, train_errs.mean(axis=0), lw=3, label=\"train\")\n",
    "plt.plot(ns, test_errs.mean(axis=0), lw=3, label=\"test\")\n",
    "plt.plot(plt.xlim(), [sigma**2, sigma**2], \"k--\")\n",
    "plt.xlabel(\"training set size\")\n",
    "plt.ylabel(\"error\")\n",
    "plt.yticks([sigma**2], [\"$\\\\sigma^2$\"])\n",
    "plt.legend()\n",
    "plt.show()"
   ]
  },
  {
   "cell_type": "markdown",
   "metadata": {},
   "source": [
    "#### Data splitting to estimate predictive error"
   ]
  },
  {
   "cell_type": "code",
   "execution_count": 6,
   "metadata": {},
   "outputs": [
    {
     "data": {
      "text/html": [
       "<div>\n",
       "<style scoped>\n",
       "    .dataframe tbody tr th:only-of-type {\n",
       "        vertical-align: middle;\n",
       "    }\n",
       "\n",
       "    .dataframe tbody tr th {\n",
       "        vertical-align: top;\n",
       "    }\n",
       "\n",
       "    .dataframe thead th {\n",
       "        text-align: right;\n",
       "    }\n",
       "</style>\n",
       "<table border=\"1\" class=\"dataframe\">\n",
       "  <thead>\n",
       "    <tr style=\"text-align: right;\">\n",
       "      <th></th>\n",
       "      <th>mpg</th>\n",
       "      <th>cylinders</th>\n",
       "      <th>displacement</th>\n",
       "      <th>horsepower</th>\n",
       "      <th>weight</th>\n",
       "      <th>acceleration</th>\n",
       "      <th>year</th>\n",
       "      <th>european</th>\n",
       "      <th>japanese</th>\n",
       "    </tr>\n",
       "  </thead>\n",
       "  <tbody>\n",
       "    <tr>\n",
       "      <th>0</th>\n",
       "      <td>18.0</td>\n",
       "      <td>8</td>\n",
       "      <td>307.0</td>\n",
       "      <td>130.0</td>\n",
       "      <td>3504</td>\n",
       "      <td>12.0</td>\n",
       "      <td>70</td>\n",
       "      <td>False</td>\n",
       "      <td>False</td>\n",
       "    </tr>\n",
       "    <tr>\n",
       "      <th>1</th>\n",
       "      <td>15.0</td>\n",
       "      <td>8</td>\n",
       "      <td>350.0</td>\n",
       "      <td>165.0</td>\n",
       "      <td>3693</td>\n",
       "      <td>11.5</td>\n",
       "      <td>70</td>\n",
       "      <td>False</td>\n",
       "      <td>False</td>\n",
       "    </tr>\n",
       "    <tr>\n",
       "      <th>2</th>\n",
       "      <td>18.0</td>\n",
       "      <td>8</td>\n",
       "      <td>318.0</td>\n",
       "      <td>150.0</td>\n",
       "      <td>3436</td>\n",
       "      <td>11.0</td>\n",
       "      <td>70</td>\n",
       "      <td>False</td>\n",
       "      <td>False</td>\n",
       "    </tr>\n",
       "    <tr>\n",
       "      <th>3</th>\n",
       "      <td>16.0</td>\n",
       "      <td>8</td>\n",
       "      <td>304.0</td>\n",
       "      <td>150.0</td>\n",
       "      <td>3433</td>\n",
       "      <td>12.0</td>\n",
       "      <td>70</td>\n",
       "      <td>False</td>\n",
       "      <td>False</td>\n",
       "    </tr>\n",
       "    <tr>\n",
       "      <th>4</th>\n",
       "      <td>17.0</td>\n",
       "      <td>8</td>\n",
       "      <td>302.0</td>\n",
       "      <td>140.0</td>\n",
       "      <td>3449</td>\n",
       "      <td>10.5</td>\n",
       "      <td>70</td>\n",
       "      <td>False</td>\n",
       "      <td>False</td>\n",
       "    </tr>\n",
       "    <tr>\n",
       "      <th>...</th>\n",
       "      <td>...</td>\n",
       "      <td>...</td>\n",
       "      <td>...</td>\n",
       "      <td>...</td>\n",
       "      <td>...</td>\n",
       "      <td>...</td>\n",
       "      <td>...</td>\n",
       "      <td>...</td>\n",
       "      <td>...</td>\n",
       "    </tr>\n",
       "    <tr>\n",
       "      <th>392</th>\n",
       "      <td>27.0</td>\n",
       "      <td>4</td>\n",
       "      <td>140.0</td>\n",
       "      <td>86.0</td>\n",
       "      <td>2790</td>\n",
       "      <td>15.6</td>\n",
       "      <td>82</td>\n",
       "      <td>False</td>\n",
       "      <td>False</td>\n",
       "    </tr>\n",
       "    <tr>\n",
       "      <th>393</th>\n",
       "      <td>44.0</td>\n",
       "      <td>4</td>\n",
       "      <td>97.0</td>\n",
       "      <td>52.0</td>\n",
       "      <td>2130</td>\n",
       "      <td>24.6</td>\n",
       "      <td>82</td>\n",
       "      <td>True</td>\n",
       "      <td>False</td>\n",
       "    </tr>\n",
       "    <tr>\n",
       "      <th>394</th>\n",
       "      <td>32.0</td>\n",
       "      <td>4</td>\n",
       "      <td>135.0</td>\n",
       "      <td>84.0</td>\n",
       "      <td>2295</td>\n",
       "      <td>11.6</td>\n",
       "      <td>82</td>\n",
       "      <td>False</td>\n",
       "      <td>False</td>\n",
       "    </tr>\n",
       "    <tr>\n",
       "      <th>395</th>\n",
       "      <td>28.0</td>\n",
       "      <td>4</td>\n",
       "      <td>120.0</td>\n",
       "      <td>79.0</td>\n",
       "      <td>2625</td>\n",
       "      <td>18.6</td>\n",
       "      <td>82</td>\n",
       "      <td>False</td>\n",
       "      <td>False</td>\n",
       "    </tr>\n",
       "    <tr>\n",
       "      <th>396</th>\n",
       "      <td>31.0</td>\n",
       "      <td>4</td>\n",
       "      <td>119.0</td>\n",
       "      <td>82.0</td>\n",
       "      <td>2720</td>\n",
       "      <td>19.4</td>\n",
       "      <td>82</td>\n",
       "      <td>False</td>\n",
       "      <td>False</td>\n",
       "    </tr>\n",
       "  </tbody>\n",
       "</table>\n",
       "<p>392 rows × 9 columns</p>\n",
       "</div>"
      ],
      "text/plain": [
       "      mpg  cylinders  displacement  horsepower  weight  acceleration  year  \\\n",
       "0    18.0          8         307.0       130.0    3504          12.0    70   \n",
       "1    15.0          8         350.0       165.0    3693          11.5    70   \n",
       "2    18.0          8         318.0       150.0    3436          11.0    70   \n",
       "3    16.0          8         304.0       150.0    3433          12.0    70   \n",
       "4    17.0          8         302.0       140.0    3449          10.5    70   \n",
       "..    ...        ...           ...         ...     ...           ...   ...   \n",
       "392  27.0          4         140.0        86.0    2790          15.6    82   \n",
       "393  44.0          4          97.0        52.0    2130          24.6    82   \n",
       "394  32.0          4         135.0        84.0    2295          11.6    82   \n",
       "395  28.0          4         120.0        79.0    2625          18.6    82   \n",
       "396  31.0          4         119.0        82.0    2720          19.4    82   \n",
       "\n",
       "     european  japanese  \n",
       "0       False     False  \n",
       "1       False     False  \n",
       "2       False     False  \n",
       "3       False     False  \n",
       "4       False     False  \n",
       "..        ...       ...  \n",
       "392     False     False  \n",
       "393      True     False  \n",
       "394     False     False  \n",
       "395     False     False  \n",
       "396     False     False  \n",
       "\n",
       "[392 rows x 9 columns]"
      ]
     },
     "execution_count": 6,
     "metadata": {},
     "output_type": "execute_result"
    }
   ],
   "source": [
    "auto = (\n",
    "    pd.read_csv(\"../data/auto.csv\", na_values=[\"?\"], dtype={\"origin\": \"category\"})\n",
    "    .drop(columns=[\"name\"])\n",
    "    .dropna()\n",
    ")\n",
    "\n",
    "origin = auto.pop(\"origin\")\n",
    "auto[\"european\"] = origin == \"2\"\n",
    "auto[\"japanese\"] = origin == \"3\"\n",
    "auto"
   ]
  },
  {
   "cell_type": "code",
   "execution_count": 7,
   "metadata": {},
   "outputs": [],
   "source": [
    "X = auto.copy()\n",
    "y = X.pop(\"mpg\")"
   ]
  },
  {
   "cell_type": "code",
   "execution_count": 10,
   "metadata": {},
   "outputs": [],
   "source": [
    "r = 1000\n",
    "test_size = 0.5\n",
    "\n",
    "train_errs = np.zeros(r)\n",
    "test_errs = np.zeros(r)\n",
    "\n",
    "model = LinearRegression()\n",
    "\n",
    "for i in range(r):\n",
    "    X_train, X_test, y_train, y_test = train_test_split(X, y, test_size=test_size)\n",
    "    model.fit(X_train, y_train)\n",
    "    train_errs[i] = mean_squared_error(y_train, model.predict(X_train))\n",
    "    test_errs[i] = mean_squared_error(y_test, model.predict(X_test))"
   ]
  },
  {
   "cell_type": "code",
   "execution_count": 11,
   "metadata": {},
   "outputs": [
    {
     "data": {
      "image/png": "[encoded data removed]",
      "text/plain": [
       "<Figure size 640x480 with 1 Axes>"
      ]
     },
     "metadata": {},
     "output_type": "display_data"
    }
   ],
   "source": [
    "m = np.min([*train_errs, *test_errs])\n",
    "M = np.max([*train_errs, *test_errs])\n",
    "bins = np.linspace(m, M, 20)\n",
    "plt.hist(train_errs, bins=bins, alpha=0.5, label=\"train error\")\n",
    "plt.hist(test_errs, bins=bins, alpha=0.5, label=\"test error\")\n",
    "ylim = plt.ylim()\n",
    "plt.plot(\n",
    "    [train_errs.mean(), train_errs.mean()],\n",
    "    ylim,\n",
    "    color=\"C0\",\n",
    "    label=f\"error = {train_errs.mean():.1f}\",\n",
    ")\n",
    "plt.plot(\n",
    "    [test_errs.mean(), test_errs.mean()],\n",
    "    ylim,\n",
    "    color=\"C1\",\n",
    "    label=f\"error = {test_errs.mean():.1f}\",\n",
    ")\n",
    "plt.yticks([])\n",
    "plt.xlabel(\"error\")\n",
    "plt.legend()\n",
    "plt.show()"
   ]
  },
  {
   "cell_type": "code",
   "execution_count": 22,
   "metadata": {},
   "outputs": [],
   "source": [
    "r = 1000\n",
    "test_sizes = np.arange(1, 10) / 10\n",
    "\n",
    "train_errs = np.zeros((len(test_sizes), r))\n",
    "test_errs = np.zeros((len(test_sizes), r))\n",
    "\n",
    "model = LinearRegression()\n",
    "\n",
    "for i, test_size in enumerate(test_sizes):\n",
    "    for j in range(r):\n",
    "        X_train, X_test, y_train, y_test = train_test_split(X, y, test_size=test_size)\n",
    "        model.fit(X_train, y_train)\n",
    "        train_errs[i] = mean_squared_error(y_train, model.predict(X_train))\n",
    "        test_errs[i] = mean_squared_error(y_test, model.predict(X_test))"
   ]
  },
  {
   "cell_type": "code",
   "execution_count": 21,
   "metadata": {},
   "outputs": [
    {
     "data": {
      "image/png": "[encoded data removed]",
      "text/plain": [
       "<Figure size 640x480 with 1 Axes>"
      ]
     },
     "metadata": {},
     "output_type": "display_data"
    }
   ],
   "source": [
    "m = np.min([*train_errs, *test_errs])\n",
    "M = np.max([*train_errs, *test_errs])\n",
    "bins = np.linspace(m, M, 20)\n",
    "plt.hist(train_errs, bins=bins, alpha=0.5, label=\"train error\")\n",
    "plt.hist(test_errs, bins=bins, alpha=0.5, label=\"test error\")\n",
    "ylim = plt.ylim()\n",
    "plt.plot(\n",
    "    [train_errs.mean(), train_errs.mean()],\n",
    "    ylim,\n",
    "    color=\"C0\",\n",
    "    label=f\"error = {train_errs.mean():.1f}\",\n",
    ")\n",
    "plt.plot(\n",
    "    [test_errs.mean(), test_errs.mean()],\n",
    "    ylim,\n",
    "    color=\"C1\",\n",
    "    label=f\"error = {test_errs.mean():.1f}\",\n",
    ")\n",
    "plt.yticks([])\n",
    "plt.xlabel(\"error\")\n",
    "plt.legend()\n",
    "plt.show()"
   ]
  },
  {
   "cell_type": "code",
   "execution_count": 23,
   "metadata": {},
   "outputs": [
    {
     "data": {
      "text/plain": [
       "array([0.1, 0.2, 0.3, 0.4, 0.5, 0.6, 0.7, 0.8, 0.9])"
      ]
     },
     "execution_count": 23,
     "metadata": {},
     "output_type": "execute_result"
    }
   ],
   "source": [
    "test_sizes"
   ]
  },
  {
   "cell_type": "code",
   "execution_count": null,
   "metadata": {},
   "outputs": [],
   "source": []
  }
 ],
 "metadata": {
  "kernelspec": {
   "display_name": ".venv",
   "language": "python",
   "name": "python3"
  },
  "language_info": {
   "codemirror_mode": {
    "name": "ipython",
    "version": 3
   },
   "file_extension": ".py",
   "mimetype": "text/x-python",
   "name": "python",
   "nbconvert_exporter": "python",
   "pygments_lexer": "ipython3",
   "version": "3.12.7"
  }
 },
 "nbformat": 4,
 "nbformat_minor": 2
}
