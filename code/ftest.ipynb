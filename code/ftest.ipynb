{
 "cells": [
  {
   "cell_type": "markdown",
   "metadata": {},
   "source": [
    "Let $x$ and $X$ be design matrices with $C(x)\\subset C(X)$.\n",
    "\n",
    "Let $h$ and $H$ be the corresponding hat matrices:\n",
    "$$\n",
    "h = x(x^Tx)^{-1}x^T,\\qquad H = X(X^TX)^{-1}X^T\n",
    "$$\n",
    "\n",
    "Since $h$ projects onto $C(x)$, $H$ projects onto $C(X)$, and $C(x)\\subset C(X)$,\n",
    "$$\n",
    "hH = hH = h.\n",
    "$$\n",
    "\n",
    "Since $I - H$ projects on $C(X)^\\perp$, $I-h$ projects onto $C(x)^\\perp$, and $C(X)^\\perp \\subset C(x)^\\perp$,\n",
    "$$\n",
    "(I-H)(I-h)=I-H.\n",
    "$$\n",
    "\n",
    "Residuals:\n",
    "$$\n",
    "e = y - hy = (I-h)y,\\qquad E = y-Hy=(I-H)y\n",
    "$$\n",
    "\n",
    "$$\n",
    "(I - h)(I - H) = I - h - H + hH = I - H\n",
    "$$\n",
    "\n",
    "Sums of squares:\n",
    "$$\n",
    "e^Te = y^T(I - h)^T(I - h)y,\\qquad E^TE = y^T(I - H)^T(I - H)y\n",
    "$$\n",
    "\n",
    "$$\n",
    "\\hat{\\sigma} = \\frac{e^Te}{\\operatorname{rank}h}\n",
    "$$\n",
    "\n",
    "$$\n",
    "\\frac{e^Te}\\sigma^2\\sim \\chi^2(n - p),\\qquad p = \\operatorname{rank}x\n",
    "$$"
   ]
  },
  {
   "cell_type": "markdown",
   "metadata": {},
   "source": [
    "$$\n",
    "he = x\\hat\\beta - x\\beta\n",
    "$$\n",
    "\n",
    "$$\n",
    "(1 - h)e = e - he = (y - x\\beta) - (x\\hat\\beta - x\\beta) = y - x\\hat\\beta = y - hy =r\n",
    "$$\n",
    "\n",
    "$$\n",
    "\\|r\\|^2 = \\|(1 - h)e\\|^2\n",
    "$$"
   ]
  },
  {
   "cell_type": "code",
   "execution_count": null,
   "metadata": {
    "vscode": {
     "languageId": "plaintext"
    }
   },
   "outputs": [],
   "source": []
  }
 ],
 "metadata": {
  "language_info": {
   "name": "python"
  }
 },
 "nbformat": 4,
 "nbformat_minor": 2
}
