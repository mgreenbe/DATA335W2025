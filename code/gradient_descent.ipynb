{
 "cells": [
  {
   "cell_type": "markdown",
   "metadata": {},
   "source": [
    "## How models get fit\n",
    "\n",
    "##### 2025.04.07-2025.04.11"
   ]
  },
  {
   "cell_type": "markdown",
   "metadata": {},
   "source": [
    "### Least (mean) squares\n",
    "\n",
    "Given a matrix $X\\in\\mathbb{R}^{n\\times p}$ and a vector $y\\in\\mathbb{R}^n$,\n",
    "find the vector $\\beta\\in\\mathbb{R}^p$ that minimizes\n",
    "$$\n",
    "\\operatorname{MSE}=\\text{mean squared error}=\\frac1n\\|y - X\\beta\\|^2.\n",
    "$$\n",
    "\n",
    "If $X$ has rank $p$ (a linear algebraic nondegeneracy condition when $p\\leq n$), then this optimization problem has an unique solution. Moreover, this solution has a closed-form solution:\n",
    "$$\n",
    "\\beta = (X^TX)^{-1}X^Ty\n",
    "$$\n"
   ]
  },
  {
   "cell_type": "code",
   "execution_count": 550,
   "metadata": {},
   "outputs": [
    {
     "name": "stdout",
     "output_type": "stream",
     "text": [
      "n = 442, p = 10\n"
     ]
    },
    {
     "data": {
      "text/plain": [
       "array([ -10.0098663 , -239.81564367,  519.84592005,  324.3846455 ,\n",
       "       -792.17563855,  476.73902101,  101.04326794,  177.06323767,\n",
       "        751.27369956,   67.62669218])"
      ]
     },
     "execution_count": 550,
     "metadata": {},
     "output_type": "execute_result"
    }
   ],
   "source": [
    "import numpy as np\n",
    "from sklearn.datasets import load_diabetes\n",
    "\n",
    "X, y = load_diabetes(return_X_y=True)\n",
    "size, p = X.shape\n",
    "print(f\"n = {size}, p = {p}\")\n",
    "assert len(y) == size\n",
    "\n",
    "beta = np.linalg.inv(X.T @ X) @ X.T @ y\n",
    "beta"
   ]
  },
  {
   "cell_type": "markdown",
   "metadata": {},
   "source": [
    "Let's check that our $\\beta$ agrees with Scikit Learn's:"
   ]
  },
  {
   "cell_type": "code",
   "execution_count": 551,
   "metadata": {},
   "outputs": [],
   "source": [
    "from sklearn.linear_model import LinearRegression\n",
    "\n",
    "model = LinearRegression(fit_intercept=False)\n",
    "model.fit(X, y)  # type: ignore\n",
    "assert np.allclose(beta, model.coef_)"
   ]
  },
  {
   "cell_type": "markdown",
   "metadata": {},
   "source": [
    "A simple closed form expression for the $\\beta$ is unique to linear regression.\n",
    "\n",
    "There is no such for logistic, Poisson, or negative binomial regression. Nor for random effects models beyond the simplest variants.\n",
    "\n",
    "We rely on iterative algorithms that produce convengent sequences of approximations.\n",
    "\n",
    "The simplest algorithm for minimizing a function is gradient descent."
   ]
  },
  {
   "cell_type": "markdown",
   "metadata": {},
   "source": [
    "### Gradients (derivatives)\n",
    "\n",
    "- We're given a real-valued function $f$ on vectors $\\beta\\in\\mathbb{R}^p$ that we want to minimize it.\n",
    "\n",
    "- Calculus furnishes us with a distinguished function $\\nabla f$ with values in $\\mathbb{R}^p$ called the ***gradient of $f$***.\n",
    "\n",
    "- $\\nabla f(\\beta)$ has the ***descent property***: If $\\nabla f(\\beta)\\neq 0$, then \n",
    "  $$\n",
    "  f\\big(\\beta - h\\nabla f(\\beta)\\big) < f(\\beta)\n",
    "  $$\n",
    "  for sufficiently small, positive $h$."
   ]
  },
  {
   "cell_type": "markdown",
   "metadata": {},
   "source": [
    "### The gradient descent algorithm\n",
    "\n",
    "##### Input\n",
    "- $f$, the function we want to minimize\n",
    "- $h$, a step size\n",
    "- $\\beta$, randomly initialized vector\n",
    "\n",
    "##### Output\n",
    "- Hopefully, an approximate minimizer $\\beta'$ of $f$:\n",
    "$$\n",
    "f(\\beta')\\approx \\min_\\beta f(\\beta)\n",
    "$$\n",
    "\n",
    "##### Algorithm\n",
    "1. Set $\\beta'=\\beta - h\\nabla f(\\beta)$.\n",
    "\n",
    "2. If $f(\\beta')\\approx f(\\beta)$, return $\\beta'$. Otherwise, return to 1."
   ]
  },
  {
   "cell_type": "markdown",
   "metadata": {},
   "source": [
    "### JAX: NumPy + gradients"
   ]
  },
  {
   "cell_type": "code",
   "execution_count": 552,
   "metadata": {},
   "outputs": [],
   "source": [
    "import jax.numpy as jnp\n",
    "from jax import grad, value_and_grad\n",
    "\n",
    "X, y = load_diabetes(return_X_y=True)\n",
    "size, p = X.shape\n",
    "\n",
    "\n",
    "def mse(beta):\n",
    "    return jnp.mean((y - X @ beta) ** 2)"
   ]
  },
  {
   "cell_type": "code",
   "execution_count": 553,
   "metadata": {},
   "outputs": [
    {
     "name": "stdout",
     "output_type": "stream",
     "text": [
      "mse(beta) = 29065.8125\n",
      "grad(mse)(beta) = [-1.3722459  -0.31320122 -4.2902155  -3.227192   -1.5454077  -1.2685142\n",
      "  2.8900678  -3.1469736  -4.1378827  -2.7954698 ]\n",
      "\n",
      "v = 29065.8125\n",
      "g = [-1.3722459  -0.31320122 -4.2902155  -3.227192   -1.5454077  -1.2685142\n",
      "  2.8900678  -3.1469736  -4.1378827  -2.7954698 ]\n"
     ]
    }
   ],
   "source": [
    "beta = jnp.array(np.random.uniform(size=p))\n",
    "print(f\"mse(beta) = {mse(beta)}\")\n",
    "print(f\"grad(mse)(beta) = {grad(mse)(beta)}\")\n",
    "\n",
    "v, g = value_and_grad(mse)(beta)\n",
    "print(f\"\\nv = {v}\")\n",
    "print(f\"g = {g}\")"
   ]
  },
  {
   "cell_type": "code",
   "execution_count": 554,
   "metadata": {},
   "outputs": [
    {
     "name": "stdout",
     "output_type": "stream",
     "text": [
      "i = 0: mse(beta) = 29066.29296875\n",
      "i = 500: mse(beta) = 26004.755859375\n",
      "i = 1000: mse(beta) = 26004.3046875\n",
      "i = 1500: mse(beta) = 26004.294921875\n",
      "i = 2000: mse(beta) = 26004.296875\n",
      "i = 2500: mse(beta) = 26004.29296875\n",
      "\n",
      "beta = [ -10.009933 -239.8156    519.846     324.38474  -792.1676    476.73227\n",
      "  101.04023   177.06308   751.2704     67.626884]\n"
     ]
    }
   ],
   "source": [
    "h = 100.0\n",
    "max_iter = 3000\n",
    "beta = jnp.array(np.random.uniform(size=p))\n",
    "for i in range(max_iter):\n",
    "    v, g = value_and_grad(mse)(beta)\n",
    "    if i % 500 == 0:\n",
    "        print(f\"i = {i}: mse(beta) = {v}\")\n",
    "    beta -= h * g\n",
    "print(f\"\\nbeta = {beta}\")"
   ]
  },
  {
   "cell_type": "markdown",
   "metadata": {},
   "source": [
    "Scikit Learn model coefficients (copied and pasted from above):\n",
    "```text\n",
    "array([ -10.0098663 , -239.81564367,  519.84592005,  324.3846455 ,\n",
    "       -792.17563855,  476.73902101,  101.04326794,  177.06323767,\n",
    "        751.27369956,   67.62669218])\n",
    "```"
   ]
  },
  {
   "cell_type": "markdown",
   "metadata": {},
   "source": [
    "### Logistic regression\n",
    "\n",
    "- Instead of minimizing MSE, we minimize ***log-loss***:\n",
    "$$\n",
    "L(\\beta) = \\frac1n\\left(\\sum_{i<n}\\big(-y_i\\log p_i - (1 - y_i)\\log(1 - p_i)\\big)\\right),\n",
    "\\qquad p_i = \\frac1{1 + e^{-X\\beta}}\n",
    "$$\n",
    "\n",
    "Using the identities,\n",
    "$$\n",
    "\\log p_i = -\\log(1 + e^{-X\\beta})\\qquad\\text{and}\\qquad \\log(1 - p_i) = -\\log(1 + e^{X\\beta})\n",
    "$$\n",
    "we get\n",
    "$$\n",
    "L(\\beta) = \\frac1n\\left(\\sum_{i<n}\\big(y_i\\log (1 + e^{-X\\beta}) + (1 - y_i)\\log(1 + e^{X\\beta})\\big)\\right).\n",
    "$$\n",
    "\n",
    "##### Remark\n",
    "\n",
    "The function $f(x)=-\\log(1 + e^{-x})$ is called the ***log-sigmoid function***."
   ]
  },
  {
   "cell_type": "code",
   "execution_count": 556,
   "metadata": {},
   "outputs": [
    {
     "name": "stdout",
     "output_type": "stream",
     "text": [
      "model.coef_.round(2) = [-0.68 -0.46  0.4   0.25 -1.3   0.76 -0.43 -1.29  1.65  0.78]\n",
      "\n",
      "loss = 0.3745998184276785\n"
     ]
    }
   ],
   "source": [
    "from sklearn.linear_model import LogisticRegression\n",
    "from sklearn.metrics import log_loss\n",
    "\n",
    "size = 200\n",
    "p = 10\n",
    "rng = np.random.default_rng(42)\n",
    "X = rng.normal(size=(size, p))\n",
    "beta_true = rng.normal(size=p)\n",
    "probs = 1 / (1 + np.exp(-X @ beta_true))\n",
    "y = (rng.random(size=size) < probs).astype(int)\n",
    "\n",
    "\n",
    "model = LogisticRegression(C=np.inf, max_iter=1000, fit_intercept=False)\n",
    "model.fit(X, y)  # type: ignore\n",
    "loss = log_loss(y, model.predict_proba(X)[:, 1])\n",
    "print(f\"model.coef_.round(2) = {model.coef_.squeeze().round(2)}\")\n",
    "print(f\"\\nloss = {loss}\")"
   ]
  },
  {
   "cell_type": "code",
   "execution_count": 557,
   "metadata": {},
   "outputs": [
    {
     "name": "stdout",
     "output_type": "stream",
     "text": [
      "i = 0: my_log_loss(beta) = 1.0123999118804932\n",
      "i = 10: my_log_loss(beta) = 0.37464815378189087\n",
      "i = 20: my_log_loss(beta) = 0.3745999038219452\n",
      "i = 30: my_log_loss(beta) = 0.37459975481033325\n",
      "i = 40: my_log_loss(beta) = 0.37459975481033325\n",
      "\n",
      "beta.round(2) = [-0.68 -0.46  0.4   0.25 -1.3   0.76 -0.43 -1.29  1.65  0.78]\n"
     ]
    }
   ],
   "source": [
    "def my_log_loss(beta):\n",
    "    return jnp.mean(y * jnp.log(1 + jnp.exp(-X @ beta)) + (1 - y) * jnp.log(1 + jnp.exp(X @ beta)))  # type: ignore\n",
    "\n",
    "\n",
    "h = 10\n",
    "max_iter = 50\n",
    "beta = jnp.array(np.random.normal(size=p))  # type: ignore\n",
    "for i in range(max_iter):\n",
    "    v, g = value_and_grad(my_log_loss)(beta)\n",
    "    if i % 10 == 0:\n",
    "        print(f\"i = {i}: my_log_loss(beta) = {v}\")\n",
    "    beta -= h * g\n",
    "print(f\"\\nbeta.round(2) = {np.array(beta).round(2)}\")"
   ]
  },
  {
   "cell_type": "markdown",
   "metadata": {},
   "source": [
    "The log-sigmoid function is built into JAX. We can use it."
   ]
  },
  {
   "cell_type": "code",
   "execution_count": 558,
   "metadata": {},
   "outputs": [
    {
     "name": "stdout",
     "output_type": "stream",
     "text": [
      "i = 0: my_log_loss(beta) = 1.6029266119003296\n",
      "i = 10: my_log_loss(beta) = 0.37462809681892395\n",
      "i = 20: my_log_loss(beta) = 0.37459999322891235\n",
      "i = 30: my_log_loss(beta) = 0.37459975481033325\n",
      "i = 40: my_log_loss(beta) = 0.37459975481033325\n",
      "\n",
      "beta.round(2) = [-0.68 -0.46  0.4   0.25 -1.3   0.76 -0.43 -1.29  1.65  0.78]\n"
     ]
    }
   ],
   "source": [
    "from jax.nn import log_sigmoid\n",
    "\n",
    "\n",
    "def my_log_loss(beta):\n",
    "    return -jnp.mean(y * log_sigmoid(X @ beta) + (1 - y) * log_sigmoid(-X @ beta))\n",
    "\n",
    "\n",
    "h = 10\n",
    "max_iter = 50\n",
    "beta = jnp.array(np.random.normal(size=p))  # type: ignore\n",
    "for i in range(max_iter):\n",
    "    v, g = value_and_grad(my_log_loss)(beta)\n",
    "    if i % 10 == 0:\n",
    "        print(f\"i = {i}: my_log_loss(beta) = {v}\")\n",
    "    beta -= h * g\n",
    "print(f\"\\nbeta.round(2) = {np.array(beta).round(2)}\")"
   ]
  },
  {
   "cell_type": "markdown",
   "metadata": {
    "tags": [
     "parameters"
    ]
   },
   "source": [
    "### Softmax regression\n",
    "\n",
    "$$\n",
    "\\frac{p(v_j\\mid \\beta)}{p(v_0\\mid \\beta)} = e^{X\\beta_j},\\qquad 0 < j < n\\tag{$\\dag$}\n",
    "$$\n",
    "\n",
    "Solving\n",
    "$$\n",
    "\\frac1{p(v_0\\mid\\beta)} =\\sum_k \\frac{p(v_k\\mid \\beta)}{p(v_0\\mid\\beta)} = \\sum_k e^{X\\beta_k}\n",
    "$$\n",
    "for $p(v_0\\mid\\beta)$, we get\n",
    "$$\n",
    "p(v_0\\mid\\beta) = \\frac1{\\sum_j e^{X\\beta_j}}.\n",
    "$$\n",
    "\n",
    "Letting $\\beta_0=0$ (the zero vector), we have\n",
    "$$\n",
    "p(v_j\\mid\\beta)=\\frac{e^{X\\beta_j}}{\\sum_ke^{X\\beta_k}}\n",
    "$$\n",
    "for all $j$.\n",
    "\n",
    "Define the ***softmax function***:\n",
    "$$\n",
    "\\operatorname{softmax}:\\mathbb{R}^c\\longrightarrow \\mathbb{R}^c,\\qquad\n",
    "\\operatorname{softmax}(\\mu) = \\left(\n",
    "    \\frac{e^{\\mu_0}}{\\sum_k e^{\\mu_k}},\\ldots, \\frac{e^{\\mu_{c-1}}}{\\sum_k e^{\\mu_k}}\n",
    "\\right)\n",
    "$$\n",
    "\n",
    "log-likelihood function:\n",
    "$$\n",
    "\\log p(y_i\\mid x_i, \\beta) = \\operatorname{sum}(y_i\\odot\\log\\operatorname{softmax}(x_i\\beta))\n",
    "$$\n",
    "\n",
    "Batched version:\n",
    "$$\n",
    "\\log p(Y\\mid X,\\beta) = \\operatorname{sum}(Y\\odot\\log\\operatorname{softmax}(X\\beta,\\, \\text{\\texttt{axis=1}}),\\, \\text{\\texttt{axis=1}})\n",
    "$$\n",
    "\n",
    "Conveniently, the log-softmax function is built into JAX."
   ]
  },
  {
   "cell_type": "code",
   "execution_count": 564,
   "metadata": {},
   "outputs": [
    {
     "name": "stdout",
     "output_type": "stream",
     "text": [
      "[[ 0.84 -0.16  1.12 -1.79]\n",
      " [ 0.3  -0.13 -1.56  1.39]\n",
      " [-0.66  0.03  1.44 -0.81]\n",
      " [-0.54  0.22  0.82 -0.5 ]\n",
      " [-0.1   1.41  0.41 -1.72]\n",
      " [-1.16  1.3   0.45 -0.59]\n",
      " [-0.02  0.4   0.88 -1.25]\n",
      " [-0.74  0.05 -0.02  0.72]\n",
      " [-1.54  0.34  0.73  0.47]\n",
      " [ 0.27  0.36 -0.61 -0.02]]\n"
     ]
    }
   ],
   "source": [
    "from sklearn.metrics import accuracy_score\n",
    "\n",
    "size = 300\n",
    "p = 10\n",
    "c = 4\n",
    "rng = np.random.default_rng(42)\n",
    "X = rng.normal(size=(size, p))\n",
    "beta = rng.normal(size=(p, c))\n",
    "z = np.exp(X @ beta)\n",
    "probs = z / z.sum(axis=1, keepdims=True)\n",
    "y = np.argmax(rng.uniform(size=(size, 1)) < np.cumsum(probs, axis=1), axis=1)\n",
    "\n",
    "model = LogisticRegression(C=np.inf, max_iter=1000, fit_intercept=False, tol=1e-8)\n",
    "model.fit(X, y)  # type: ignore\n",
    "accuracy_score(y, model.predict(X))\n",
    "\n",
    "print(model.coef_.squeeze().round(2).T)"
   ]
  },
  {
   "cell_type": "code",
   "execution_count": 565,
   "metadata": {},
   "outputs": [
    {
     "name": "stdout",
     "output_type": "stream",
     "text": [
      "i = 0: loss(beta) = 3.732680559158325\n",
      "i = 2: loss(beta) = 0.5561644434928894\n",
      "i = 4: loss(beta) = 0.5440211892127991\n",
      "i = 6: loss(beta) = 0.542653501033783\n",
      "i = 8: loss(beta) = 0.5423337817192078\n",
      "i = 10: loss(beta) = 0.5422449111938477\n",
      "i = 12: loss(beta) = 0.5422179102897644\n",
      "i = 14: loss(beta) = 0.5422090291976929\n",
      "i = 16: loss(beta) = 0.542205810546875\n",
      "i = 18: loss(beta) = 0.5422044992446899\n",
      "i = 20: loss(beta) = 0.5422039031982422\n",
      "i = 22: loss(beta) = 0.5422036051750183\n",
      "i = 24: loss(beta) = 0.5422035455703735\n",
      "i = 26: loss(beta) = 0.542203426361084\n",
      "i = 28: loss(beta) = 0.542203426361084\n",
      "\n",
      "beta.round(2) = [[ 1.13  0.13  1.42 -1.5 ]\n",
      " [ 0.3  -0.13 -1.55  1.4 ]\n",
      " [-1.27 -0.59  0.83 -1.42]\n",
      " [-1.27 -0.51  0.1  -1.22]\n",
      " [-0.4   1.11  0.11 -2.02]\n",
      " [-1.85  0.61 -0.23 -1.28]\n",
      " [-0.41  0.01  0.49 -1.64]\n",
      " [-0.59  0.2   0.14  0.87]\n",
      " [-1.62  0.26  0.65  0.39]\n",
      " [-0.34 -0.26 -1.22 -0.64]]\n"
     ]
    }
   ],
   "source": [
    "from jax.nn import log_softmax\n",
    "\n",
    "Y = np.zeros((size, c))\n",
    "np.put_along_axis(arr=Y, indices=y.reshape(-1, 1), values=1, axis=1)\n",
    "\n",
    "\n",
    "def loss(beta):\n",
    "    return -jnp.sum(Y * log_softmax(X @ beta)) / size\n",
    "\n",
    "\n",
    "h = 10\n",
    "max_iter = 30\n",
    "beta = jnp.array(np.random.normal(size=(p, c)))  # type: ignore\n",
    "for i in range(max_iter):\n",
    "    v, g = value_and_grad(loss)(beta)\n",
    "    if i % 2 == 0:\n",
    "        print(f\"i = {i}: loss(beta) = {v}\")\n",
    "    beta -= h * g\n",
    "print(f\"\\nbeta.round(2) = {np.array(beta).round(2)}\")"
   ]
  },
  {
   "cell_type": "code",
   "execution_count": 566,
   "metadata": {},
   "outputs": [
    {
     "data": {
      "text/plain": [
       "array([[ 0.74, -0.19,  0.95, -1.51],\n",
       "       [ 0.21, -0.05, -1.29,  1.13],\n",
       "       [-0.53, -0.04,  1.24, -0.67],\n",
       "       [-0.45,  0.16,  0.7 , -0.41],\n",
       "       [-0.04,  1.17,  0.28, -1.42],\n",
       "       [-0.96,  1.1 ,  0.35, -0.48],\n",
       "       [-0.02,  0.31,  0.74, -1.04],\n",
       "       [-0.63,  0.02, -0.01,  0.62],\n",
       "       [-1.3 ,  0.26,  0.6 ,  0.44],\n",
       "       [ 0.22,  0.33, -0.51, -0.03]])"
      ]
     },
     "execution_count": 566,
     "metadata": {},
     "output_type": "execute_result"
    }
   ],
   "source": [
    "model = LogisticRegression(fit_intercept=False)\n",
    "model.fit(X, y)\n",
    "model.coef_.round(2).T"
   ]
  },
  {
   "cell_type": "code",
   "execution_count": 570,
   "metadata": {},
   "outputs": [
    {
     "data": {
      "text/plain": [
       "0.76"
      ]
     },
     "execution_count": 570,
     "metadata": {},
     "output_type": "execute_result"
    }
   ],
   "source": [
    "from sklearn.metrics import accuracy_score\n",
    "\n",
    "beta_skl = model.coef_.round(2).T\n",
    "loss(beta_skl)\n",
    "accuracy_score(y, model.predict(X))"
   ]
  },
  {
   "cell_type": "code",
   "execution_count": 573,
   "metadata": {},
   "outputs": [
    {
     "data": {
      "text/plain": [
       "0.76"
      ]
     },
     "execution_count": 573,
     "metadata": {},
     "output_type": "execute_result"
    }
   ],
   "source": [
    "y_pred = np.argmax(X @ beta, axis=1)\n",
    "accuracy_score(y, y_pred)"
   ]
  },
  {
   "cell_type": "markdown",
   "metadata": {},
   "source": [
    "### This time using identifiable parameters"
   ]
  },
  {
   "cell_type": "code",
   "execution_count": null,
   "metadata": {},
   "outputs": [],
   "source": [
    "def data(n: int, p: int, c: int, rng: int | np.random.Generator | None = None):\n",
    "    if c < 2:\n",
    "        raise ValueError(\"Number of classes c must be > 1.\")\n",
    "    rng = np.random.default_rng(rng)\n",
    "    X = rng.normal(size=(n, p))\n",
    "    beta = np.zeros((p, c))\n",
    "    beta[:, 1:] = rng.normal(size=(p, c - 1))\n",
    "    z = np.exp(X @ beta)\n",
    "    probs = z / z.sum(axis=1, keepdims=True)\n",
    "    y = np.argmax(\n",
    "        rng.uniform(size=(n, 1)) < np.cumsum(probs, axis=1), axis=1, keepdims=True\n",
    "    )\n",
    "    Y = np.zeros((n, c))\n",
    "    np.put_along_axis(arr=Y, indices=y, values=1, axis=1)\n",
    "    return X, Y, beta[:, 1:]\n",
    "\n",
    "\n",
    "def model(beta, X):\n",
    "    p = len(beta)\n",
    "    full_beta = jnp.hstack([jnp.zeros((p, 1)), beta])\n",
    "    logits = X @ full_beta\n",
    "    return logits\n",
    "\n",
    "\n",
    "def loss(beta, X, Y):\n",
    "    logits = model(beta, X)\n",
    "    return -jnp.sum(Y * log_softmax(logits)) / size"
   ]
  },
  {
   "cell_type": "code",
   "execution_count": null,
   "metadata": {},
   "outputs": [
    {
     "name": "stdout",
     "output_type": "stream",
     "text": [
      "true loss = 0.7099\n",
      "i = 0: loss(beta) = 3.6220591068267822\n",
      "i = 5: loss(beta) = 0.7253149151802063\n",
      "i = 10: loss(beta) = 0.714459240436554\n",
      "i = 15: loss(beta) = 0.7138931155204773\n",
      "i = 20: loss(beta) = 0.7138315439224243\n",
      "i = 25: loss(beta) = 0.7138221263885498\n",
      "i = 30: loss(beta) = 0.7138205170631409\n",
      "i = 35: loss(beta) = 0.7138200998306274\n",
      "i = 40: loss(beta) = 0.7138200998306274\n",
      "i = 45: loss(beta) = 0.7138200998306274\n",
      "training loss = 0.7099\n",
      "max error = 1.93%\n"
     ]
    }
   ],
   "source": [
    "size = 10000000\n",
    "p = 10\n",
    "c = 4\n",
    "X, Y, _beta = data(size, p, c)\n",
    "print(\n",
    "    f\"true loss = {np.mean(\n",
    "        np.argmax(X @ np.hstack([np.zeros((p, 1)), _beta]), axis=1)\n",
    "        == np.argmax(Y, axis=1)\n",
    "    ):.4f}\"\n",
    ")\n",
    "\n",
    "h = 10\n",
    "max_iter = 50\n",
    "beta = jnp.array(np.random.normal(size=(p, c - 1)))\n",
    "for i in range(max_iter):\n",
    "    v, g = value_and_grad(loss, 0)(beta, X, Y)\n",
    "    if i % 5 == 0:\n",
    "        print(f\"i = {i}: loss(beta) = {v}\")\n",
    "    beta -= h * g\n",
    "\n",
    "print(\n",
    "    f\"training loss = {np.mean(\n",
    "        np.argmax(X @ np.hstack([np.zeros((p, 1)), beta]), axis=1)\n",
    "        == np.argmax(Y, axis=1)\n",
    "    ):.4f}\"\n",
    ")\n",
    "\n",
    "assert np.all(np.sign(beta) == np.sign(_beta))\n",
    "print(\n",
    "    f\"max error = {100*np.max((beta - _beta) / (0.5 * np.abs(beta + _beta))).item():.2f}%\"\n",
    ")"
   ]
  },
  {
   "cell_type": "markdown",
   "metadata": {},
   "source": [
    "### Poisson regression\n",
    "\n",
    "$$\n",
    "y_i\\sim \\operatorname{Poisson}(e^{x_i\\beta})\n",
    "$$\n",
    "\n",
    "$$\n",
    "p(y_i\\mid x_i,\\beta) = \\frac{e^{y_ix_i\\beta}e^{-e^{x_i\\beta}}}{y_i!}\n",
    "$$\n",
    "\n",
    "$$\n",
    "\\begin{aligned}\n",
    "\\log p(y_i\\mid x_i,\\beta) &= \\log\\frac{e^{y_ix_i\\beta}e^{-e^{x_i\\beta}}}{y_i!}\\\\\n",
    "&= y_ix_i\\beta - e^{x_i\\beta} - \\log y_i!\n",
    "\\end{aligned}\n",
    "$$\n",
    "\n",
    "Since $y_i!$ is gigantic is $y_i$ is big, and we only want its logarithm anyways, it's best to avoid computing directly. Better to use the ***log-gamma function***:\n",
    "$$\n",
    "\\log y_i! = \\log\\Gamma(y_i + 1)\n",
    "$$\n",
    "\n",
    "Negative log-likelihood:\n",
    "$$\n",
    "\\ell(\\beta) = -\\frac1n\\operatorname{sum}(Y\\odot (X\\beta) - e^{X\\beta} - \\log \\Gamma(Y+1))\n",
    "$$\n",
    "\n",
    "We can actually drop the log-gamma term since it doesn't depend on $\\beta$.\n",
    "\n",
    "$$\n",
    "\\operatorname{loss} = -\\operatorname{mean}(Y\\odot (X\\beta) - e^{X\\beta})\n",
    "$$\n",
    "\n"
   ]
  },
  {
   "cell_type": "code",
   "execution_count": 404,
   "metadata": {},
   "outputs": [],
   "source": [
    "def data(n: int, p: int, rng: int | np.random.Generator | None = None):\n",
    "    rng = np.random.default_rng(rng)\n",
    "    X = rng.normal(size=(n, p))\n",
    "    beta = rng.normal(size=p)\n",
    "    lam = np.exp(X @ beta)\n",
    "    y = rng.poisson(lam).astype(float)\n",
    "    return X, y, beta\n",
    "\n",
    "\n",
    "def loss(beta, X, y):\n",
    "    log_lam = X @ beta\n",
    "    return -jnp.mean(y * log_lam - jnp.exp(log_lam))"
   ]
  },
  {
   "cell_type": "code",
   "execution_count": null,
   "metadata": {},
   "outputs": [
    {
     "name": "stdout",
     "output_type": "stream",
     "text": [
      "true loss = -6.6776\n",
      "i = 0: loss(beta) = -0.44397902488708496\n",
      "i = 50: loss(beta) = -6.603349685668945\n",
      "i = 100: loss(beta) = -6.676112651824951\n",
      "i = 150: loss(beta) = -6.677542686462402\n",
      "i = 200: loss(beta) = -6.677570819854736\n",
      "i = 250: loss(beta) = -6.677570343017578\n",
      "i = 300: loss(beta) = -6.677570819854736\n",
      "i = 350: loss(beta) = -6.677570819854736\n",
      "i = 400: loss(beta) = -6.677570819854736\n",
      "i = 450: loss(beta) = -6.677570819854736\n",
      "training loss = -6.6776\n"
     ]
    }
   ],
   "source": [
    "size = 1000000\n",
    "p = 3\n",
    "X, y, _beta = data(size, p)\n",
    "print(f\"true loss = {loss(_beta, X, y):.4f}\")\n",
    "\n",
    "h = 0.01\n",
    "max_iter = 500\n",
    "beta = jnp.array(np.random.normal(size=p))\n",
    "# beta = jnp.zeros(p)\n",
    "for i in range(max_iter):\n",
    "    v, g = value_and_grad(loss, 0)(beta, X, y)\n",
    "    if i % 50 == 0:\n",
    "        print(f\"i = {i}: loss(beta) = {v}\")\n",
    "    beta -= h * g\n",
    "print(f\"training loss = {loss(beta, X, y):.4f}\")"
   ]
  },
  {
   "cell_type": "markdown",
   "metadata": {},
   "source": [
    "### Negative binomial regression\n",
    "\n",
    "#### $(r, p)$-parametrization\n",
    "\n",
    "$$\n",
    "\\begin{aligned}\n",
    "p(y\\mid n, p) &= \\binom{y + n - 1}{y}(1 - p)^yp^n\\\\\n",
    "&\\propto\\frac{\\Gamma(y + n)}{\\Gamma(n)}(1 - p)^yp^n\\\\\n",
    "\\end{aligned}\n",
    "$$\n",
    "\n",
    "$$\n",
    "\\begin{aligned}\n",
    "\\log p(y\\mid n, p) &\\propto  \\log\\Gamma(y + n) - \\log\\Gamma(n) + y\\log(1 - p) + n\\log p\n",
    "\\end{aligned}\n",
    "$$"
   ]
  },
  {
   "cell_type": "markdown",
   "metadata": {},
   "source": [
    "\n",
    "\n",
    "$$\n",
    "\\mu = \\mathbb{E}[y] = \\frac{n(1-p)}{p},\\qquad\n",
    "\\sigma^2=\\mathbb{V}[y] = \\frac{n(1-p)}{p^2} = \\mu + \\frac{\\mu^2}{n}\n",
    "$$\n",
    "\n",
    "Solve for $p$ in terms of $\\mu$ and $n$,\n",
    "$$\n",
    "p = \\frac{n}{\\mu + n},\n",
    "$$\n",
    "note that\n",
    "$$\n",
    "1 - p = \\frac{\\mu}{\\mu + n},\n",
    "$$\n",
    "and eliminate $p$ entirely:\n",
    "$$\n",
    "\\begin{aligned}\n",
    "p(y\\mid \\mu, n) &= \\binom{y + n - 1}{y}\n",
    "\\left(\\frac{\\mu}{\\mu + n}\\right)^y\n",
    "\\left(\\frac{n}{\\mu + n}\\right)^n\\\\\n",
    "&= \\frac{\\Gamma(y + n)}{y!\\Gamma(n)}\n",
    "\\left(\\frac{\\mu}{\\mu + n}\\right)^y\n",
    "\\left(\\frac{n}{\\mu + n}\\right)^n\n",
    "\\end{aligned}\n",
    "$$"
   ]
  },
  {
   "cell_type": "markdown",
   "metadata": {},
   "source": [
    "$$\n",
    "\\begin{aligned}\n",
    "\\log p(y\\mid \\mu, n) &= \\log\\Gamma(y + n) - \\log\\Gamma(n) - \\log y!\\\\\n",
    "&\\phantom{=}{} + y\\log\\mu - (y + n)\\log(\\mu + n) + n\\log n\n",
    "\\end{aligned}\n",
    "$$"
   ]
  },
  {
   "cell_type": "code",
   "execution_count": null,
   "metadata": {},
   "outputs": [
    {
     "name": "stdout",
     "output_type": "stream",
     "text": [
      "sample mean = 8.04, distribution mean = 8.00\n",
      "sample variance = 24.28, distribution variance = 24.00\n"
     ]
    },
    {
     "data": {
      "image/png": "[encoded data removed]",
      "text/plain": [
       "<Figure size 640x480 with 1 Axes>"
      ]
     },
     "metadata": {},
     "output_type": "display_data"
    }
   ],
   "source": [
    "import jax.scipy.stats as jstats\n",
    "from collections import Counter\n",
    "from matplotlib import pyplot as plt\n",
    "\n",
    "rng = np.random.default_rng()\n",
    "\n",
    "p = 1 / 3\n",
    "size = 4\n",
    "size = 10_000\n",
    "\n",
    "# negative binomial sampling with numpy.random\n",
    "# no equivalent in jax.numpy.random\n",
    "y = rng.negative_binomial(size, p, size=size)\n",
    "counter = Counter(y)\n",
    "values = np.array(list(counter.keys()))\n",
    "counts = np.array(list(counter.values()))\n",
    "\n",
    "print(f\"sample mean = {y.mean():.2f}, distribution mean = {size*(1-p)/p:.2f}\")\n",
    "print(f\"sample variance = {y.var():.2f}, distribution variance = {size*(1-p)/p**2:.2f}\")\n",
    "\n",
    "# compute pmf-values using jax.scipy.stats.nbinom\n",
    "masses = jstats.nbinom.pmf(values, size, p)\n",
    "\n",
    "plt.vlines(values, 0, counts / size, colors=\"C0\", label=\"observed\")\n",
    "plt.vlines(values + 0.5, 0, masses, colors=\"C1\", label=\"predicted\")\n",
    "plt.title(f\"{size} draws from $\\\\operatorname{{NB}}(n={size}, p={p:.2f})$\")\n",
    "plt.xlabel(\"value\")\n",
    "plt.ylabel(\"frequency\")\n",
    "plt.xlim(-2, 32)\n",
    "plt.legend()\n",
    "plt.show()"
   ]
  },
  {
   "cell_type": "code",
   "execution_count": null,
   "metadata": {},
   "outputs": [],
   "source": [
    "def loss(beta, y):\n",
    "    n, p = beta\n",
    "    return -jstats.nbinom.logpmf(y, n, p).mean()\n",
    "\n",
    "\n",
    "def data(size: int, n: float | None = None, p: float | None = None, rng=None):\n",
    "    if n is None or p is None:\n",
    "        raise ValueError()\n",
    "    rng = np.random.default_rng(rng)\n",
    "    return rng.negative_binomial(n, p, size=size)"
   ]
  },
  {
   "cell_type": "code",
   "execution_count": null,
   "metadata": {},
   "outputs": [
    {
     "name": "stdout",
     "output_type": "stream",
     "text": [
      "true loss = 2.9209\n",
      "i = 0: loss(beta) = 6.2822699546813965, n = 1.0000, p = 0.5000\n",
      "i = 200: loss(beta) = 2.9688873291015625, n = 2.1759, p = 0.2279\n",
      "i = 400: loss(beta) = 2.944277048110962, n = 2.5085, p = 0.2372\n",
      "i = 600: loss(beta) = 2.9359540939331055, n = 2.7379, p = 0.2534\n",
      "i = 800: loss(beta) = 2.931231737136841, n = 2.9109, p = 0.2652\n",
      "i = 1000: loss(beta) = 2.9282848834991455, n = 3.0478, p = 0.2743\n",
      "i = 1200: loss(beta) = 2.92632794380188, n = 3.1593, p = 0.2815\n",
      "i = 1400: loss(beta) = 2.9249696731567383, n = 3.2522, p = 0.2874\n",
      "i = 1600: loss(beta) = 2.9239964485168457, n = 3.3309, p = 0.2923\n",
      "i = 1800: loss(beta) = 2.9232850074768066, n = 3.3982, p = 0.2965\n",
      "i = 2000: loss(beta) = 2.9227511882781982, n = 3.4565, p = 0.3000\n",
      "i = 2200: loss(beta) = 2.9223477840423584, n = 3.5072, p = 0.3031\n",
      "i = 2400: loss(beta) = 2.922037363052368, n = 3.5517, p = 0.3058\n",
      "i = 2600: loss(beta) = 2.9217963218688965, n = 3.5910, p = 0.3081\n",
      "i = 2800: loss(beta) = 2.9216060638427734, n = 3.6257, p = 0.3102\n",
      "i = 3000: loss(beta) = 2.9214558601379395, n = 3.6566, p = 0.3120\n",
      "i = 3200: loss(beta) = 2.921337127685547, n = 3.6841, p = 0.3136\n",
      "i = 3400: loss(beta) = 2.9212424755096436, n = 3.7087, p = 0.3150\n",
      "i = 3600: loss(beta) = 2.921165943145752, n = 3.7308, p = 0.3163\n",
      "i = 3800: loss(beta) = 2.9211044311523438, n = 3.7506, p = 0.3175\n",
      "i = 4000: loss(beta) = 2.9210526943206787, n = 3.7684, p = 0.3185\n",
      "i = 4200: loss(beta) = 2.921013832092285, n = 3.7845, p = 0.3194\n",
      "i = 4400: loss(beta) = 2.92098069190979, n = 3.7991, p = 0.3203\n",
      "i = 4600: loss(beta) = 2.920954704284668, n = 3.8122, p = 0.3210\n",
      "i = 4800: loss(beta) = 2.9209303855895996, n = 3.8241, p = 0.3217\n",
      "i = 5000: loss(beta) = 2.9209144115448, n = 3.8348, p = 0.3223\n",
      "i = 5200: loss(beta) = 2.9208991527557373, n = 3.8446, p = 0.3229\n",
      "i = 5400: loss(beta) = 2.9208855628967285, n = 3.8535, p = 0.3234\n",
      "i = 5600: loss(beta) = 2.9208736419677734, n = 3.8615, p = 0.3238\n",
      "i = 5800: loss(beta) = 2.9208662509918213, n = 3.8688, p = 0.3242\n",
      "i = 6000: loss(beta) = 2.920860528945923, n = 3.8755, p = 0.3246\n",
      "i = 6200: loss(beta) = 2.92085337638855, n = 3.8815, p = 0.3250\n",
      "i = 6400: loss(beta) = 2.920849561691284, n = 3.8870, p = 0.3253\n",
      "i = 6600: loss(beta) = 2.9208452701568604, n = 3.8921, p = 0.3255\n",
      "i = 6800: loss(beta) = 2.9208436012268066, n = 3.8966, p = 0.3258\n",
      "i = 7000: loss(beta) = 2.9208412170410156, n = 3.9008, p = 0.3260\n",
      "i = 7200: loss(beta) = 2.920836925506592, n = 3.9046, p = 0.3263\n",
      "i = 7400: loss(beta) = 2.920834541320801, n = 3.9081, p = 0.3264\n",
      "i = 7600: loss(beta) = 2.9208333492279053, n = 3.9113, p = 0.3266\n",
      "i = 7800: loss(beta) = 2.920833110809326, n = 3.9142, p = 0.3268\n",
      "i = 8000: loss(beta) = 2.9208312034606934, n = 3.9168, p = 0.3269\n",
      "i = 8200: loss(beta) = 2.920830488204956, n = 3.9192, p = 0.3271\n",
      "i = 8400: loss(beta) = 2.920828342437744, n = 3.9214, p = 0.3272\n",
      "i = 8600: loss(beta) = 2.9208309650421143, n = 3.9234, p = 0.3273\n",
      "i = 8800: loss(beta) = 2.920828342437744, n = 3.9253, p = 0.3274\n",
      "i = 9000: loss(beta) = 2.920830011367798, n = 3.9269, p = 0.3275\n",
      "i = 9200: loss(beta) = 2.9208264350891113, n = 3.9285, p = 0.3276\n",
      "i = 9400: loss(beta) = 2.920828104019165, n = 3.9299, p = 0.3277\n",
      "i = 9600: loss(beta) = 2.9208261966705322, n = 3.9311, p = 0.3277\n",
      "i = 9800: loss(beta) = 2.920828342437744, n = 3.9323, p = 0.3278\n",
      "training loss = 2.9208\n",
      "n = 3.9334, p = 0.3279\n"
     ]
    }
   ],
   "source": [
    "y = data(10000, n=4, p=1 / 3)\n",
    "_beta = jnp.array([4, 1 / 3])\n",
    "print(f\"true loss = {loss(_beta, y):.4f}\")\n",
    "\n",
    "beta = jnp.array([1.0, 0.5])\n",
    "h = 0.032\n",
    "max_iter = 10000\n",
    "for i in range(max_iter):\n",
    "    v, g = value_and_grad(loss, 0)(beta, y)\n",
    "    if i % 200 == 0:\n",
    "        print(\n",
    "            f\"i = {i}: loss(beta) = {v}, n = {beta[0].item():.4f}, p = {beta[1].item():.4f}\"\n",
    "        )\n",
    "    beta -= h * g\n",
    "print(f\"training loss = {loss(beta, y):.4f}\")\n",
    "\n",
    "size = beta[0].item()\n",
    "p = beta[1].item()\n",
    "print(f\"n = {size:.4f}, p = {p:.4f}\")"
   ]
  },
  {
   "cell_type": "code",
   "execution_count": 543,
   "metadata": {},
   "outputs": [
    {
     "name": "stdout",
     "output_type": "stream",
     "text": [
      "mom n = 3.8758, mom p = 0.3246\n"
     ]
    }
   ],
   "source": [
    "mu = y.mean()\n",
    "sigma = y.std()\n",
    "\n",
    "mom_n = mu**2 / (sigma**2 - mu)\n",
    "mom_p = mom_n / (mu + mom_n)\n",
    "print(f\"mom n = {mom_n:.4f}, mom p = {mom_p:.4f}\")"
   ]
  },
  {
   "cell_type": "code",
   "execution_count": null,
   "metadata": {},
   "outputs": [],
   "source": [
    "def data(\n",
    "    n_examples: int,\n",
    "    n_features: int,\n",
    "    n: float,\n",
    "    rng: int | np.random.Generator | None = None,\n",
    "):\n",
    "    if n <= 0:\n",
    "        raise ValueError(\"n must be positive.\")\n",
    "    rng = np.random.default_rng(rng)\n",
    "    X = rng.normal(size=(n_examples, n_features))\n",
    "    beta = rng.normal(size=n_features)\n",
    "    mu = np.exp(X @ beta)\n",
    "    p = n / (mu + n)\n",
    "    y = rng.negative_binomial(n, p)\n",
    "    return X, y, beta"
   ]
  },
  {
   "cell_type": "code",
   "execution_count": 548,
   "metadata": {},
   "outputs": [],
   "source": [
    "X, y, beta = data(300, 5, 4)"
   ]
  },
  {
   "cell_type": "code",
   "execution_count": 549,
   "metadata": {},
   "outputs": [
    {
     "data": {
      "text/plain": [
       "array([ 5,  3,  1,  1,  4,  0,  1,  1,  0,  1,  0,  0,  0,  0,  0, 18,  3,\n",
       "        5,  0,  0,  0,  1,  0,  0,  7,  1, 10,  0,  1,  1,  0, 31,  0,  0,\n",
       "        0,  0, 16,  4,  0,  0,  6,  0,  4,  1,  0,  0,  4,  0,  3,  0,  9,\n",
       "        1,  2,  1,  4,  4,  9,  2,  0,  1,  4,  0,  3,  2,  3,  1, 19,  1,\n",
       "        0,  1,  2,  0,  0, 12,  0,  0,  2,  0,  0,  0,  0,  0,  3,  0,  0,\n",
       "        3,  4,  1,  0,  0,  0,  0,  3,  6,  2,  2,  0,  1,  0,  2,  9,  2,\n",
       "        0,  2,  2,  0,  0,  1,  0,  8,  1,  4,  2,  3,  0,  0,  1,  0,  2,\n",
       "        1,  4, 24,  0,  1,  2,  4,  3,  0,  0,  0,  0,  0,  1,  5,  3,  0,\n",
       "       12,  3,  3,  1,  7,  0,  0,  0, 10,  1,  0,  1,  2,  0, 23,  1,  0,\n",
       "        0,  0,  5,  1,  3,  1,  2,  0,  1, 22,  0,  1,  0,  0, 68, 11,  1,\n",
       "        1,  6,  0,  0,  0,  0,  0,  0,  1,  6,  6,  1,  2,  2,  0,  6,  0,\n",
       "        0, 10,  0,  0,  6,  0,  1,  0, 29,  7,  0,  3,  0,  2, 13,  1,  1,\n",
       "        0,  1,  2,  2,  0,  0,  1,  1,  1,  0,  3,  0,  0,  0,  6,  0,  9,\n",
       "        2,  1,  0,  0,  1,  2,  0,  0,  3, 40,  4,  5,  3,  1,  0,  1,  2,\n",
       "        3,  0,  6,  2,  6,  0,  5,  1,  3,  7,  2,  1,  6,  0,  1,  0,  4,\n",
       "        1,  1,  2,  0,  0, 13,  0,  1,  3,  0,  1,  0,  0,  0,  2,  2,  3,\n",
       "        0,  0,  3,  3,  1,  0,  4,  3,  0,  1,  0,  0,  0,  1,  0,  0,  0,\n",
       "        1,  1,  2,  0,  1,  1,  0,  0,  1,  0,  0])"
      ]
     },
     "execution_count": 549,
     "metadata": {},
     "output_type": "execute_result"
    }
   ],
   "source": [
    "y"
   ]
  },
  {
   "cell_type": "code",
   "execution_count": null,
   "metadata": {},
   "outputs": [],
   "source": []
  }
 ],
 "metadata": {
  "kernelspec": {
   "display_name": ".venv",
   "language": "python",
   "name": "python3"
  },
  "language_info": {
   "codemirror_mode": {
    "name": "ipython",
    "version": 3
   },
   "file_extension": ".py",
   "mimetype": "text/x-python",
   "name": "python",
   "nbconvert_exporter": "python",
   "pygments_lexer": "ipython3",
   "version": "3.12.9"
  }
 },
 "nbformat": 4,
 "nbformat_minor": 2
}
