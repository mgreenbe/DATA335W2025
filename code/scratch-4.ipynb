{
 "cells": [
  {
   "cell_type": "markdown",
   "metadata": {},
   "source": [
    "### A hierarchical model\n",
    "\n",
    "Suppose ***scholastic aptitude (SA)***, denoted $u$, is distributed normally in the population with mean $\\mu_0$ and variance $\\sigma_0^2$:\n",
    "$$\n",
    "u\\sim N(\\mu_0, \\sigma_0^2)\n",
    "$$\n",
    "\n",
    "The random variable $u$ is ***latent*** &mdash; unobservable.\n",
    "\n",
    "A person's ***Scholastic Aptitute Test (SAT)*** score, denoted $y$, is supposed to reflect their scholastic aptitute $u$. Assume:\n",
    "$$\n",
    "y\\mid u \\sim N(u, \\sigma^2)\n",
    "$$\n",
    "Thus, $\\sigma$ is a reflection of the SAT's measurement error.\n",
    "\n",
    "Variance in SAT score in the population has two sources: variation in SA across the population ($\\sigma_0$) and variation in SAT scores among people with the same SA ($\\sigma$). By *The Theory*, these two sources of variation combine additively:\n",
    "$$\n",
    "y\\sim N(\\mu_0,\\sigma_0^2 + \\sigma^2)\n",
    "$$"
   ]
  },
  {
   "cell_type": "markdown",
   "metadata": {},
   "source": [
    "### An application of Bayes' Theorem\n",
    "\n",
    "What can we say about someone's SA if we know their test score? More precisely, what is $p(u\\mid y)$?\n",
    "\n",
    "By Bayes' Theorem,\n",
    "$$\n",
    "p(u\\mid y) = \\frac{p(y\\mid u)p(u)}{p(y)}.\n",
    "$$\n",
    "\n",
    "We know $p(u)$, $p(y\\mid u)$, and $p(y)$. With some algebraic perseverance, we manipulate the right hand side of the the above identify into standard Gaussian form and identify its mean and variance.\n",
    "\n",
    "Set\n",
    "$$\n",
    "\\tau_0 = \\frac1{\\sigma_0},\\qquad \\tau= \\frac1{\\sigma}.\n",
    "$$\n",
    "The reciprocal variances $\\tau_0^2$ and $\\tau^2$ are called ***precisions***.\n",
    "\n",
    "We have:\n",
    "$$\n",
    "\\begin{aligned}\n",
    "\\mathbb{E}[u\\mid y] &= \\frac{\\tau_0^2}{\\tau_0^2 + \\tau^2}\\mu_0 + \\frac{\\tau^2}{\\tau_0^2 + \\tau^2}y\\\\\n",
    "\\mathbb{V}[u\\mid y] &= \\frac{1}{\\tau_0^2 + \\tau^2}\n",
    "\\end{aligned}\n",
    "$$"
   ]
  },
  {
   "cell_type": "markdown",
   "metadata": {},
   "source": [
    "Let $\\theta$ be the ratio of uncertainty in scholastic aptitude to uncertainty in SAT results.\n",
    "$$\n",
    "\\theta = \\frac{\\sigma_0}{\\sigma} = \\frac{\\tau}{\\tau_0}.\n",
    "$$\n",
    "(The larger $\\theta$ is, the more reliable the SAT for capturing the latent SA quantity.)\n",
    "\n",
    "Setting\n",
    "$$\n",
    "t = \\frac{1}{1 + \\theta^2}\n",
    "$$\n",
    "we have\n",
    "$$\n",
    "\\mathbb{E}[u\\mid y] = t\\mu_0 + (1 - t)y.\n",
    "$$\n",
    "\n",
    "The expression on the right hand side lies between $\\mu_0$ and $y$.\n",
    "\n",
    "If $\\theta$ is small, $\\mathbb{E}[u\\mid y]$ is close to $\\mu_0$. Makes sense: If $\\theta$ is small then the SAT score $y$ isn't a reliable reflection of SA $u$ we hedge our bet for $u$ towards the population mean.\n",
    "\n",
    "If $\\theta$ is big, $\\mathbb{E}[u\\mid y]$ is close to $y$. Makes sense: If $\\theta$ is big then the SAT score $y$ is a reliable reflection of SA $u$ and we don't need to hedge our bets.\n"
   ]
  },
  {
   "cell_type": "markdown",
   "metadata": {},
   "source": [
    "$$\n",
    "\\begin{aligned}\n",
    "u_i&\\sim N(\\mu_0, \\sigma_0^2),&&i<m,\\\\\n",
    "y_{ij}\\mid u_i &\\sim N(u_i,\\sigma^2),&&j < n_i\n",
    "\\end{aligned}\n",
    "$$"
   ]
  },
  {
   "cell_type": "code",
   "execution_count": null,
   "metadata": {},
   "outputs": [
    {
     "data": {
      "text/html": [
       "<div>\n",
       "<style scoped>\n",
       "    .dataframe tbody tr th:only-of-type {\n",
       "        vertical-align: middle;\n",
       "    }\n",
       "\n",
       "    .dataframe tbody tr th {\n",
       "        vertical-align: top;\n",
       "    }\n",
       "\n",
       "    .dataframe thead th {\n",
       "        text-align: right;\n",
       "    }\n",
       "</style>\n",
       "<table border=\"1\" class=\"dataframe\">\n",
       "  <thead>\n",
       "    <tr style=\"text-align: right;\">\n",
       "      <th></th>\n",
       "      <th>y</th>\n",
       "      <th>i</th>\n",
       "      <th>Intercept</th>\n",
       "    </tr>\n",
       "  </thead>\n",
       "  <tbody>\n",
       "    <tr>\n",
       "      <th>0</th>\n",
       "      <td>24.411222</td>\n",
       "      <td>3</td>\n",
       "      <td>1</td>\n",
       "    </tr>\n",
       "    <tr>\n",
       "      <th>1</th>\n",
       "      <td>17.667072</td>\n",
       "      <td>5</td>\n",
       "      <td>1</td>\n",
       "    </tr>\n",
       "    <tr>\n",
       "      <th>2</th>\n",
       "      <td>20.917264</td>\n",
       "      <td>1</td>\n",
       "      <td>1</td>\n",
       "    </tr>\n",
       "    <tr>\n",
       "      <th>3</th>\n",
       "      <td>19.079101</td>\n",
       "      <td>1</td>\n",
       "      <td>1</td>\n",
       "    </tr>\n",
       "    <tr>\n",
       "      <th>4</th>\n",
       "      <td>16.644838</td>\n",
       "      <td>6</td>\n",
       "      <td>1</td>\n",
       "    </tr>\n",
       "  </tbody>\n",
       "</table>\n",
       "</div>"
      ],
      "text/plain": [
       "           y  i  Intercept\n",
       "0  24.411222  3          1\n",
       "1  17.667072  5          1\n",
       "2  20.917264  1          1\n",
       "3  19.079101  1          1\n",
       "4  16.644838  6          1"
      ]
     },
     "execution_count": 68,
     "metadata": {},
     "output_type": "execute_result"
    }
   ],
   "source": [
    "import numpy as np\n",
    "import pandas as pd\n",
    "from collections import Counter\n",
    "from matplotlib import pyplot as plt\n",
    "from statsmodels.api import MixedLM\n",
    "from sklearn.metrics import mean_squared_error\n",
    "from sklearn.linear_model import LinearRegression\n",
    "\n",
    "\n",
    "mu0 = 20\n",
    "sigma0 = 5\n",
    "sigma = 3\n",
    "m = 7\n",
    "\n",
    "cat_dtype = pd.CategoricalDtype(categories=np.arange(m))\n",
    "\n",
    "\n",
    "def make_data(n, rng=None):\n",
    "    rng = np.random.default_rng(rng)\n",
    "    u = rng.normal(mu0, sigma0, size=m)\n",
    "    i = rng.choice(range(m), size=n)\n",
    "    y = rng.normal(u[i], sigma)\n",
    "    df = pd.DataFrame({\"y\": y, \"i\": i, \"Intercept\": 1})\n",
    "    df[\"i\"] = df[\"i\"].astype(cat_dtype)\n",
    "    return df\n",
    "\n",
    "\n",
    "df_train = make_data(30)\n",
    "df_test = make_data(10_000)\n",
    "df_train.head()"
   ]
  },
  {
   "cell_type": "code",
   "execution_count": 69,
   "metadata": {},
   "outputs": [
    {
     "data": {
      "text/plain": [
       "i\n",
       "1    11\n",
       "6     6\n",
       "3     4\n",
       "5     3\n",
       "0     2\n",
       "2     2\n",
       "4     2\n",
       "Name: count, dtype: int64"
      ]
     },
     "execution_count": 69,
     "metadata": {},
     "output_type": "execute_result"
    }
   ],
   "source": [
    "df_train[\"i\"].value_counts()"
   ]
  },
  {
   "cell_type": "code",
   "execution_count": 76,
   "metadata": {},
   "outputs": [
    {
     "data": {
      "text/plain": [
       "61.037798213941414"
      ]
     },
     "execution_count": 76,
     "metadata": {},
     "output_type": "execute_result"
    }
   ],
   "source": [
    "y_train = df_train[\"y\"]\n",
    "X_train = pd.get_dummies(df_train[\"i\"])\n",
    "assert X_train.shape[1] == 7\n",
    "\n",
    "y_test = df_test[\"y\"]\n",
    "X_test = pd.get_dummies(df_test[\"i\"])\n",
    "assert X_train.shape[1] == 7\n",
    "\n",
    "lr_model = LinearRegression(fit_intercept=False)\n",
    "lr_model.fit(X_train, y_train)\n",
    "test_mse = mean_squared_error(y_test, lr_model.predict(X_test))\n",
    "test_mse"
   ]
  },
  {
   "cell_type": "code",
   "execution_count": 78,
   "metadata": {},
   "outputs": [
    {
     "name": "stdout",
     "output_type": "stream",
     "text": [
      "[18.0966247  19.74701551 12.4163255  24.17174297 20.0208904  17.58447808\n",
      " 13.39358496]\n"
     ]
    },
    {
     "data": {
      "text/plain": [
       "i\n",
       "0    18.096625\n",
       "1    19.747016\n",
       "2    12.416325\n",
       "3    24.171743\n",
       "4    20.020890\n",
       "5    17.584478\n",
       "6    13.393585\n",
       "Name: y, dtype: float64"
      ]
     },
     "execution_count": 78,
     "metadata": {},
     "output_type": "execute_result"
    }
   ],
   "source": [
    "print(lr_model.coef_)\n",
    "\n",
    "df_train.groupby(\"i\", observed=False)[\"y\"].mean()"
   ]
  },
  {
   "cell_type": "code",
   "execution_count": 85,
   "metadata": {},
   "outputs": [],
   "source": [
    "assert np.allclose(df_train.groupby(\"i\", observed=False)[\"y\"].mean(), lr_model.coef_)"
   ]
  },
  {
   "cell_type": "code",
   "execution_count": 86,
   "metadata": {},
   "outputs": [
    {
     "data": {
      "text/html": [
       "<table class=\"simpletable\">\n",
       "<tr>\n",
       "       <td>Model:</td>       <td>MixedLM</td> <td>Dependent Variable:</td>     <td>y</td>   \n",
       "</tr>\n",
       "<tr>\n",
       "  <td>No. Observations:</td>   <td>30</td>          <td>Method:</td>         <td>REML</td>  \n",
       "</tr>\n",
       "<tr>\n",
       "     <td>No. Groups:</td>       <td>7</td>          <td>Scale:</td>         <td>9.3230</td> \n",
       "</tr>\n",
       "<tr>\n",
       "  <td>Min. group size:</td>     <td>2</td>      <td>Log-Likelihood:</td>   <td>-80.6300</td>\n",
       "</tr>\n",
       "<tr>\n",
       "  <td>Max. group size:</td>    <td>11</td>        <td>Converged:</td>         <td>Yes</td>  \n",
       "</tr>\n",
       "<tr>\n",
       "  <td>Mean group size:</td>    <td>4.3</td>            <td></td>               <td></td>    \n",
       "</tr>\n",
       "</table>\n",
       "<table class=\"simpletable\">\n",
       "<tr>\n",
       "      <td></td>       <th>Coef.</th> <th>Std.Err.</th>    <th>z</th>   <th>P>|z|</th> <th>[0.025</th> <th>0.975]</th>\n",
       "</tr>\n",
       "<tr>\n",
       "  <th>Intercept</th> <td>17.975</td>   <td>1.544</td>  <td>11.641</td> <td>0.000</td> <td>14.949</td> <td>21.002</td>\n",
       "</tr>\n",
       "<tr>\n",
       "  <th>Group Var</th> <td>13.699</td>   <td>3.469</td>     <td></td>      <td></td>       <td></td>       <td></td>   \n",
       "</tr>\n",
       "</table><br/>\n"
      ],
      "text/latex": [
       "\\begin{table}\n",
       "\\caption{Mixed Linear Model Regression Results}\n",
       "\\label{}\n",
       "\\begin{center}\n",
       "\\begin{tabular}{llll}\n",
       "\\hline\n",
       "Model:            & MixedLM & Dependent Variable: & y         \\\\\n",
       "No. Observations: & 30      & Method:             & REML      \\\\\n",
       "No. Groups:       & 7       & Scale:              & 9.3230    \\\\\n",
       "Min. group size:  & 2       & Log-Likelihood:     & -80.6300  \\\\\n",
       "Max. group size:  & 11      & Converged:          & Yes       \\\\\n",
       "Mean group size:  & 4.3     &                     &           \\\\\n",
       "\\hline\n",
       "\\end{tabular}\n",
       "\\end{center}\n",
       "\n",
       "\\begin{center}\n",
       "\\begin{tabular}{lrrrrrr}\n",
       "\\hline\n",
       "          &  Coef. & Std.Err. &      z & P$> |$z$|$ & [0.025 & 0.975]  \\\\\n",
       "\\hline\n",
       "Intercept & 17.975 &    1.544 & 11.641 &       0.000 & 14.949 & 21.002  \\\\\n",
       "Group Var & 13.699 &    3.469 &        &             &        &         \\\\\n",
       "\\hline\n",
       "\\end{tabular}\n",
       "\\end{center}\n",
       "\\end{table}\n",
       "\\bigskip\n"
      ],
      "text/plain": [
       "<class 'statsmodels.iolib.summary2.Summary'>\n",
       "\"\"\"\n",
       "        Mixed Linear Model Regression Results\n",
       "======================================================\n",
       "Model:            MixedLM Dependent Variable: y       \n",
       "No. Observations: 30      Method:             REML    \n",
       "No. Groups:       7       Scale:              9.3230  \n",
       "Min. group size:  2       Log-Likelihood:     -80.6300\n",
       "Max. group size:  11      Converged:          Yes     \n",
       "Mean group size:  4.3                                 \n",
       "------------------------------------------------------\n",
       "            Coef.  Std.Err.   z    P>|z| [0.025 0.975]\n",
       "------------------------------------------------------\n",
       "Intercept   17.975    1.544 11.641 0.000 14.949 21.002\n",
       "Group Var   13.699    3.469                           \n",
       "======================================================\n",
       "\n",
       "\"\"\""
      ]
     },
     "execution_count": 86,
     "metadata": {},
     "output_type": "execute_result"
    }
   ],
   "source": [
    "mixed_model = MixedLM(df_train[\"y\"], df_train[[\"Intercept\"]], groups=df_train[\"i\"])\n",
    "fit = mixed_model.fit()\n",
    "fit.summary()"
   ]
  },
  {
   "cell_type": "code",
   "execution_count": 87,
   "metadata": {},
   "outputs": [
    {
     "data": {
      "text/plain": [
       "0.09057611740916587"
      ]
     },
     "execution_count": 87,
     "metadata": {},
     "output_type": "execute_result"
    }
   ],
   "source": [
    "fit.random_effects[0][\"Group Var\"]"
   ]
  },
  {
   "cell_type": "code",
   "execution_count": 88,
   "metadata": {},
   "outputs": [
    {
     "data": {
      "text/plain": [
       "0       5.295523\n",
       "1       1.668555\n",
       "2       5.295523\n",
       "3      -4.147552\n",
       "4      -4.147552\n",
       "          ...   \n",
       "9995   -4.147552\n",
       "9996    1.668555\n",
       "9997   -0.318496\n",
       "9998   -4.114896\n",
       "9999   -4.147552\n",
       "Name: i, Length: 10000, dtype: category\n",
       "Categories (7, float64): [0.090576, 1.668555, -4.147552, 5.295523, 1.526290, -0.318496, -4.114896]"
      ]
     },
     "execution_count": 88,
     "metadata": {},
     "output_type": "execute_result"
    }
   ],
   "source": [
    "df_test[\"i\"].map(lambda i: fit.random_effects[i][\"Group Var\"])"
   ]
  },
  {
   "cell_type": "code",
   "execution_count": null,
   "metadata": {},
   "outputs": [],
   "source": [
    "mixed_preds = fit.predict(df_test[[\"Intercept\"]]) + df_test[\"i\"].map(\n",
    "    lambda i: fit.random_effects[i][\"Group Var\"]\n",
    ").astype(float)"
   ]
  },
  {
   "cell_type": "code",
   "execution_count": 90,
   "metadata": {},
   "outputs": [
    {
     "data": {
      "text/plain": [
       "55.1060139787531"
      ]
     },
     "execution_count": 90,
     "metadata": {},
     "output_type": "execute_result"
    }
   ],
   "source": [
    "mean_squared_error(y_test, mixed_preds)"
   ]
  },
  {
   "cell_type": "code",
   "execution_count": null,
   "metadata": {},
   "outputs": [],
   "source": []
  }
 ],
 "metadata": {
  "kernelspec": {
   "display_name": ".venv",
   "language": "python",
   "name": "python3"
  },
  "language_info": {
   "codemirror_mode": {
    "name": "ipython",
    "version": 3
   },
   "file_extension": ".py",
   "mimetype": "text/x-python",
   "name": "python",
   "nbconvert_exporter": "python",
   "pygments_lexer": "ipython3",
   "version": "3.12.9"
  }
 },
 "nbformat": 4,
 "nbformat_minor": 2
}
