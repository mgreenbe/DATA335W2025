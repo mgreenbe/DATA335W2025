{
 "cells": [
  {
   "cell_type": "code",
   "execution_count": 1,
   "metadata": {},
   "outputs": [],
   "source": [
    "import numpy as np\n",
    "import scipy.stats as stats\n",
    "from matplotlib import pyplot as plt"
   ]
  },
  {
   "cell_type": "markdown",
   "metadata": {},
   "source": [
    "# 1. Fundamentals"
   ]
  },
  {
   "cell_type": "markdown",
   "metadata": {},
   "source": [
    "## Statistical Inference (GHV Chapter 4)"
   ]
  },
  {
   "cell_type": "markdown",
   "metadata": {},
   "source": [
    "### Sampling distributions (GHV &sect; 4.1)\n",
    "\n",
    "**Example:** Sampling distributions of $\\bar{x}$ and $s^2$."
   ]
  },
  {
   "cell_type": "code",
   "execution_count": 2,
   "metadata": {},
   "outputs": [
    {
     "data": {
      "image/png": "[encoded data removed]",
      "text/plain": [
       "<Figure size 640x480 with 1 Axes>"
      ]
     },
     "metadata": {},
     "output_type": "display_data"
    }
   ],
   "source": [
    "d = stats.norm()  # N(0, 1)\n",
    "m = 10_000\n",
    "n = 5\n",
    "x = d.rvs(size=(m, n))\n",
    "xbar = x.mean(axis=1)\n",
    "plt.hist(xbar, bins=30)\n",
    "plt.title(\"Distribution of sample means, $x\\\\sim N(0, 1)$\")\n",
    "plt.show()"
   ]
  },
  {
   "cell_type": "markdown",
   "metadata": {},
   "source": [
    "### Standard error\n",
    "\n",
    "- **standard error** means \"standard deviation\" or \"estimate of standard deviation\"\n",
    "\n",
    "- $\\displaystyle\\operatorname{se}(\\bar{x}) = \\frac{\\operatorname{se}(x)}{\\sqrt{n}}$"
   ]
  },
  {
   "cell_type": "markdown",
   "metadata": {},
   "source": [
    "### Bionomial proportion\n",
    "\n",
    "- $y\\sim \\operatorname{Bin}(n, p)$\n",
    "\n",
    "- $\\displaystyle\\hat{p}=\\frac{y}{n}$\n",
    "\n",
    "- $\\displaystyle\\operatorname{se}(\\hat{p})=\\sqrt{\\frac{\\hat{p}(1 - \\hat{p})}{n}}$"
   ]
  },
  {
   "cell_type": "markdown",
   "metadata": {},
   "source": [
    "**Example:** In a survey of university students, 57 out of 146 of male respondents say they regularly tweeze their eyebrows.\n",
    "\n",
    "Use a binomial model to estimate the proportion $p$ of male student eyebrow tweezers, and its standard error."
   ]
  },
  {
   "cell_type": "code",
   "execution_count": null,
   "metadata": {},
   "outputs": [],
   "source": []
  },
  {
   "cell_type": "markdown",
   "metadata": {},
   "source": [
    "### The Central Limit Theorem (CLT)\n",
    "\n",
    "$$\n",
    "\\text{distribution of $\\bar{x}$}\\approx\n",
    "N(\\mu, \\sigma^2/n)\n",
    "$$"
   ]
  },
  {
   "cell_type": "code",
   "execution_count": null,
   "metadata": {},
   "outputs": [],
   "source": []
  },
  {
   "cell_type": "markdown",
   "metadata": {},
   "source": [
    "### Confidence intervals for the mean\n",
    "\n",
    "$$\n",
    "\\text{$100(1-\\alpha)$\\%-CI} =\n",
    "        [\\bar{x} \\pm z_{\\alpha/2}\\operatorname{se}(\\bar{x})]\n",
    "$$\n",
    "\n",
    "**Example:**\n",
    "Give the $95$\\%-CI for the proportion of male student eyebrow tweezers."
   ]
  },
  {
   "cell_type": "code",
   "execution_count": null,
   "metadata": {},
   "outputs": [],
   "source": []
  },
  {
   "cell_type": "markdown",
   "metadata": {},
   "source": [
    "### Combining means and proportions\n",
    "\n",
    "$$\n",
    "\\operatorname{se}(x\\pm y) = \\sqrt{\\operatorname{se}(x)^2 + \\operatorname{se}(y)^2}\\qquad (\\text{$x$, $y$ indep.})\n",
    "$$\n",
    "\n",
    "**Example:**\n",
    "In a survey of voting intentions, 57\\% of 400 men 45\\% of 600 women\n",
    "say they plan to vote for the Republican candidate in an upcoming election. Estimate the **gender gap**,\n",
    "its standard error, and its 99.9%-confidence interval.\n"
   ]
  },
  {
   "cell_type": "code",
   "execution_count": null,
   "metadata": {},
   "outputs": [],
   "source": []
  },
  {
   "cell_type": "markdown",
   "metadata": {},
   "source": [
    "### A goodness of fit test (cf. GHV &sect;4.6)"
   ]
  },
  {
   "cell_type": "markdown",
   "metadata": {},
   "source": [
    "**Example:** The 1000 votes in an election with two candidates, A and B, are tallied $m=10$ batches of $n=100$. The counters report the following batch tallies $y_i$, $i < 10$, for candidate A:\n",
    "$$\n",
    "61,\\, 64,\\, 54,\\, 61,\\, 59,\\, 58,\\, 65,\\, 62,\\, 61,\\, 59\n",
    "$$\n",
    "Candidate B protests, suggesting these results exhibit implausible uniformity.\n",
    "Does he have a case?\n",
    "Analyze using the **test statistic**\n",
    "$$\n",
    "T = \\left(\\frac1{\\bar{y}} + \\frac1{n - \\bar{y}}\\right)\\sum_{i<m} (y_i - \\bar{y})^2.\n",
    "$$"
   ]
  },
  {
   "cell_type": "markdown",
   "metadata": {},
   "source": [
    "## Simulation (GHV Chapter 5)"
   ]
  },
  {
   "cell_type": "code",
   "execution_count": null,
   "metadata": {},
   "outputs": [],
   "source": []
  }
 ],
 "metadata": {
  "kernelspec": {
   "display_name": ".venv",
   "language": "python",
   "name": "python3"
  },
  "language_info": {
   "codemirror_mode": {
    "name": "ipython",
    "version": 3
   },
   "file_extension": ".py",
   "mimetype": "text/x-python",
   "name": "python",
   "nbconvert_exporter": "python",
   "pygments_lexer": "ipython3",
   "version": "3.13.0"
  }
 },
 "nbformat": 4,
 "nbformat_minor": 2
}
